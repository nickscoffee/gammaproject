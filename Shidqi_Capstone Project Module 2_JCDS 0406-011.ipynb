{
 "cells": [
  {
   "cell_type": "markdown",
   "metadata": {},
   "source": [
    "## **Capstone Project 2: Customer Relationship Management Analysis of Gamma**\n",
    "\n",
    "**JCDS 0406 011 - Muhamad Shidqi**"
   ]
  },
  {
   "cell_type": "markdown",
   "metadata": {},
   "source": [
    "# Background Statement\n",
    "\n",
    "Gamma is software as a service (SaaS) company based at United State of America who selling software for other companies (B2B) and delivered it to customer via Amazon Web Service (AWS) platform. Gamma offer software as innovative solution that fit for some industries.\n",
    "\n",
    "After four years of operation Gamma have a good financial performance, this indicate from profit that Gamma make from 2020 to 2023. Based on that condition, Board of Gamma think this is the right time to have Gamma Customer Relation Management Program who called GCRM.\n",
    "\n",
    "Purpose of GCRM are intended to improve customer-company connections by effectively understanding, managing, and utilizing customer interactions. Gamma want to increase customer satisfaction by providing specialized services, increase loyalty by responding of particular desires, increase revenue by finding opportunities or streamline operations, and provide a deeper understanding of clients through data analysis. GCRM in the final phases want develops better and more lasting relationships between Gamma and their consumers by prioritizing customer demands and experiences.\n",
    "\n",
    "Board decide first phase of GCRM implementation are have branchs office in several countries outside USA as representative council of Gamma. The branch will consist of Account Manager who will be assigned to assist Gamma customer in the country."
   ]
  },
  {
   "cell_type": "markdown",
   "metadata": {},
   "source": [
    "## Problem Statement\n",
    "As first phase implementation of GCRM, company want know **which city that suit for the branch location** and **what product in that countries in the subregion that have most customer**. This information will help Gamma to choose city for the branch and background field for the members of the branch in the country.\n",
    "\n",
    "From the explanation above, we conclude some questions:\n",
    "\n",
    "1. What country and city that meet the criterias for branch location?\n",
    "\n",
    "2. What product at subregion of the branch location who have most customers?\n",
    "\n",
    "As a **data analyst**, we will try to answer the question above.\n",
    "\n"
   ]
  },
  {
   "cell_type": "markdown",
   "metadata": {},
   "source": [
    "## Objective\n",
    "Our objective are:\n",
    "\n",
    "1. Examine country and city that meet criterias.\n",
    "\n",
    "2. Examine city and products that have most customers in the country."
   ]
  },
  {
   "cell_type": "markdown",
   "metadata": {},
   "source": [
    "# Data\n",
    "To achive our objective, let's analyze Gamma Sales Dataser that provide by company. The dataset can be access here : "
   ]
  },
  {
   "cell_type": "code",
   "execution_count": 134,
   "metadata": {},
   "outputs": [],
   "source": [
    "import numpy as np\n",
    "import pandas as pd\n",
    "import matplotlib.pyplot as plt\n",
    "import seaborn as sns\n",
    "import plotly.express as px\n",
    "import plotly.graph_objects as go\n",
    "from plotly.subplots import make_subplots"
   ]
  },
  {
   "cell_type": "code",
   "execution_count": 135,
   "metadata": {},
   "outputs": [
    {
     "data": {
      "text/html": [
       "<div>\n",
       "<style scoped>\n",
       "    .dataframe tbody tr th:only-of-type {\n",
       "        vertical-align: middle;\n",
       "    }\n",
       "\n",
       "    .dataframe tbody tr th {\n",
       "        vertical-align: top;\n",
       "    }\n",
       "\n",
       "    .dataframe thead th {\n",
       "        text-align: right;\n",
       "    }\n",
       "</style>\n",
       "<table border=\"1\" class=\"dataframe\">\n",
       "  <thead>\n",
       "    <tr style=\"text-align: right;\">\n",
       "      <th></th>\n",
       "      <th>Row ID</th>\n",
       "      <th>Order ID</th>\n",
       "      <th>Order Date</th>\n",
       "      <th>Date Key</th>\n",
       "      <th>Contact Name</th>\n",
       "      <th>Country</th>\n",
       "      <th>City</th>\n",
       "      <th>Region</th>\n",
       "      <th>Subregion</th>\n",
       "      <th>Customer</th>\n",
       "      <th>Customer ID</th>\n",
       "      <th>Industry</th>\n",
       "      <th>Segment</th>\n",
       "      <th>Product</th>\n",
       "      <th>License</th>\n",
       "      <th>Sales</th>\n",
       "      <th>Quantity</th>\n",
       "      <th>Discount</th>\n",
       "      <th>Profit</th>\n",
       "    </tr>\n",
       "  </thead>\n",
       "  <tbody>\n",
       "    <tr>\n",
       "      <th>0</th>\n",
       "      <td>1</td>\n",
       "      <td>EMEA-2022-152156</td>\n",
       "      <td>11/9/2022</td>\n",
       "      <td>20221109</td>\n",
       "      <td>Nathan Bell</td>\n",
       "      <td>Ireland</td>\n",
       "      <td>Dublin</td>\n",
       "      <td>EMEA</td>\n",
       "      <td>UKIR</td>\n",
       "      <td>Chevron</td>\n",
       "      <td>1017</td>\n",
       "      <td>Energy</td>\n",
       "      <td>SMB</td>\n",
       "      <td>Marketing Suite</td>\n",
       "      <td>16GRM07R1K</td>\n",
       "      <td>261.9600</td>\n",
       "      <td>2</td>\n",
       "      <td>0.00</td>\n",
       "      <td>41.9136</td>\n",
       "    </tr>\n",
       "    <tr>\n",
       "      <th>1</th>\n",
       "      <td>2</td>\n",
       "      <td>EMEA-2022-152156</td>\n",
       "      <td>11/9/2022</td>\n",
       "      <td>20221109</td>\n",
       "      <td>Nathan Bell</td>\n",
       "      <td>Ireland</td>\n",
       "      <td>Dublin</td>\n",
       "      <td>EMEA</td>\n",
       "      <td>UKIR</td>\n",
       "      <td>Chevron</td>\n",
       "      <td>1017</td>\n",
       "      <td>Energy</td>\n",
       "      <td>SMB</td>\n",
       "      <td>FinanceHub</td>\n",
       "      <td>QLIW57KZUV</td>\n",
       "      <td>731.9400</td>\n",
       "      <td>3</td>\n",
       "      <td>0.00</td>\n",
       "      <td>219.5820</td>\n",
       "    </tr>\n",
       "    <tr>\n",
       "      <th>2</th>\n",
       "      <td>3</td>\n",
       "      <td>AMER-2022-138688</td>\n",
       "      <td>6/13/2022</td>\n",
       "      <td>20220613</td>\n",
       "      <td>Deirdre Bailey</td>\n",
       "      <td>United States</td>\n",
       "      <td>New York City</td>\n",
       "      <td>AMER</td>\n",
       "      <td>NAMER</td>\n",
       "      <td>Phillips 66</td>\n",
       "      <td>1056</td>\n",
       "      <td>Energy</td>\n",
       "      <td>Strategic</td>\n",
       "      <td>FinanceHub</td>\n",
       "      <td>JI6BVL70HQ</td>\n",
       "      <td>14.6200</td>\n",
       "      <td>2</td>\n",
       "      <td>0.00</td>\n",
       "      <td>6.8714</td>\n",
       "    </tr>\n",
       "    <tr>\n",
       "      <th>3</th>\n",
       "      <td>4</td>\n",
       "      <td>EMEA-2021-108966</td>\n",
       "      <td>10/11/2021</td>\n",
       "      <td>20211011</td>\n",
       "      <td>Zoe Hodges</td>\n",
       "      <td>Germany</td>\n",
       "      <td>Stuttgart</td>\n",
       "      <td>EMEA</td>\n",
       "      <td>EU-WEST</td>\n",
       "      <td>Royal Dutch Shell</td>\n",
       "      <td>1031</td>\n",
       "      <td>Energy</td>\n",
       "      <td>SMB</td>\n",
       "      <td>ContactMatcher</td>\n",
       "      <td>DE9GJKGD44</td>\n",
       "      <td>957.5775</td>\n",
       "      <td>5</td>\n",
       "      <td>0.45</td>\n",
       "      <td>-383.0310</td>\n",
       "    </tr>\n",
       "    <tr>\n",
       "      <th>4</th>\n",
       "      <td>5</td>\n",
       "      <td>EMEA-2021-108966</td>\n",
       "      <td>10/11/2021</td>\n",
       "      <td>20211011</td>\n",
       "      <td>Zoe Hodges</td>\n",
       "      <td>Germany</td>\n",
       "      <td>Stuttgart</td>\n",
       "      <td>EMEA</td>\n",
       "      <td>EU-WEST</td>\n",
       "      <td>Royal Dutch Shell</td>\n",
       "      <td>1031</td>\n",
       "      <td>Energy</td>\n",
       "      <td>SMB</td>\n",
       "      <td>Marketing Suite - Gold</td>\n",
       "      <td>OIF7NY23WD</td>\n",
       "      <td>22.3680</td>\n",
       "      <td>2</td>\n",
       "      <td>0.20</td>\n",
       "      <td>2.5164</td>\n",
       "    </tr>\n",
       "    <tr>\n",
       "      <th>...</th>\n",
       "      <td>...</td>\n",
       "      <td>...</td>\n",
       "      <td>...</td>\n",
       "      <td>...</td>\n",
       "      <td>...</td>\n",
       "      <td>...</td>\n",
       "      <td>...</td>\n",
       "      <td>...</td>\n",
       "      <td>...</td>\n",
       "      <td>...</td>\n",
       "      <td>...</td>\n",
       "      <td>...</td>\n",
       "      <td>...</td>\n",
       "      <td>...</td>\n",
       "      <td>...</td>\n",
       "      <td>...</td>\n",
       "      <td>...</td>\n",
       "      <td>...</td>\n",
       "      <td>...</td>\n",
       "    </tr>\n",
       "    <tr>\n",
       "      <th>9989</th>\n",
       "      <td>9990</td>\n",
       "      <td>EMEA-2020-110422</td>\n",
       "      <td>1/22/2020</td>\n",
       "      <td>20200122</td>\n",
       "      <td>Dan Allan</td>\n",
       "      <td>Germany</td>\n",
       "      <td>Hamburg</td>\n",
       "      <td>EMEA</td>\n",
       "      <td>EU-WEST</td>\n",
       "      <td>Johnson &amp; Johnson</td>\n",
       "      <td>1055</td>\n",
       "      <td>Healthcare</td>\n",
       "      <td>SMB</td>\n",
       "      <td>SaaS Connector Pack</td>\n",
       "      <td>ETHXMB5TMD</td>\n",
       "      <td>25.2480</td>\n",
       "      <td>3</td>\n",
       "      <td>0.20</td>\n",
       "      <td>4.1028</td>\n",
       "    </tr>\n",
       "    <tr>\n",
       "      <th>9990</th>\n",
       "      <td>9991</td>\n",
       "      <td>AMER-2023-121258</td>\n",
       "      <td>2/27/2023</td>\n",
       "      <td>20230227</td>\n",
       "      <td>Anthony Sanderson</td>\n",
       "      <td>United States</td>\n",
       "      <td>Milwaukee</td>\n",
       "      <td>AMER</td>\n",
       "      <td>NAMER</td>\n",
       "      <td>American Express</td>\n",
       "      <td>1005</td>\n",
       "      <td>Finance</td>\n",
       "      <td>SMB</td>\n",
       "      <td>SaaS Connector Pack</td>\n",
       "      <td>LYHOKTRY7L</td>\n",
       "      <td>91.9600</td>\n",
       "      <td>2</td>\n",
       "      <td>0.00</td>\n",
       "      <td>15.6332</td>\n",
       "    </tr>\n",
       "    <tr>\n",
       "      <th>9991</th>\n",
       "      <td>9992</td>\n",
       "      <td>AMER-2023-121258</td>\n",
       "      <td>2/27/2023</td>\n",
       "      <td>20230227</td>\n",
       "      <td>Anthony Sanderson</td>\n",
       "      <td>United States</td>\n",
       "      <td>Milwaukee</td>\n",
       "      <td>AMER</td>\n",
       "      <td>NAMER</td>\n",
       "      <td>American Express</td>\n",
       "      <td>1005</td>\n",
       "      <td>Finance</td>\n",
       "      <td>SMB</td>\n",
       "      <td>Site Analytics</td>\n",
       "      <td>I5SVMI6M88</td>\n",
       "      <td>258.5760</td>\n",
       "      <td>2</td>\n",
       "      <td>0.20</td>\n",
       "      <td>19.3932</td>\n",
       "    </tr>\n",
       "    <tr>\n",
       "      <th>9992</th>\n",
       "      <td>9993</td>\n",
       "      <td>AMER-2023-121258</td>\n",
       "      <td>2/27/2023</td>\n",
       "      <td>20230227</td>\n",
       "      <td>Anthony Sanderson</td>\n",
       "      <td>United States</td>\n",
       "      <td>Milwaukee</td>\n",
       "      <td>AMER</td>\n",
       "      <td>NAMER</td>\n",
       "      <td>American Express</td>\n",
       "      <td>1005</td>\n",
       "      <td>Finance</td>\n",
       "      <td>SMB</td>\n",
       "      <td>Support</td>\n",
       "      <td>JHLW4P6LQ2</td>\n",
       "      <td>29.6000</td>\n",
       "      <td>4</td>\n",
       "      <td>0.00</td>\n",
       "      <td>13.3200</td>\n",
       "    </tr>\n",
       "    <tr>\n",
       "      <th>9993</th>\n",
       "      <td>9994</td>\n",
       "      <td>AMER-2023-119914</td>\n",
       "      <td>5/5/2023</td>\n",
       "      <td>20230505</td>\n",
       "      <td>Jasmine Springer</td>\n",
       "      <td>United States</td>\n",
       "      <td>Dallas</td>\n",
       "      <td>AMER</td>\n",
       "      <td>NAMER</td>\n",
       "      <td>Comcast</td>\n",
       "      <td>1022</td>\n",
       "      <td>Communications</td>\n",
       "      <td>SMB</td>\n",
       "      <td>OneView</td>\n",
       "      <td>3NTBV9B3PS</td>\n",
       "      <td>243.1600</td>\n",
       "      <td>2</td>\n",
       "      <td>0.00</td>\n",
       "      <td>72.9480</td>\n",
       "    </tr>\n",
       "  </tbody>\n",
       "</table>\n",
       "<p>9994 rows × 19 columns</p>\n",
       "</div>"
      ],
      "text/plain": [
       "      Row ID          Order ID  Order Date  Date Key       Contact Name  \\\n",
       "0          1  EMEA-2022-152156   11/9/2022  20221109        Nathan Bell   \n",
       "1          2  EMEA-2022-152156   11/9/2022  20221109        Nathan Bell   \n",
       "2          3  AMER-2022-138688   6/13/2022  20220613     Deirdre Bailey   \n",
       "3          4  EMEA-2021-108966  10/11/2021  20211011         Zoe Hodges   \n",
       "4          5  EMEA-2021-108966  10/11/2021  20211011         Zoe Hodges   \n",
       "...      ...               ...         ...       ...                ...   \n",
       "9989    9990  EMEA-2020-110422   1/22/2020  20200122          Dan Allan   \n",
       "9990    9991  AMER-2023-121258   2/27/2023  20230227  Anthony Sanderson   \n",
       "9991    9992  AMER-2023-121258   2/27/2023  20230227  Anthony Sanderson   \n",
       "9992    9993  AMER-2023-121258   2/27/2023  20230227  Anthony Sanderson   \n",
       "9993    9994  AMER-2023-119914    5/5/2023  20230505   Jasmine Springer   \n",
       "\n",
       "            Country           City Region Subregion           Customer  \\\n",
       "0           Ireland         Dublin   EMEA      UKIR            Chevron   \n",
       "1           Ireland         Dublin   EMEA      UKIR            Chevron   \n",
       "2     United States  New York City   AMER     NAMER        Phillips 66   \n",
       "3           Germany      Stuttgart   EMEA   EU-WEST  Royal Dutch Shell   \n",
       "4           Germany      Stuttgart   EMEA   EU-WEST  Royal Dutch Shell   \n",
       "...             ...            ...    ...       ...                ...   \n",
       "9989        Germany        Hamburg   EMEA   EU-WEST  Johnson & Johnson   \n",
       "9990  United States      Milwaukee   AMER     NAMER   American Express   \n",
       "9991  United States      Milwaukee   AMER     NAMER   American Express   \n",
       "9992  United States      Milwaukee   AMER     NAMER   American Express   \n",
       "9993  United States         Dallas   AMER     NAMER            Comcast   \n",
       "\n",
       "      Customer ID        Industry    Segment                 Product  \\\n",
       "0            1017          Energy        SMB         Marketing Suite   \n",
       "1            1017          Energy        SMB              FinanceHub   \n",
       "2            1056          Energy  Strategic              FinanceHub   \n",
       "3            1031          Energy        SMB          ContactMatcher   \n",
       "4            1031          Energy        SMB  Marketing Suite - Gold   \n",
       "...           ...             ...        ...                     ...   \n",
       "9989         1055      Healthcare        SMB     SaaS Connector Pack   \n",
       "9990         1005         Finance        SMB     SaaS Connector Pack   \n",
       "9991         1005         Finance        SMB          Site Analytics   \n",
       "9992         1005         Finance        SMB                 Support   \n",
       "9993         1022  Communications        SMB                 OneView   \n",
       "\n",
       "         License     Sales  Quantity  Discount    Profit  \n",
       "0     16GRM07R1K  261.9600         2      0.00   41.9136  \n",
       "1     QLIW57KZUV  731.9400         3      0.00  219.5820  \n",
       "2     JI6BVL70HQ   14.6200         2      0.00    6.8714  \n",
       "3     DE9GJKGD44  957.5775         5      0.45 -383.0310  \n",
       "4     OIF7NY23WD   22.3680         2      0.20    2.5164  \n",
       "...          ...       ...       ...       ...       ...  \n",
       "9989  ETHXMB5TMD   25.2480         3      0.20    4.1028  \n",
       "9990  LYHOKTRY7L   91.9600         2      0.00   15.6332  \n",
       "9991  I5SVMI6M88  258.5760         2      0.20   19.3932  \n",
       "9992  JHLW4P6LQ2   29.6000         4      0.00   13.3200  \n",
       "9993  3NTBV9B3PS  243.1600         2      0.00   72.9480  \n",
       "\n",
       "[9994 rows x 19 columns]"
      ]
     },
     "execution_count": 135,
     "metadata": {},
     "output_type": "execute_result"
    }
   ],
   "source": [
    "source = pd.read_csv('Gamma-Sales.csv')\n",
    "source"
   ]
  },
  {
   "cell_type": "markdown",
   "metadata": {},
   "source": [
    "## Data Understanding and Cleaning\n",
    "Before we go to analysis, we should known our dataset condition to have better data understanding. From this stage, we will know anomalies that exist inside our dataset and we need take care that anomalies in data wrangling and cleaning process. All things that we have done with these anomalies will be have explanations from domain knowledge or statistic wise. \n",
    "\n",
    "First, we let's see general information about this dataset."
   ]
  },
  {
   "cell_type": "code",
   "execution_count": 136,
   "metadata": {},
   "outputs": [
    {
     "name": "stdout",
     "output_type": "stream",
     "text": [
      "Total data and columns in Saas Sales dataset is 9994 rows and 19 columns.\n",
      "<class 'pandas.core.frame.DataFrame'>\n",
      "RangeIndex: 9994 entries, 0 to 9993\n",
      "Data columns (total 19 columns):\n",
      " #   Column        Non-Null Count  Dtype  \n",
      "---  ------        --------------  -----  \n",
      " 0   Row ID        9994 non-null   int64  \n",
      " 1   Order ID      9994 non-null   object \n",
      " 2   Order Date    9994 non-null   object \n",
      " 3   Date Key      9994 non-null   int64  \n",
      " 4   Contact Name  9994 non-null   object \n",
      " 5   Country       9994 non-null   object \n",
      " 6   City          9994 non-null   object \n",
      " 7   Region        9994 non-null   object \n",
      " 8   Subregion     9994 non-null   object \n",
      " 9   Customer      9994 non-null   object \n",
      " 10  Customer ID   9994 non-null   int64  \n",
      " 11  Industry      9994 non-null   object \n",
      " 12  Segment       9994 non-null   object \n",
      " 13  Product       9994 non-null   object \n",
      " 14  License       9994 non-null   object \n",
      " 15  Sales         9994 non-null   float64\n",
      " 16  Quantity      9994 non-null   int64  \n",
      " 17  Discount      9994 non-null   float64\n",
      " 18  Profit        9994 non-null   float64\n",
      "dtypes: float64(3), int64(4), object(12)\n",
      "memory usage: 1.4+ MB\n"
     ]
    }
   ],
   "source": [
    "print(f'Total data and columns in Saas Sales dataset is {source.shape[0]} rows and {source.shape[1]} columns.')\n",
    "source.info()"
   ]
  },
  {
   "cell_type": "code",
   "execution_count": 137,
   "metadata": {},
   "outputs": [
    {
     "data": {
      "text/html": [
       "<div>\n",
       "<style scoped>\n",
       "    .dataframe tbody tr th:only-of-type {\n",
       "        vertical-align: middle;\n",
       "    }\n",
       "\n",
       "    .dataframe tbody tr th {\n",
       "        vertical-align: top;\n",
       "    }\n",
       "\n",
       "    .dataframe thead th {\n",
       "        text-align: right;\n",
       "    }\n",
       "</style>\n",
       "<table border=\"1\" class=\"dataframe\">\n",
       "  <thead>\n",
       "    <tr style=\"text-align: right;\">\n",
       "      <th></th>\n",
       "      <th>Row ID</th>\n",
       "      <th>Date Key</th>\n",
       "      <th>Customer ID</th>\n",
       "      <th>Sales</th>\n",
       "      <th>Quantity</th>\n",
       "      <th>Discount</th>\n",
       "      <th>Profit</th>\n",
       "    </tr>\n",
       "  </thead>\n",
       "  <tbody>\n",
       "    <tr>\n",
       "      <th>count</th>\n",
       "      <td>9994.000000</td>\n",
       "      <td>9.994000e+03</td>\n",
       "      <td>9994.000000</td>\n",
       "      <td>9994.000000</td>\n",
       "      <td>9994.000000</td>\n",
       "      <td>9994.000000</td>\n",
       "      <td>9994.000000</td>\n",
       "    </tr>\n",
       "    <tr>\n",
       "      <th>mean</th>\n",
       "      <td>4997.500000</td>\n",
       "      <td>2.021803e+07</td>\n",
       "      <td>1049.771963</td>\n",
       "      <td>229.858001</td>\n",
       "      <td>3.789574</td>\n",
       "      <td>0.156203</td>\n",
       "      <td>28.656896</td>\n",
       "    </tr>\n",
       "    <tr>\n",
       "      <th>std</th>\n",
       "      <td>2885.163629</td>\n",
       "      <td>1.123898e+04</td>\n",
       "      <td>29.719388</td>\n",
       "      <td>623.245101</td>\n",
       "      <td>2.225110</td>\n",
       "      <td>0.206452</td>\n",
       "      <td>234.260108</td>\n",
       "    </tr>\n",
       "    <tr>\n",
       "      <th>min</th>\n",
       "      <td>1.000000</td>\n",
       "      <td>2.020010e+07</td>\n",
       "      <td>1001.000000</td>\n",
       "      <td>0.444000</td>\n",
       "      <td>1.000000</td>\n",
       "      <td>0.000000</td>\n",
       "      <td>-6599.978000</td>\n",
       "    </tr>\n",
       "    <tr>\n",
       "      <th>25%</th>\n",
       "      <td>2499.250000</td>\n",
       "      <td>2.021052e+07</td>\n",
       "      <td>1024.000000</td>\n",
       "      <td>17.280000</td>\n",
       "      <td>2.000000</td>\n",
       "      <td>0.000000</td>\n",
       "      <td>1.728750</td>\n",
       "    </tr>\n",
       "    <tr>\n",
       "      <th>50%</th>\n",
       "      <td>4997.500000</td>\n",
       "      <td>2.022063e+07</td>\n",
       "      <td>1049.000000</td>\n",
       "      <td>54.490000</td>\n",
       "      <td>3.000000</td>\n",
       "      <td>0.200000</td>\n",
       "      <td>8.666500</td>\n",
       "    </tr>\n",
       "    <tr>\n",
       "      <th>75%</th>\n",
       "      <td>7495.750000</td>\n",
       "      <td>2.023052e+07</td>\n",
       "      <td>1076.000000</td>\n",
       "      <td>209.940000</td>\n",
       "      <td>5.000000</td>\n",
       "      <td>0.200000</td>\n",
       "      <td>29.364000</td>\n",
       "    </tr>\n",
       "    <tr>\n",
       "      <th>max</th>\n",
       "      <td>9994.000000</td>\n",
       "      <td>2.023123e+07</td>\n",
       "      <td>1101.000000</td>\n",
       "      <td>22638.480000</td>\n",
       "      <td>14.000000</td>\n",
       "      <td>0.800000</td>\n",
       "      <td>8399.976000</td>\n",
       "    </tr>\n",
       "  </tbody>\n",
       "</table>\n",
       "</div>"
      ],
      "text/plain": [
       "            Row ID      Date Key  Customer ID         Sales     Quantity  \\\n",
       "count  9994.000000  9.994000e+03  9994.000000   9994.000000  9994.000000   \n",
       "mean   4997.500000  2.021803e+07  1049.771963    229.858001     3.789574   \n",
       "std    2885.163629  1.123898e+04    29.719388    623.245101     2.225110   \n",
       "min       1.000000  2.020010e+07  1001.000000      0.444000     1.000000   \n",
       "25%    2499.250000  2.021052e+07  1024.000000     17.280000     2.000000   \n",
       "50%    4997.500000  2.022063e+07  1049.000000     54.490000     3.000000   \n",
       "75%    7495.750000  2.023052e+07  1076.000000    209.940000     5.000000   \n",
       "max    9994.000000  2.023123e+07  1101.000000  22638.480000    14.000000   \n",
       "\n",
       "          Discount       Profit  \n",
       "count  9994.000000  9994.000000  \n",
       "mean      0.156203    28.656896  \n",
       "std       0.206452   234.260108  \n",
       "min       0.000000 -6599.978000  \n",
       "25%       0.000000     1.728750  \n",
       "50%       0.200000     8.666500  \n",
       "75%       0.200000    29.364000  \n",
       "max       0.800000  8399.976000  "
      ]
     },
     "metadata": {},
     "output_type": "display_data"
    },
    {
     "data": {
      "text/html": [
       "<div>\n",
       "<style scoped>\n",
       "    .dataframe tbody tr th:only-of-type {\n",
       "        vertical-align: middle;\n",
       "    }\n",
       "\n",
       "    .dataframe tbody tr th {\n",
       "        vertical-align: top;\n",
       "    }\n",
       "\n",
       "    .dataframe thead th {\n",
       "        text-align: right;\n",
       "    }\n",
       "</style>\n",
       "<table border=\"1\" class=\"dataframe\">\n",
       "  <thead>\n",
       "    <tr style=\"text-align: right;\">\n",
       "      <th></th>\n",
       "      <th>Order ID</th>\n",
       "      <th>Order Date</th>\n",
       "      <th>Contact Name</th>\n",
       "      <th>Country</th>\n",
       "      <th>City</th>\n",
       "      <th>Region</th>\n",
       "      <th>Subregion</th>\n",
       "      <th>Customer</th>\n",
       "      <th>Industry</th>\n",
       "      <th>Segment</th>\n",
       "      <th>Product</th>\n",
       "      <th>License</th>\n",
       "    </tr>\n",
       "  </thead>\n",
       "  <tbody>\n",
       "    <tr>\n",
       "      <th>count</th>\n",
       "      <td>9994</td>\n",
       "      <td>9994</td>\n",
       "      <td>9994</td>\n",
       "      <td>9994</td>\n",
       "      <td>9994</td>\n",
       "      <td>9994</td>\n",
       "      <td>9994</td>\n",
       "      <td>9994</td>\n",
       "      <td>9994</td>\n",
       "      <td>9994</td>\n",
       "      <td>9994</td>\n",
       "      <td>9994</td>\n",
       "    </tr>\n",
       "    <tr>\n",
       "      <th>unique</th>\n",
       "      <td>5009</td>\n",
       "      <td>1237</td>\n",
       "      <td>793</td>\n",
       "      <td>48</td>\n",
       "      <td>262</td>\n",
       "      <td>3</td>\n",
       "      <td>12</td>\n",
       "      <td>99</td>\n",
       "      <td>10</td>\n",
       "      <td>3</td>\n",
       "      <td>14</td>\n",
       "      <td>9994</td>\n",
       "    </tr>\n",
       "    <tr>\n",
       "      <th>top</th>\n",
       "      <td>EMEA-2023-100111</td>\n",
       "      <td>9/6/2022</td>\n",
       "      <td>Leonard Kelly</td>\n",
       "      <td>United States</td>\n",
       "      <td>London</td>\n",
       "      <td>EMEA</td>\n",
       "      <td>NAMER</td>\n",
       "      <td>Allianz</td>\n",
       "      <td>Finance</td>\n",
       "      <td>SMB</td>\n",
       "      <td>ContactMatcher</td>\n",
       "      <td>16GRM07R1K</td>\n",
       "    </tr>\n",
       "    <tr>\n",
       "      <th>freq</th>\n",
       "      <td>14</td>\n",
       "      <td>38</td>\n",
       "      <td>37</td>\n",
       "      <td>2001</td>\n",
       "      <td>922</td>\n",
       "      <td>4219</td>\n",
       "      <td>2507</td>\n",
       "      <td>192</td>\n",
       "      <td>2127</td>\n",
       "      <td>5191</td>\n",
       "      <td>1842</td>\n",
       "      <td>1</td>\n",
       "    </tr>\n",
       "  </tbody>\n",
       "</table>\n",
       "</div>"
      ],
      "text/plain": [
       "                Order ID Order Date   Contact Name        Country    City  \\\n",
       "count               9994       9994           9994           9994    9994   \n",
       "unique              5009       1237            793             48     262   \n",
       "top     EMEA-2023-100111   9/6/2022  Leonard Kelly  United States  London   \n",
       "freq                  14         38             37           2001     922   \n",
       "\n",
       "       Region Subregion Customer Industry Segment         Product     License  \n",
       "count    9994      9994     9994     9994    9994            9994        9994  \n",
       "unique      3        12       99       10       3              14        9994  \n",
       "top      EMEA     NAMER  Allianz  Finance     SMB  ContactMatcher  16GRM07R1K  \n",
       "freq     4219      2507      192     2127    5191            1842           1  "
      ]
     },
     "metadata": {},
     "output_type": "display_data"
    }
   ],
   "source": [
    "display(source.describe(), source.describe(include='object'))"
   ]
  },
  {
   "cell_type": "markdown",
   "metadata": {},
   "source": [
    "### Data Type\n",
    "From information above we known some columns have inappropriate data type, these columns need to change their data type:\n",
    "\n",
    "Order Date should be a ***datetime*** not ***object***;\n",
    "\n",
    "Date Key should become **Year**;\n",
    "    \n",
    "Customer ID should be a ***object*** not ***integer***; and\n",
    "\n",
    "Row ID should become **index**."
   ]
  },
  {
   "cell_type": "markdown",
   "metadata": {},
   "source": [
    "| **No** | **Column Name** |                                   **Description**                                  | **Data Type** |\n",
    "|:------:|:---------------:|:----------------------------------------------------------------------------------:|:-------------:|\n",
    "|      1 | Row ID          | A unique identifier for each transaction.                                          |     Object    |\n",
    "|      2 | Order ID        | A unique identifier for each order.                                                |     Object    |\n",
    "|      3 | Order Date      | The date when order was placed                                                     |   Date Time   |\n",
    "|      4 | Year            | A numerical representation of the order date. (Year)                               |    Integer    |\n",
    "|      5 | Contact Name    | The name of person who placed the order.                                           |     Object    |\n",
    "|      6 | Country         | The country where the order was placed.                                            |     Object    |\n",
    "|      7 | City            | The city where the order was placed.                                               |     Object    |\n",
    "|      8 | Region          | The region where the order was placed.                                             |     Object    |\n",
    "|      9 | Subregion       | The subregion where the order was placed.                                          |     Object    |\n",
    "|     10 | Customer        | The name of company that placed the order.                                         |     Object    |\n",
    "|     11 | Customer ID     | A unique identifier for each customer.                                             |     Object    |\n",
    "|     12 | Industry        | The industry the customer belongs to.                                              |     Object    |\n",
    "|     13 | Segment         | The customer segment (SMB, Enterprise, and Strategic)                              |     Object    |\n",
    "|     14 | Product         | The product was ordered.                                                           |     Object    |\n",
    "|     15 | License         | The license key for every product. Unique for every product from every transaction |     Object    |\n",
    "|     16 | Sales           | The total sales amount for the transaction in thousand USD.                        |     Float     |\n",
    "|     17 | Quantity        | The total number of items in the transaction. Minimum value is 1.                  |    Integer    |\n",
    "|     18 | Discount        | The discount applied to the transaction between range 0.0 to 1.0                   |     Float     |\n",
    "|     19 | Profit          | The profit from transaction in thousand USD.                                       |     Float     |"
   ]
  },
  {
   "cell_type": "code",
   "execution_count": 138,
   "metadata": {},
   "outputs": [
    {
     "data": {
      "text/html": [
       "<div>\n",
       "<style scoped>\n",
       "    .dataframe tbody tr th:only-of-type {\n",
       "        vertical-align: middle;\n",
       "    }\n",
       "\n",
       "    .dataframe tbody tr th {\n",
       "        vertical-align: top;\n",
       "    }\n",
       "\n",
       "    .dataframe thead th {\n",
       "        text-align: right;\n",
       "    }\n",
       "</style>\n",
       "<table border=\"1\" class=\"dataframe\">\n",
       "  <thead>\n",
       "    <tr style=\"text-align: right;\">\n",
       "      <th></th>\n",
       "      <th>Sales</th>\n",
       "      <th>Quantity</th>\n",
       "      <th>Discount</th>\n",
       "      <th>Profit</th>\n",
       "    </tr>\n",
       "  </thead>\n",
       "  <tbody>\n",
       "    <tr>\n",
       "      <th>count</th>\n",
       "      <td>9994.000000</td>\n",
       "      <td>9994.000000</td>\n",
       "      <td>9994.000000</td>\n",
       "      <td>9994.000000</td>\n",
       "    </tr>\n",
       "    <tr>\n",
       "      <th>mean</th>\n",
       "      <td>229.858001</td>\n",
       "      <td>3.789574</td>\n",
       "      <td>0.156203</td>\n",
       "      <td>28.656896</td>\n",
       "    </tr>\n",
       "    <tr>\n",
       "      <th>std</th>\n",
       "      <td>623.245101</td>\n",
       "      <td>2.225110</td>\n",
       "      <td>0.206452</td>\n",
       "      <td>234.260108</td>\n",
       "    </tr>\n",
       "    <tr>\n",
       "      <th>min</th>\n",
       "      <td>0.444000</td>\n",
       "      <td>1.000000</td>\n",
       "      <td>0.000000</td>\n",
       "      <td>-6599.978000</td>\n",
       "    </tr>\n",
       "    <tr>\n",
       "      <th>25%</th>\n",
       "      <td>17.280000</td>\n",
       "      <td>2.000000</td>\n",
       "      <td>0.000000</td>\n",
       "      <td>1.728750</td>\n",
       "    </tr>\n",
       "    <tr>\n",
       "      <th>50%</th>\n",
       "      <td>54.490000</td>\n",
       "      <td>3.000000</td>\n",
       "      <td>0.200000</td>\n",
       "      <td>8.666500</td>\n",
       "    </tr>\n",
       "    <tr>\n",
       "      <th>75%</th>\n",
       "      <td>209.940000</td>\n",
       "      <td>5.000000</td>\n",
       "      <td>0.200000</td>\n",
       "      <td>29.364000</td>\n",
       "    </tr>\n",
       "    <tr>\n",
       "      <th>max</th>\n",
       "      <td>22638.480000</td>\n",
       "      <td>14.000000</td>\n",
       "      <td>0.800000</td>\n",
       "      <td>8399.976000</td>\n",
       "    </tr>\n",
       "  </tbody>\n",
       "</table>\n",
       "</div>"
      ],
      "text/plain": [
       "              Sales     Quantity     Discount       Profit\n",
       "count   9994.000000  9994.000000  9994.000000  9994.000000\n",
       "mean     229.858001     3.789574     0.156203    28.656896\n",
       "std      623.245101     2.225110     0.206452   234.260108\n",
       "min        0.444000     1.000000     0.000000 -6599.978000\n",
       "25%       17.280000     2.000000     0.000000     1.728750\n",
       "50%       54.490000     3.000000     0.200000     8.666500\n",
       "75%      209.940000     5.000000     0.200000    29.364000\n",
       "max    22638.480000    14.000000     0.800000  8399.976000"
      ]
     },
     "metadata": {},
     "output_type": "display_data"
    },
    {
     "data": {
      "text/html": [
       "<div>\n",
       "<style scoped>\n",
       "    .dataframe tbody tr th:only-of-type {\n",
       "        vertical-align: middle;\n",
       "    }\n",
       "\n",
       "    .dataframe tbody tr th {\n",
       "        vertical-align: top;\n",
       "    }\n",
       "\n",
       "    .dataframe thead th {\n",
       "        text-align: right;\n",
       "    }\n",
       "</style>\n",
       "<table border=\"1\" class=\"dataframe\">\n",
       "  <thead>\n",
       "    <tr style=\"text-align: right;\">\n",
       "      <th></th>\n",
       "      <th>Order ID</th>\n",
       "      <th>Year</th>\n",
       "      <th>Contact Name</th>\n",
       "      <th>Country</th>\n",
       "      <th>City</th>\n",
       "      <th>Region</th>\n",
       "      <th>Subregion</th>\n",
       "      <th>Customer</th>\n",
       "      <th>Customer ID</th>\n",
       "      <th>Industry</th>\n",
       "      <th>Segment</th>\n",
       "      <th>Product</th>\n",
       "      <th>License</th>\n",
       "    </tr>\n",
       "  </thead>\n",
       "  <tbody>\n",
       "    <tr>\n",
       "      <th>count</th>\n",
       "      <td>9994</td>\n",
       "      <td>9994</td>\n",
       "      <td>9994</td>\n",
       "      <td>9994</td>\n",
       "      <td>9994</td>\n",
       "      <td>9994</td>\n",
       "      <td>9994</td>\n",
       "      <td>9994</td>\n",
       "      <td>9994</td>\n",
       "      <td>9994</td>\n",
       "      <td>9994</td>\n",
       "      <td>9994</td>\n",
       "      <td>9994</td>\n",
       "    </tr>\n",
       "    <tr>\n",
       "      <th>unique</th>\n",
       "      <td>5009</td>\n",
       "      <td>4</td>\n",
       "      <td>793</td>\n",
       "      <td>48</td>\n",
       "      <td>262</td>\n",
       "      <td>3</td>\n",
       "      <td>12</td>\n",
       "      <td>99</td>\n",
       "      <td>99</td>\n",
       "      <td>10</td>\n",
       "      <td>3</td>\n",
       "      <td>14</td>\n",
       "      <td>9994</td>\n",
       "    </tr>\n",
       "    <tr>\n",
       "      <th>top</th>\n",
       "      <td>EMEA-2023-100111</td>\n",
       "      <td>2023</td>\n",
       "      <td>Leonard Kelly</td>\n",
       "      <td>United States</td>\n",
       "      <td>London</td>\n",
       "      <td>EMEA</td>\n",
       "      <td>NAMER</td>\n",
       "      <td>Allianz</td>\n",
       "      <td>1080</td>\n",
       "      <td>Finance</td>\n",
       "      <td>SMB</td>\n",
       "      <td>ContactMatcher</td>\n",
       "      <td>16GRM07R1K</td>\n",
       "    </tr>\n",
       "    <tr>\n",
       "      <th>freq</th>\n",
       "      <td>14</td>\n",
       "      <td>3319</td>\n",
       "      <td>37</td>\n",
       "      <td>2001</td>\n",
       "      <td>922</td>\n",
       "      <td>4219</td>\n",
       "      <td>2507</td>\n",
       "      <td>192</td>\n",
       "      <td>192</td>\n",
       "      <td>2127</td>\n",
       "      <td>5191</td>\n",
       "      <td>1842</td>\n",
       "      <td>1</td>\n",
       "    </tr>\n",
       "  </tbody>\n",
       "</table>\n",
       "</div>"
      ],
      "text/plain": [
       "                Order ID  Year   Contact Name        Country    City Region  \\\n",
       "count               9994  9994           9994           9994    9994   9994   \n",
       "unique              5009     4            793             48     262      3   \n",
       "top     EMEA-2023-100111  2023  Leonard Kelly  United States  London   EMEA   \n",
       "freq                  14  3319             37           2001     922   4219   \n",
       "\n",
       "       Subregion Customer  Customer ID Industry Segment         Product  \\\n",
       "count       9994     9994         9994     9994    9994            9994   \n",
       "unique        12       99           99       10       3              14   \n",
       "top        NAMER  Allianz         1080  Finance     SMB  ContactMatcher   \n",
       "freq        2507      192          192     2127    5191            1842   \n",
       "\n",
       "           License  \n",
       "count         9994  \n",
       "unique        9994  \n",
       "top     16GRM07R1K  \n",
       "freq             1  "
      ]
     },
     "metadata": {},
     "output_type": "display_data"
    },
    {
     "data": {
      "text/html": [
       "<div>\n",
       "<style scoped>\n",
       "    .dataframe tbody tr th:only-of-type {\n",
       "        vertical-align: middle;\n",
       "    }\n",
       "\n",
       "    .dataframe tbody tr th {\n",
       "        vertical-align: top;\n",
       "    }\n",
       "\n",
       "    .dataframe thead th {\n",
       "        text-align: right;\n",
       "    }\n",
       "</style>\n",
       "<table border=\"1\" class=\"dataframe\">\n",
       "  <thead>\n",
       "    <tr style=\"text-align: right;\">\n",
       "      <th></th>\n",
       "      <th>Order ID</th>\n",
       "      <th>Order Date</th>\n",
       "      <th>Year</th>\n",
       "      <th>Contact Name</th>\n",
       "      <th>Country</th>\n",
       "      <th>City</th>\n",
       "      <th>Region</th>\n",
       "      <th>Subregion</th>\n",
       "      <th>Customer</th>\n",
       "      <th>Customer ID</th>\n",
       "      <th>Industry</th>\n",
       "      <th>Segment</th>\n",
       "      <th>Product</th>\n",
       "      <th>License</th>\n",
       "      <th>Sales</th>\n",
       "      <th>Quantity</th>\n",
       "      <th>Discount</th>\n",
       "      <th>Profit</th>\n",
       "    </tr>\n",
       "    <tr>\n",
       "      <th>Row ID</th>\n",
       "      <th></th>\n",
       "      <th></th>\n",
       "      <th></th>\n",
       "      <th></th>\n",
       "      <th></th>\n",
       "      <th></th>\n",
       "      <th></th>\n",
       "      <th></th>\n",
       "      <th></th>\n",
       "      <th></th>\n",
       "      <th></th>\n",
       "      <th></th>\n",
       "      <th></th>\n",
       "      <th></th>\n",
       "      <th></th>\n",
       "      <th></th>\n",
       "      <th></th>\n",
       "      <th></th>\n",
       "    </tr>\n",
       "  </thead>\n",
       "  <tbody>\n",
       "    <tr>\n",
       "      <th>1</th>\n",
       "      <td>EMEA-2022-152156</td>\n",
       "      <td>2022-11-09</td>\n",
       "      <td>2022</td>\n",
       "      <td>Nathan Bell</td>\n",
       "      <td>Ireland</td>\n",
       "      <td>Dublin</td>\n",
       "      <td>EMEA</td>\n",
       "      <td>UKIR</td>\n",
       "      <td>Chevron</td>\n",
       "      <td>1017</td>\n",
       "      <td>Energy</td>\n",
       "      <td>SMB</td>\n",
       "      <td>Marketing Suite</td>\n",
       "      <td>16GRM07R1K</td>\n",
       "      <td>261.9600</td>\n",
       "      <td>2</td>\n",
       "      <td>0.00</td>\n",
       "      <td>41.9136</td>\n",
       "    </tr>\n",
       "    <tr>\n",
       "      <th>2</th>\n",
       "      <td>EMEA-2022-152156</td>\n",
       "      <td>2022-11-09</td>\n",
       "      <td>2022</td>\n",
       "      <td>Nathan Bell</td>\n",
       "      <td>Ireland</td>\n",
       "      <td>Dublin</td>\n",
       "      <td>EMEA</td>\n",
       "      <td>UKIR</td>\n",
       "      <td>Chevron</td>\n",
       "      <td>1017</td>\n",
       "      <td>Energy</td>\n",
       "      <td>SMB</td>\n",
       "      <td>FinanceHub</td>\n",
       "      <td>QLIW57KZUV</td>\n",
       "      <td>731.9400</td>\n",
       "      <td>3</td>\n",
       "      <td>0.00</td>\n",
       "      <td>219.5820</td>\n",
       "    </tr>\n",
       "    <tr>\n",
       "      <th>3</th>\n",
       "      <td>AMER-2022-138688</td>\n",
       "      <td>2022-06-13</td>\n",
       "      <td>2022</td>\n",
       "      <td>Deirdre Bailey</td>\n",
       "      <td>United States</td>\n",
       "      <td>New York City</td>\n",
       "      <td>AMER</td>\n",
       "      <td>NAMER</td>\n",
       "      <td>Phillips 66</td>\n",
       "      <td>1056</td>\n",
       "      <td>Energy</td>\n",
       "      <td>Strategic</td>\n",
       "      <td>FinanceHub</td>\n",
       "      <td>JI6BVL70HQ</td>\n",
       "      <td>14.6200</td>\n",
       "      <td>2</td>\n",
       "      <td>0.00</td>\n",
       "      <td>6.8714</td>\n",
       "    </tr>\n",
       "    <tr>\n",
       "      <th>4</th>\n",
       "      <td>EMEA-2021-108966</td>\n",
       "      <td>2021-10-11</td>\n",
       "      <td>2021</td>\n",
       "      <td>Zoe Hodges</td>\n",
       "      <td>Germany</td>\n",
       "      <td>Stuttgart</td>\n",
       "      <td>EMEA</td>\n",
       "      <td>EU-WEST</td>\n",
       "      <td>Royal Dutch Shell</td>\n",
       "      <td>1031</td>\n",
       "      <td>Energy</td>\n",
       "      <td>SMB</td>\n",
       "      <td>ContactMatcher</td>\n",
       "      <td>DE9GJKGD44</td>\n",
       "      <td>957.5775</td>\n",
       "      <td>5</td>\n",
       "      <td>0.45</td>\n",
       "      <td>-383.0310</td>\n",
       "    </tr>\n",
       "    <tr>\n",
       "      <th>5</th>\n",
       "      <td>EMEA-2021-108966</td>\n",
       "      <td>2021-10-11</td>\n",
       "      <td>2021</td>\n",
       "      <td>Zoe Hodges</td>\n",
       "      <td>Germany</td>\n",
       "      <td>Stuttgart</td>\n",
       "      <td>EMEA</td>\n",
       "      <td>EU-WEST</td>\n",
       "      <td>Royal Dutch Shell</td>\n",
       "      <td>1031</td>\n",
       "      <td>Energy</td>\n",
       "      <td>SMB</td>\n",
       "      <td>Marketing Suite - Gold</td>\n",
       "      <td>OIF7NY23WD</td>\n",
       "      <td>22.3680</td>\n",
       "      <td>2</td>\n",
       "      <td>0.20</td>\n",
       "      <td>2.5164</td>\n",
       "    </tr>\n",
       "    <tr>\n",
       "      <th>...</th>\n",
       "      <td>...</td>\n",
       "      <td>...</td>\n",
       "      <td>...</td>\n",
       "      <td>...</td>\n",
       "      <td>...</td>\n",
       "      <td>...</td>\n",
       "      <td>...</td>\n",
       "      <td>...</td>\n",
       "      <td>...</td>\n",
       "      <td>...</td>\n",
       "      <td>...</td>\n",
       "      <td>...</td>\n",
       "      <td>...</td>\n",
       "      <td>...</td>\n",
       "      <td>...</td>\n",
       "      <td>...</td>\n",
       "      <td>...</td>\n",
       "      <td>...</td>\n",
       "    </tr>\n",
       "    <tr>\n",
       "      <th>9990</th>\n",
       "      <td>EMEA-2020-110422</td>\n",
       "      <td>2020-01-22</td>\n",
       "      <td>2020</td>\n",
       "      <td>Dan Allan</td>\n",
       "      <td>Germany</td>\n",
       "      <td>Hamburg</td>\n",
       "      <td>EMEA</td>\n",
       "      <td>EU-WEST</td>\n",
       "      <td>Johnson &amp; Johnson</td>\n",
       "      <td>1055</td>\n",
       "      <td>Healthcare</td>\n",
       "      <td>SMB</td>\n",
       "      <td>SaaS Connector Pack</td>\n",
       "      <td>ETHXMB5TMD</td>\n",
       "      <td>25.2480</td>\n",
       "      <td>3</td>\n",
       "      <td>0.20</td>\n",
       "      <td>4.1028</td>\n",
       "    </tr>\n",
       "    <tr>\n",
       "      <th>9991</th>\n",
       "      <td>AMER-2023-121258</td>\n",
       "      <td>2023-02-27</td>\n",
       "      <td>2023</td>\n",
       "      <td>Anthony Sanderson</td>\n",
       "      <td>United States</td>\n",
       "      <td>Milwaukee</td>\n",
       "      <td>AMER</td>\n",
       "      <td>NAMER</td>\n",
       "      <td>American Express</td>\n",
       "      <td>1005</td>\n",
       "      <td>Finance</td>\n",
       "      <td>SMB</td>\n",
       "      <td>SaaS Connector Pack</td>\n",
       "      <td>LYHOKTRY7L</td>\n",
       "      <td>91.9600</td>\n",
       "      <td>2</td>\n",
       "      <td>0.00</td>\n",
       "      <td>15.6332</td>\n",
       "    </tr>\n",
       "    <tr>\n",
       "      <th>9992</th>\n",
       "      <td>AMER-2023-121258</td>\n",
       "      <td>2023-02-27</td>\n",
       "      <td>2023</td>\n",
       "      <td>Anthony Sanderson</td>\n",
       "      <td>United States</td>\n",
       "      <td>Milwaukee</td>\n",
       "      <td>AMER</td>\n",
       "      <td>NAMER</td>\n",
       "      <td>American Express</td>\n",
       "      <td>1005</td>\n",
       "      <td>Finance</td>\n",
       "      <td>SMB</td>\n",
       "      <td>Site Analytics</td>\n",
       "      <td>I5SVMI6M88</td>\n",
       "      <td>258.5760</td>\n",
       "      <td>2</td>\n",
       "      <td>0.20</td>\n",
       "      <td>19.3932</td>\n",
       "    </tr>\n",
       "    <tr>\n",
       "      <th>9993</th>\n",
       "      <td>AMER-2023-121258</td>\n",
       "      <td>2023-02-27</td>\n",
       "      <td>2023</td>\n",
       "      <td>Anthony Sanderson</td>\n",
       "      <td>United States</td>\n",
       "      <td>Milwaukee</td>\n",
       "      <td>AMER</td>\n",
       "      <td>NAMER</td>\n",
       "      <td>American Express</td>\n",
       "      <td>1005</td>\n",
       "      <td>Finance</td>\n",
       "      <td>SMB</td>\n",
       "      <td>Support</td>\n",
       "      <td>JHLW4P6LQ2</td>\n",
       "      <td>29.6000</td>\n",
       "      <td>4</td>\n",
       "      <td>0.00</td>\n",
       "      <td>13.3200</td>\n",
       "    </tr>\n",
       "    <tr>\n",
       "      <th>9994</th>\n",
       "      <td>AMER-2023-119914</td>\n",
       "      <td>2023-05-05</td>\n",
       "      <td>2023</td>\n",
       "      <td>Jasmine Springer</td>\n",
       "      <td>United States</td>\n",
       "      <td>Dallas</td>\n",
       "      <td>AMER</td>\n",
       "      <td>NAMER</td>\n",
       "      <td>Comcast</td>\n",
       "      <td>1022</td>\n",
       "      <td>Communications</td>\n",
       "      <td>SMB</td>\n",
       "      <td>OneView</td>\n",
       "      <td>3NTBV9B3PS</td>\n",
       "      <td>243.1600</td>\n",
       "      <td>2</td>\n",
       "      <td>0.00</td>\n",
       "      <td>72.9480</td>\n",
       "    </tr>\n",
       "  </tbody>\n",
       "</table>\n",
       "<p>9994 rows × 18 columns</p>\n",
       "</div>"
      ],
      "text/plain": [
       "                Order ID Order Date  Year       Contact Name        Country  \\\n",
       "Row ID                                                                        \n",
       "1       EMEA-2022-152156 2022-11-09  2022        Nathan Bell        Ireland   \n",
       "2       EMEA-2022-152156 2022-11-09  2022        Nathan Bell        Ireland   \n",
       "3       AMER-2022-138688 2022-06-13  2022     Deirdre Bailey  United States   \n",
       "4       EMEA-2021-108966 2021-10-11  2021         Zoe Hodges        Germany   \n",
       "5       EMEA-2021-108966 2021-10-11  2021         Zoe Hodges        Germany   \n",
       "...                  ...        ...   ...                ...            ...   \n",
       "9990    EMEA-2020-110422 2020-01-22  2020          Dan Allan        Germany   \n",
       "9991    AMER-2023-121258 2023-02-27  2023  Anthony Sanderson  United States   \n",
       "9992    AMER-2023-121258 2023-02-27  2023  Anthony Sanderson  United States   \n",
       "9993    AMER-2023-121258 2023-02-27  2023  Anthony Sanderson  United States   \n",
       "9994    AMER-2023-119914 2023-05-05  2023   Jasmine Springer  United States   \n",
       "\n",
       "                 City Region Subregion           Customer Customer ID  \\\n",
       "Row ID                                                                  \n",
       "1              Dublin   EMEA      UKIR            Chevron        1017   \n",
       "2              Dublin   EMEA      UKIR            Chevron        1017   \n",
       "3       New York City   AMER     NAMER        Phillips 66        1056   \n",
       "4           Stuttgart   EMEA   EU-WEST  Royal Dutch Shell        1031   \n",
       "5           Stuttgart   EMEA   EU-WEST  Royal Dutch Shell        1031   \n",
       "...               ...    ...       ...                ...         ...   \n",
       "9990          Hamburg   EMEA   EU-WEST  Johnson & Johnson        1055   \n",
       "9991        Milwaukee   AMER     NAMER   American Express        1005   \n",
       "9992        Milwaukee   AMER     NAMER   American Express        1005   \n",
       "9993        Milwaukee   AMER     NAMER   American Express        1005   \n",
       "9994           Dallas   AMER     NAMER            Comcast        1022   \n",
       "\n",
       "              Industry    Segment                 Product     License  \\\n",
       "Row ID                                                                  \n",
       "1               Energy        SMB         Marketing Suite  16GRM07R1K   \n",
       "2               Energy        SMB              FinanceHub  QLIW57KZUV   \n",
       "3               Energy  Strategic              FinanceHub  JI6BVL70HQ   \n",
       "4               Energy        SMB          ContactMatcher  DE9GJKGD44   \n",
       "5               Energy        SMB  Marketing Suite - Gold  OIF7NY23WD   \n",
       "...                ...        ...                     ...         ...   \n",
       "9990        Healthcare        SMB     SaaS Connector Pack  ETHXMB5TMD   \n",
       "9991           Finance        SMB     SaaS Connector Pack  LYHOKTRY7L   \n",
       "9992           Finance        SMB          Site Analytics  I5SVMI6M88   \n",
       "9993           Finance        SMB                 Support  JHLW4P6LQ2   \n",
       "9994    Communications        SMB                 OneView  3NTBV9B3PS   \n",
       "\n",
       "           Sales  Quantity  Discount    Profit  \n",
       "Row ID                                          \n",
       "1       261.9600         2      0.00   41.9136  \n",
       "2       731.9400         3      0.00  219.5820  \n",
       "3        14.6200         2      0.00    6.8714  \n",
       "4       957.5775         5      0.45 -383.0310  \n",
       "5        22.3680         2      0.20    2.5164  \n",
       "...          ...       ...       ...       ...  \n",
       "9990     25.2480         3      0.20    4.1028  \n",
       "9991     91.9600         2      0.00   15.6332  \n",
       "9992    258.5760         2      0.20   19.3932  \n",
       "9993     29.6000         4      0.00   13.3200  \n",
       "9994    243.1600         2      0.00   72.9480  \n",
       "\n",
       "[9994 rows x 18 columns]"
      ]
     },
     "metadata": {},
     "output_type": "display_data"
    }
   ],
   "source": [
    "#Change Customer ID\n",
    "source['Customer ID'] = source['Customer ID'].astype(object)\n",
    "\n",
    "#Change Order Date\n",
    "source['Order Date'] = source['Order Date'].astype('datetime64[ns]')\n",
    "\n",
    "#Change Value of Date Key become Year\n",
    "source['Date Key'] = source['Order Date'].dt.year.astype('object')\n",
    "#Rename Date Key become Year\n",
    "source = source.rename(columns={'Date Key':'Year'})\n",
    "\n",
    "#Make Row ID as Index\n",
    "source.set_index('Row ID', inplace=True)\n",
    "\n",
    "display(source.describe(), source.describe(include='object'), source)"
   ]
  },
  {
   "cell_type": "code",
   "execution_count": 139,
   "metadata": {},
   "outputs": [
    {
     "name": "stdout",
     "output_type": "stream",
     "text": [
      "<class 'pandas.core.frame.DataFrame'>\n",
      "Int64Index: 9994 entries, 1 to 9994\n",
      "Data columns (total 18 columns):\n",
      " #   Column        Non-Null Count  Dtype         \n",
      "---  ------        --------------  -----         \n",
      " 0   Order ID      9994 non-null   object        \n",
      " 1   Order Date    9994 non-null   datetime64[ns]\n",
      " 2   Year          9994 non-null   object        \n",
      " 3   Contact Name  9994 non-null   object        \n",
      " 4   Country       9994 non-null   object        \n",
      " 5   City          9994 non-null   object        \n",
      " 6   Region        9994 non-null   object        \n",
      " 7   Subregion     9994 non-null   object        \n",
      " 8   Customer      9994 non-null   object        \n",
      " 9   Customer ID   9994 non-null   object        \n",
      " 10  Industry      9994 non-null   object        \n",
      " 11  Segment       9994 non-null   object        \n",
      " 12  Product       9994 non-null   object        \n",
      " 13  License       9994 non-null   object        \n",
      " 14  Sales         9994 non-null   float64       \n",
      " 15  Quantity      9994 non-null   int64         \n",
      " 16  Discount      9994 non-null   float64       \n",
      " 17  Profit        9994 non-null   float64       \n",
      "dtypes: datetime64[ns](1), float64(3), int64(1), object(13)\n",
      "memory usage: 1.4+ MB\n"
     ]
    }
   ],
   "source": [
    "#Recheck data type\n",
    "source.info()"
   ]
  },
  {
   "cell_type": "markdown",
   "metadata": {},
   "source": [
    "### Check Missing and Duplicate Values"
   ]
  },
  {
   "cell_type": "markdown",
   "metadata": {},
   "source": [
    "#### Check Duplicate"
   ]
  },
  {
   "cell_type": "code",
   "execution_count": 140,
   "metadata": {},
   "outputs": [
    {
     "name": "stdout",
     "output_type": "stream",
     "text": [
      "Duplicated data found : 0\n",
      "No duplicate data was found in this dataset.\n"
     ]
    }
   ],
   "source": [
    "#Check Duplicate Data\n",
    "print(f'Duplicated data found : {source.duplicated().sum()}')\n",
    "if(source.duplicated().sum() == 0):\n",
    "    print(\"No duplicate data was found in this dataset.\")\n",
    "else:\n",
    "    print(\"Duplicate data was found in the dataset. We should look further this duplicate.\")"
   ]
  },
  {
   "cell_type": "markdown",
   "metadata": {},
   "source": [
    "#### Check Null Values"
   ]
  },
  {
   "cell_type": "code",
   "execution_count": 141,
   "metadata": {},
   "outputs": [
    {
     "data": {
      "text/plain": [
       "Order ID        0\n",
       "Order Date      0\n",
       "Year            0\n",
       "Contact Name    0\n",
       "Country         0\n",
       "City            0\n",
       "Region          0\n",
       "Subregion       0\n",
       "Customer        0\n",
       "Customer ID     0\n",
       "Industry        0\n",
       "Segment         0\n",
       "Product         0\n",
       "License         0\n",
       "Sales           0\n",
       "Quantity        0\n",
       "Discount        0\n",
       "Profit          0\n",
       "dtype: int64"
      ]
     },
     "execution_count": 141,
     "metadata": {},
     "output_type": "execute_result"
    }
   ],
   "source": [
    "#Check Null Values\n",
    "source.isnull().sum()"
   ]
  },
  {
   "cell_type": "markdown",
   "metadata": {},
   "source": [
    "No null data was found in our dataset."
   ]
  },
  {
   "cell_type": "markdown",
   "metadata": {},
   "source": [
    "#### Check NaN Values"
   ]
  },
  {
   "cell_type": "code",
   "execution_count": 142,
   "metadata": {},
   "outputs": [
    {
     "data": {
      "text/plain": [
       "Order ID        0\n",
       "Order Date      0\n",
       "Year            0\n",
       "Contact Name    0\n",
       "Country         0\n",
       "City            0\n",
       "Region          0\n",
       "Subregion       0\n",
       "Customer        0\n",
       "Customer ID     0\n",
       "Industry        0\n",
       "Segment         0\n",
       "Product         0\n",
       "License         0\n",
       "Sales           0\n",
       "Quantity        0\n",
       "Discount        0\n",
       "Profit          0\n",
       "dtype: int64"
      ]
     },
     "execution_count": 142,
     "metadata": {},
     "output_type": "execute_result"
    }
   ],
   "source": [
    "#Check NaN Values\n",
    "source.isna().sum()"
   ]
  },
  {
   "cell_type": "markdown",
   "metadata": {},
   "source": [
    "No missing data was found in our dataset"
   ]
  },
  {
   "cell_type": "markdown",
   "metadata": {},
   "source": [
    "### Unique value from every columns in AWS SaaS Dataset"
   ]
  },
  {
   "cell_type": "code",
   "execution_count": 143,
   "metadata": {},
   "outputs": [
    {
     "data": {
      "text/html": [
       "<div>\n",
       "<style scoped>\n",
       "    .dataframe tbody tr th:only-of-type {\n",
       "        vertical-align: middle;\n",
       "    }\n",
       "\n",
       "    .dataframe tbody tr th {\n",
       "        vertical-align: top;\n",
       "    }\n",
       "\n",
       "    .dataframe thead th {\n",
       "        text-align: right;\n",
       "    }\n",
       "</style>\n",
       "<table border=\"1\" class=\"dataframe\">\n",
       "  <thead>\n",
       "    <tr style=\"text-align: right;\">\n",
       "      <th></th>\n",
       "      <th>Column Name</th>\n",
       "      <th>Number of Unique</th>\n",
       "      <th>Unique Value</th>\n",
       "    </tr>\n",
       "  </thead>\n",
       "  <tbody>\n",
       "    <tr>\n",
       "      <th>0</th>\n",
       "      <td>Order ID</td>\n",
       "      <td>5009</td>\n",
       "      <td>[EMEA-2022-152156, AMER-2022-138688, EMEA-2021-108966, AMER-2020-115812, EMEA-2023-114412, AMER-2022-161389, APJ-2021-118983, EMEA-2020-105893, EMEA-2020-167164, AMER-2020-143336, AMER-2022-137330, EMEA-2023-156909, EMEA-2021-106320, AMER-2022-121755, EMEA-2021-150630, APJ-2023-107727, APJ-2022-117590, APJ-2021-117415, APJ-2023-120999, AMER-2022-101343, EMEA-2023-139619, EMEA-2022-118255, AMER-2020-146703, APJ-2022-169194, APJ-2021-115742, EMEA-2022-105816, EMEA-2022-111682, AMER-2021-135545, APJ-2021-164175, AMER-2020-106376, EMEA-2022-119823, EMEA-2022-106075, AMER-2023-114440, EMEA-2021-134026, APJ-2023-118038, APJ-2020-147606, EMEA-2022-127208, AMER-2020-139451, EMEA-2021-149734, APJ-2023-119662, AMER-2023-140088, EMEA-2023-155558, APJ-2022-159695, AMER-2022-109806, EMEA-2021-149587, EMEA-2023-109484, EMEA-2023-161018, AMER-2023-157833, EMEA-2022-149223, APJ-2022-158568, EMEA-2022-129903, EMEA-2021-156867, EMEA-2023-119004, APJ-2021-129476, EMEA-2023-146780, EMEA-2022-128867, AMER-2020-115259, AMER-2021-110457, EMEA-2021-136476, APJ-2022-103730, APJ-2020-152030, APJ-2020-134614, AMER-2023-107272, AMER-2022-125969, AMER-2023-164147, AMER-2022-145583, EMEA-2022-110366, AMER-2023-106180, EMEA-2023-155376, AMER-2021-110744, AMER-2020-110072, EMEA-2022-114489, AMER-2022-158834, AMER-2021-124919, AMER-2021-118948, AMER-2020-104269, APJ-2022-114104, AMER-2022-162733, EMEA-2021-119697, APJ-2022-154508, AMER-2022-113817, APJ-2020-139892, AMER-2020-118962, APJ-2020-100853, APJ-2023-152366, AMER-2021-101511, EMEA-2021-137225, APJ-2020-166191, EMEA-2020-158274, EMEA-2022-105018, AMER-2020-123260, APJ-2022-157000, EMEA-2021-102281, AMER-2021-131457, AMER-2020-140004, AMER-2023-107720, EMEA-2023-124303, AMER-2023-105074, EMEA-2020-133690, APJ-2023-116701, ...]</td>\n",
       "    </tr>\n",
       "    <tr>\n",
       "      <th>1</th>\n",
       "      <td>Order Date</td>\n",
       "      <td>1237</td>\n",
       "      <td>[2022-11-09, 2022-06-13, 2021-10-11, 2020-06-09, 2023-04-16, 2022-12-06, 2021-11-22, 2020-11-11, 2020-05-13, 2020-08-27, 2022-12-10, 2023-07-17, 2021-09-25, 2022-01-16, 2021-09-17, 2023-10-20, 2022-12-09, 2021-12-27, 2023-09-11, 2022-07-18, 2023-09-20, 2022-03-12, 2020-10-20, 2022-06-21, 2021-04-18, 2022-12-12, 2022-06-18, 2021-11-24, 2021-04-30, 2020-12-05, 2022-06-05, 2022-09-19, 2023-09-15, 2021-04-26, 2023-12-10, 2020-11-26, 2020-10-12, 2021-09-03, 2023-11-14, 2023-05-29, 2023-10-27, 2022-04-06, 2022-09-18, 2021-01-31, 2023-11-07, 2023-11-10, 2023-06-18, 2022-09-07, 2022-08-30, 2022-12-02, 2021-11-13, 2023-11-24, 2021-10-15, 2023-12-26, 2022-11-04, 2020-08-25, 2021-03-02, 2021-04-05, 2020-12-26, 2020-09-20, 2023-11-06, 2022-11-07, 2023-02-03, 2022-10-14, 2022-09-06, 2023-09-19, 2023-12-23, 2021-09-07, 2020-10-22, 2022-03-14, 2021-05-31, 2021-05-28, 2020-03-01, 2022-11-21, 2022-05-12, 2021-12-28, 2022-11-17, 2022-11-08, 2020-09-08, 2020-08-05, 2020-09-14, 2023-04-22, 2021-11-21, 2021-12-15, 2020-11-19, 2022-11-29, 2020-08-26, 2022-07-17, 2021-10-12, 2021-10-31, 2020-03-21, 2023-07-07, 2023-06-25, 2020-08-03, 2023-12-18, 2023-06-04, 2023-12-02, 2021-02-09, 2021-01-02, 2022-10-29, ...]</td>\n",
       "    </tr>\n",
       "    <tr>\n",
       "      <th>2</th>\n",
       "      <td>Year</td>\n",
       "      <td>4</td>\n",
       "      <td>[2022, 2021, 2020, 2023]</td>\n",
       "    </tr>\n",
       "    <tr>\n",
       "      <th>3</th>\n",
       "      <td>Contact Name</td>\n",
       "      <td>793</td>\n",
       "      <td>[Nathan Bell, Deirdre Bailey, Zoe Hodges, Thomas Hodges, Adrian Hunter, Adrian Abraham, Emily Morrison, Claire Welch, Carol Campbell, Blake Hughes, Melanie Sharp, Luke Bower, Jonathan Ferguson, Sam Parsons, Neil Gill, Amelia Campbell, Chloe Short, Jasmine Metcalfe, Karen Mathis, Dylan Dickens, Sophie Lewis, Gavin Mitchell, Katherine Dowd, Harry Brown, Brian Dickens, Joseph Newman, Nicola Howard, Stewart Wilson, Eric McLean, Leah Clarkson, Alison Davidson, Sophie Vance, Anne Lee, Maria Dyer, Julia Ellison, Gordon McLean, Jessica Buckland, Bernadette Nolan, Sonia Ince, William Lewis, Melanie Young, Edward Oliver, Peter Quinn, Max Marshall, Jan Watson, Carol Ball, Gavin Walsh, Penelope Peake, Amy Scott, Carl Jackson, Joe Wallace, Luke Mills, Alexandra Dyer, Rebecca Dickens, Audrey Hardacre, Jennifer Dowd, Natalie Sanderson, Samantha Rampling, Sally Berry, Anthony Clark, Victor Short, Austin Newman, Rose Scott, Tim Morrison, Harry Murray, Dylan Dowd, Angela Parsons, Lisa Oliver, Joseph Duncan, Paul MacDonald, Gordon Graham, Sean Bower, Anthony Sanderson, Stewart Marshall, Joanne Carr, Angela Davies, William Alsop, Owen Watson, Melanie Davidson, Warren Forsyth, Gabrielle Ogden, Justin Randall, Jack Graham, Sophie Henderson, Brian Short, Samantha Lawrence, Una Hudson, Kimberly North, Dylan Ogden, Jonathan Clark, Kevin Vaughan, Madeleine Smith, Diana Ince, Tracey Knox, Michelle McLean, Diana Bell, Jan Clark, Pippa Smith, Rebecca Wilson, Irene Smith, ...]</td>\n",
       "    </tr>\n",
       "    <tr>\n",
       "      <th>4</th>\n",
       "      <td>Country</td>\n",
       "      <td>48</td>\n",
       "      <td>[Ireland, United States, Germany, Sweden, Canada, Japan, Italy, Turkey, Costa Rica, France, Australia, Luxembourg, Brazil, Philippines, India, United Kingdom, Chile, Spain, South Africa, Portugal, Colombia, Belgium, Russia, Netherlands, Mexico, Poland, Singapore, New Zealand, Czech Republic, Saudi Arabia, Argentina, South Korea, Finland, Israel, Norway, Ukraine, United Arab Emirates, Greece, China, Austria, Indonesia, Egypt, Denmark, Croatia, Taiwan, Qatar, Slovenia, Iceland]</td>\n",
       "    </tr>\n",
       "    <tr>\n",
       "      <th>5</th>\n",
       "      <td>City</td>\n",
       "      <td>262</td>\n",
       "      <td>[Dublin, New York City, Stuttgart, Stockholm, Toronto, Saitama, Naples, Ankara, Los Angeles, San José, Paris, Istanbul, Tokyo, Aichi, Wollongong, Hanover, Luxembourg, Salvador, Davao City, Kolkata, London, Brighton, Sydney, Puente Alto, Madrid, Rio de Janeiro, Cape Town, Lisboa, Uppsala, Bogotá, Brussels, Moscow, Canberra, The Hague, Mexico City, Manila, Geelong, Santiago, Aurora, Warsaw, Newark, Monterrey, Rome, Chicago, Singapore, Wellington, Osaka, Melbourne, Prague, Riyadh, Raleigh, Providence, Córdoba, Guadalajara, Oklahoma City, Puerto Vallarta, São Paulo, Johannesburg, Cologne, Rochester, Seattle, Detroit, Lafayette, Munich, St Petersburg, Buenos Aires, Mendoza, Leipzig, Jacksonville, Long Beach, Chiba, Incheon, Helsinki, Dhahran, Seoul, Dresden, Vancouver, Adelaide, Tel Aviv, Hordaland, Hamburg, Henderson, Kyiv, Leicester, Malmö, Berlin, Mumbai, Cardiff, Columbus, Fukuoka, Birmingham, Kanagawa, Liverpool, Abu Dhabi, Milwaukee, Yekaterinburg, Krakow, Frankfurt, Porto, Antofagasta, ...]</td>\n",
       "    </tr>\n",
       "    <tr>\n",
       "      <th>6</th>\n",
       "      <td>Region</td>\n",
       "      <td>3</td>\n",
       "      <td>[EMEA, AMER, APJ]</td>\n",
       "    </tr>\n",
       "    <tr>\n",
       "      <th>7</th>\n",
       "      <td>Subregion</td>\n",
       "      <td>12</td>\n",
       "      <td>[UKIR, NAMER, EU-WEST, NOR, JAPN, EU, MEA, LATAM, ANZ, APAC, IND, EU-EAST]</td>\n",
       "    </tr>\n",
       "    <tr>\n",
       "      <th>8</th>\n",
       "      <td>Customer</td>\n",
       "      <td>99</td>\n",
       "      <td>[Chevron, Phillips 66, Royal Dutch Shell, BNP Paribas, Engie, Microsoft, Pfizer, Toyota Motor, Home Depot, Wells Fargo, Carrefour, Costco Wholesale, McKesson, Siemens, Intel, Glencore, Procter &amp; Gamble, Banco Santander, Pemex, Samsung Electronics, Sony, Morgan Stanley, Bank of America Corp., Tesco, Aviva, Mondelez International, Abbott Laboratories, Fannie Mae, Aetna, Oracle, Nissan Motor, Tyson Foods, Verizon Communications, Itochu, Daimler, Walgreens, Boeing, Valero Energy, Nestle, Philip Morris International, Trafigura Group, Walmart, Cisco Systems, Prudential Financial, Amazon, Gazprom, FedEx, Honda Motor, CVS Health, General Motors, State Farm Insurance Cos., Comcast, AmerisourceBergen, Johnson &amp; Johnson, HonHai Precision Industry, American Express, J.P. Morgan Chase &amp; Co., Kroger, Volkswagen, Merck, AT&amp;T, Allstate, BMW, Humana, Sprint Nextel, Allianz, United Parcel Service, Target, Airbus, Cigna, Goldman Sachs Group, Lowes, Ford Motor, Apple, China National Petroleum, ConocoPhillips, Bosch, HSBC Holdings, Enel, Sysco, Marathon Petroleum, UnitedHealth Group, Mitsubishi, Exxon Mobil, Anthem, Petrobras, Lukoil, Coca-Cola, PepsiCo, General Electric, Berkshire Hathaway, Walt Disney, Alphabet, Huawei, News Corp., Caterpillar, Citigroup, Panasonic, Safeway]</td>\n",
       "    </tr>\n",
       "    <tr>\n",
       "      <th>9</th>\n",
       "      <td>Customer ID</td>\n",
       "      <td>99</td>\n",
       "      <td>[1017, 1056, 1031, 1065, 1062, 1066, 1074, 1087, 1047, 1099, 1048, 1025, 1063, 1043, 1051, 1083, 1077, 1101, 1058, 1015, 1028, 1068, 1011, 1059, 1006, 1067, 1001, 1035, 1002, 1072, 1098, 1088, 1094, 1032, 1052, 1095, 1014, 1093, 1089, 1075, 1100, 1096, 1019, 1078, 1004, 1027, 1036, 1045, 1026, 1041, 1082, 1022, 1007, 1055, 1033, 1005, 1054, 1057, 1046, 1064, 1010, 1003, 1039, 1049, 1081, 1080, 1090, 1085, 1030, 1038, 1042, 1060, 1009, 1008, 1023, 1024, 1076, 1070, 1013, 1084, 1061, 1092, 1050, 1034, 1029, 1018, 1044, 1021, 1073, 1040, 1012, 1097, 1053, 1086, 1071, 1016, 1020, 1091, 1079]</td>\n",
       "    </tr>\n",
       "    <tr>\n",
       "      <th>10</th>\n",
       "      <td>Industry</td>\n",
       "      <td>10</td>\n",
       "      <td>[Energy, Finance, Tech, Healthcare, Manufacturing, Retail, Consumer Products, Misc, Transportation, Communications]</td>\n",
       "    </tr>\n",
       "    <tr>\n",
       "      <th>11</th>\n",
       "      <td>Segment</td>\n",
       "      <td>3</td>\n",
       "      <td>[SMB, Strategic, Enterprise]</td>\n",
       "    </tr>\n",
       "    <tr>\n",
       "      <th>12</th>\n",
       "      <td>Product</td>\n",
       "      <td>14</td>\n",
       "      <td>[Marketing Suite, FinanceHub, ContactMatcher, Marketing Suite - Gold, SaaS Connector Pack, ChatBot Plugin, Site Analytics, OneView, Support, Data Smasher, SaaS Connector Pack - Gold, Storage, Big Ol Database, Alchemy]</td>\n",
       "    </tr>\n",
       "    <tr>\n",
       "      <th>13</th>\n",
       "      <td>License</td>\n",
       "      <td>9994</td>\n",
       "      <td>[16GRM07R1K, QLIW57KZUV, JI6BVL70HQ, DE9GJKGD44, OIF7NY23WD, 8RM88WFOAE, 4SYTVM0746, 07842ES7DY, XPBOBXWXA3, 71J8P9Z1P0, 43NZ37VE2D, JG14MOU94R, FE5QJBIUN1, COK66F8IC1, D8FGC56NNX, NRKT5R1A1G, K5XHYWZ1OV, LWWKLPY4AU, ZYL9KDTY68, I54O29EW1T, E3TF1V9DE8, B83G92QX65, VWDIYAB44Z, AJOASBK55N, P1I8X35CUZ, NRCR8EBL62, PV9U9D3A6O, F8G07TWQ17, BGL4P1U2CZ, B5H6S070N8, D9635UBJOG, 6SQI2HAZ4C, GPQ0TDTGIM, 4YZZHFC212, 77YXBOVGDH, GCT4GPUBVT, TKN9K1JO1D, 2F0NIUM5X9, FBXEM82WEZ, TS9MS0FQVU, HDJMRDRWK6, QINRKET2EK, DFHNNSTX0P, 616XTGD7Y3, F4GWWGL9KR, JFCUNTQD5P, S2GUIRDRRI, 2L5WUVH1UW, O0QZ4DQ2DW, 4A8Q6U643K, N3660I16OB, DU3DC8HDNW, SCMV1FUA1Z, 5JTHBK78DZ, JPNWB3X2PG, RI8MDZ0Y3A, TA8D5XDFPN, 9QD1V31VWF, NKEOT3DP5L, I8M069JA80, 3N1DY2AIMD, MBZM7LCSK4, LMJYGCZAFV, MVEQDJNPR2, OLS0NNZ15B, 84GUTTZTC0, 6QHQUNX985, 91D0JN8T6U, 6NQZXRTE33, JH2K4261IC, 5MAZAYKQ5U, K4O1D2NXHZ, NPQNQFYUUU, D0Z9FZR0JL, X15ND79M8Q, A4VC3VGTLE, IR30G9I4WJ, PGTVTGM7XI, JQHP8C8VXP, 1I3JIURUQR, 0UHOHNAAAD, 920M0N09EE, 9SVF10L0F3, CFUHIDO1WY, CUL2MB77E0, RBNGNEEYS9, W731G6G61K, A3HQUY156G, 45JXXNYX5W, AX50KL6AG9, S4CEY2GSVW, V86OBN8J1U, XJEFE2O3YF, 5XEHT10HDW, U40N63E6AK, VK1TWXDWUR, UFEXZDF5TK, GJFN2RJA9U, PFLFDN3SOU, 2CWM52X1X9, ...]</td>\n",
       "    </tr>\n",
       "    <tr>\n",
       "      <th>14</th>\n",
       "      <td>Sales</td>\n",
       "      <td>5825</td>\n",
       "      <td>[261.96, 731.94, 14.62, 957.5775, 22.368, 48.86, 7.28, 907.152, 18.504, 114.9, 1706.184, 911.424, 15.552, 407.976, 68.81, 2.544, 665.88, 55.5, 8.56, 213.48, 22.72, 19.46, 60.34, 71.372, 1044.63, 11.648, 90.57, 3083.43, 9.618, 124.2, 3.264, 86.304, 6.858, 15.76, 29.472, 1097.544, 190.92, 113.328, 532.3992, 212.058, 371.168, 147.168, 77.88, 95.616, 45.98, 17.46, 211.96, 45.0, 21.8, 38.22, 75.18, 6.16, 89.99, 15.26, 1029.95, 208.56, 32.4, 319.41, 14.56, 30.0, 48.48, 1.68, 13.98, 25.824, 146.73, 79.76, 213.115, 1113.024, 167.968, 75.88, 4.616, 19.05, 831.936, 97.04, 72.784, 1.248, 9.708, 27.24, 19.3, 208.16, 16.74, 14.9, 21.39, 200.984, 230.376, 301.96, 19.99, 158.368, 20.1, 73.584, 6.48, 12.96, 53.34, 32.96, 5.682, 96.53, 51.312, 64.624, 95.976, 1.788, ...]</td>\n",
       "    </tr>\n",
       "    <tr>\n",
       "      <th>15</th>\n",
       "      <td>Quantity</td>\n",
       "      <td>14</td>\n",
       "      <td>[2, 3, 5, 7, 4, 6, 9, 1, 8, 14, 11, 13, 10, 12]</td>\n",
       "    </tr>\n",
       "    <tr>\n",
       "      <th>16</th>\n",
       "      <td>Discount</td>\n",
       "      <td>12</td>\n",
       "      <td>[0.0, 0.45, 0.2, 0.8, 0.3, 0.5, 0.7, 0.6, 0.32, 0.1, 0.4, 0.15]</td>\n",
       "    </tr>\n",
       "    <tr>\n",
       "      <th>17</th>\n",
       "      <td>Profit</td>\n",
       "      <td>7287</td>\n",
       "      <td>[41.9136, 219.582, 6.8714, -383.031, 2.5164, 14.1694, 1.9656, 90.7152, 5.7825, 34.47, 85.3092, 68.3568, 5.4432, 132.5922, -123.858, -3.816, 13.3176, 9.99, 2.4824, 16.011, 7.384, 5.0596, 15.6884, -1.0196, 240.2649, 4.2224, 11.7741, -1665.0522, -7.0532, 15.525, 1.1016, 9.7092, -5.715, 3.546, 9.9468, 123.4737, -147.963, 35.415, -46.9764, -15.147, 41.7564, 16.5564, 3.894, 9.5616, 19.7714, 8.2062, 8.4784, 4.95, 6.104, 17.9634, 35.3346, 2.9568, 17.0981, 6.2566, 298.6855, 52.14, 15.552, 7.098, 6.9888, 3.3, 16.362, 0.84, 6.1512, 9.3612, 68.9631, 22.3328, -15.2225, 111.3024, 62.988, 35.6636, 1.731, 8.763, -114.3912, 1.213, -18.196, -1.9344, -5.8248, 2.724, -14.475, 56.2032, 8.0352, 4.172, 6.2031, 62.8075, -48.9549, 33.2156, 6.7966, 13.8572, 6.633, 8.2782, 3.1104, 6.2208, 16.5354, 16.1504, -3.788, 40.5426, 17.9592, 22.5852, 22.6184, -10.7973, ...]</td>\n",
       "    </tr>\n",
       "  </tbody>\n",
       "</table>\n",
       "</div>"
      ],
      "text/plain": [
       "     Column Name  Number of Unique  \\\n",
       "0       Order ID              5009   \n",
       "1     Order Date              1237   \n",
       "2           Year                 4   \n",
       "3   Contact Name               793   \n",
       "4        Country                48   \n",
       "5           City               262   \n",
       "6         Region                 3   \n",
       "7      Subregion                12   \n",
       "8       Customer                99   \n",
       "9    Customer ID                99   \n",
       "10      Industry                10   \n",
       "11       Segment                 3   \n",
       "12       Product                14   \n",
       "13       License              9994   \n",
       "14         Sales              5825   \n",
       "15      Quantity                14   \n",
       "16      Discount                12   \n",
       "17        Profit              7287   \n",
       "\n",
       "                                                                                                                                                                                                                                                                                                                                                                                                                                                                                                                                                                                                                                                                                                                                                                                                                                                                                                                                                                                                                                                                                                                                                                                                                                                                                                                                                                                                                                                                                                                                                                                                                                                                                                                                                                                                                                            Unique Value  \n",
       "0   [EMEA-2022-152156, AMER-2022-138688, EMEA-2021-108966, AMER-2020-115812, EMEA-2023-114412, AMER-2022-161389, APJ-2021-118983, EMEA-2020-105893, EMEA-2020-167164, AMER-2020-143336, AMER-2022-137330, EMEA-2023-156909, EMEA-2021-106320, AMER-2022-121755, EMEA-2021-150630, APJ-2023-107727, APJ-2022-117590, APJ-2021-117415, APJ-2023-120999, AMER-2022-101343, EMEA-2023-139619, EMEA-2022-118255, AMER-2020-146703, APJ-2022-169194, APJ-2021-115742, EMEA-2022-105816, EMEA-2022-111682, AMER-2021-135545, APJ-2021-164175, AMER-2020-106376, EMEA-2022-119823, EMEA-2022-106075, AMER-2023-114440, EMEA-2021-134026, APJ-2023-118038, APJ-2020-147606, EMEA-2022-127208, AMER-2020-139451, EMEA-2021-149734, APJ-2023-119662, AMER-2023-140088, EMEA-2023-155558, APJ-2022-159695, AMER-2022-109806, EMEA-2021-149587, EMEA-2023-109484, EMEA-2023-161018, AMER-2023-157833, EMEA-2022-149223, APJ-2022-158568, EMEA-2022-129903, EMEA-2021-156867, EMEA-2023-119004, APJ-2021-129476, EMEA-2023-146780, EMEA-2022-128867, AMER-2020-115259, AMER-2021-110457, EMEA-2021-136476, APJ-2022-103730, APJ-2020-152030, APJ-2020-134614, AMER-2023-107272, AMER-2022-125969, AMER-2023-164147, AMER-2022-145583, EMEA-2022-110366, AMER-2023-106180, EMEA-2023-155376, AMER-2021-110744, AMER-2020-110072, EMEA-2022-114489, AMER-2022-158834, AMER-2021-124919, AMER-2021-118948, AMER-2020-104269, APJ-2022-114104, AMER-2022-162733, EMEA-2021-119697, APJ-2022-154508, AMER-2022-113817, APJ-2020-139892, AMER-2020-118962, APJ-2020-100853, APJ-2023-152366, AMER-2021-101511, EMEA-2021-137225, APJ-2020-166191, EMEA-2020-158274, EMEA-2022-105018, AMER-2020-123260, APJ-2022-157000, EMEA-2021-102281, AMER-2021-131457, AMER-2020-140004, AMER-2023-107720, EMEA-2023-124303, AMER-2023-105074, EMEA-2020-133690, APJ-2023-116701, ...]  \n",
       "1                                                                                                                                                                                                                                                                                                                                                                                                                                                                                                                                                                                                  [2022-11-09, 2022-06-13, 2021-10-11, 2020-06-09, 2023-04-16, 2022-12-06, 2021-11-22, 2020-11-11, 2020-05-13, 2020-08-27, 2022-12-10, 2023-07-17, 2021-09-25, 2022-01-16, 2021-09-17, 2023-10-20, 2022-12-09, 2021-12-27, 2023-09-11, 2022-07-18, 2023-09-20, 2022-03-12, 2020-10-20, 2022-06-21, 2021-04-18, 2022-12-12, 2022-06-18, 2021-11-24, 2021-04-30, 2020-12-05, 2022-06-05, 2022-09-19, 2023-09-15, 2021-04-26, 2023-12-10, 2020-11-26, 2020-10-12, 2021-09-03, 2023-11-14, 2023-05-29, 2023-10-27, 2022-04-06, 2022-09-18, 2021-01-31, 2023-11-07, 2023-11-10, 2023-06-18, 2022-09-07, 2022-08-30, 2022-12-02, 2021-11-13, 2023-11-24, 2021-10-15, 2023-12-26, 2022-11-04, 2020-08-25, 2021-03-02, 2021-04-05, 2020-12-26, 2020-09-20, 2023-11-06, 2022-11-07, 2023-02-03, 2022-10-14, 2022-09-06, 2023-09-19, 2023-12-23, 2021-09-07, 2020-10-22, 2022-03-14, 2021-05-31, 2021-05-28, 2020-03-01, 2022-11-21, 2022-05-12, 2021-12-28, 2022-11-17, 2022-11-08, 2020-09-08, 2020-08-05, 2020-09-14, 2023-04-22, 2021-11-21, 2021-12-15, 2020-11-19, 2022-11-29, 2020-08-26, 2022-07-17, 2021-10-12, 2021-10-31, 2020-03-21, 2023-07-07, 2023-06-25, 2020-08-03, 2023-12-18, 2023-06-04, 2023-12-02, 2021-02-09, 2021-01-02, 2022-10-29, ...]  \n",
       "2                                                                                                                                                                                                                                                                                                                                                                                                                                                                                                                                                                                                                                                                                                                                                                                                                                                                                                                                                                                                                                                                                                                                                                                                                                                                                                                                                                                                                                                                                                                                                                                                                                                                                                                                                                                                                               [2022, 2021, 2020, 2023]  \n",
       "3                                                                                                                                                                                                                                                                                                                        [Nathan Bell, Deirdre Bailey, Zoe Hodges, Thomas Hodges, Adrian Hunter, Adrian Abraham, Emily Morrison, Claire Welch, Carol Campbell, Blake Hughes, Melanie Sharp, Luke Bower, Jonathan Ferguson, Sam Parsons, Neil Gill, Amelia Campbell, Chloe Short, Jasmine Metcalfe, Karen Mathis, Dylan Dickens, Sophie Lewis, Gavin Mitchell, Katherine Dowd, Harry Brown, Brian Dickens, Joseph Newman, Nicola Howard, Stewart Wilson, Eric McLean, Leah Clarkson, Alison Davidson, Sophie Vance, Anne Lee, Maria Dyer, Julia Ellison, Gordon McLean, Jessica Buckland, Bernadette Nolan, Sonia Ince, William Lewis, Melanie Young, Edward Oliver, Peter Quinn, Max Marshall, Jan Watson, Carol Ball, Gavin Walsh, Penelope Peake, Amy Scott, Carl Jackson, Joe Wallace, Luke Mills, Alexandra Dyer, Rebecca Dickens, Audrey Hardacre, Jennifer Dowd, Natalie Sanderson, Samantha Rampling, Sally Berry, Anthony Clark, Victor Short, Austin Newman, Rose Scott, Tim Morrison, Harry Murray, Dylan Dowd, Angela Parsons, Lisa Oliver, Joseph Duncan, Paul MacDonald, Gordon Graham, Sean Bower, Anthony Sanderson, Stewart Marshall, Joanne Carr, Angela Davies, William Alsop, Owen Watson, Melanie Davidson, Warren Forsyth, Gabrielle Ogden, Justin Randall, Jack Graham, Sophie Henderson, Brian Short, Samantha Lawrence, Una Hudson, Kimberly North, Dylan Ogden, Jonathan Clark, Kevin Vaughan, Madeleine Smith, Diana Ince, Tracey Knox, Michelle McLean, Diana Bell, Jan Clark, Pippa Smith, Rebecca Wilson, Irene Smith, ...]  \n",
       "4                                                                                                                                                                                                                                                                                                                                                                                                                                                                                                                                                                                                                                                                                                                                                                                                                                                                                                                                                                                                                                                                                                                                                                                                                                                                                                                                                       [Ireland, United States, Germany, Sweden, Canada, Japan, Italy, Turkey, Costa Rica, France, Australia, Luxembourg, Brazil, Philippines, India, United Kingdom, Chile, Spain, South Africa, Portugal, Colombia, Belgium, Russia, Netherlands, Mexico, Poland, Singapore, New Zealand, Czech Republic, Saudi Arabia, Argentina, South Korea, Finland, Israel, Norway, Ukraine, United Arab Emirates, Greece, China, Austria, Indonesia, Egypt, Denmark, Croatia, Taiwan, Qatar, Slovenia, Iceland]  \n",
       "5                                                                                                                                                                                                                                                                                                                                                                                                                                                                                                                                                                                                                                                                                                                                                                                                        [Dublin, New York City, Stuttgart, Stockholm, Toronto, Saitama, Naples, Ankara, Los Angeles, San José, Paris, Istanbul, Tokyo, Aichi, Wollongong, Hanover, Luxembourg, Salvador, Davao City, Kolkata, London, Brighton, Sydney, Puente Alto, Madrid, Rio de Janeiro, Cape Town, Lisboa, Uppsala, Bogotá, Brussels, Moscow, Canberra, The Hague, Mexico City, Manila, Geelong, Santiago, Aurora, Warsaw, Newark, Monterrey, Rome, Chicago, Singapore, Wellington, Osaka, Melbourne, Prague, Riyadh, Raleigh, Providence, Córdoba, Guadalajara, Oklahoma City, Puerto Vallarta, São Paulo, Johannesburg, Cologne, Rochester, Seattle, Detroit, Lafayette, Munich, St Petersburg, Buenos Aires, Mendoza, Leipzig, Jacksonville, Long Beach, Chiba, Incheon, Helsinki, Dhahran, Seoul, Dresden, Vancouver, Adelaide, Tel Aviv, Hordaland, Hamburg, Henderson, Kyiv, Leicester, Malmö, Berlin, Mumbai, Cardiff, Columbus, Fukuoka, Birmingham, Kanagawa, Liverpool, Abu Dhabi, Milwaukee, Yekaterinburg, Krakow, Frankfurt, Porto, Antofagasta, ...]  \n",
       "6                                                                                                                                                                                                                                                                                                                                                                                                                                                                                                                                                                                                                                                                                                                                                                                                                                                                                                                                                                                                                                                                                                                                                                                                                                                                                                                                                                                                                                                                                                                                                                                                                                                                                                                                                                                                                                      [EMEA, AMER, APJ]  \n",
       "7                                                                                                                                                                                                                                                                                                                                                                                                                                                                                                                                                                                                                                                                                                                                                                                                                                                                                                                                                                                                                                                                                                                                                                                                                                                                                                                                                                                                                                                                                                                                                                                                                                                                                                                                                                             [UKIR, NAMER, EU-WEST, NOR, JAPN, EU, MEA, LATAM, ANZ, APAC, IND, EU-EAST]  \n",
       "8                                                                                                                                                                                                                                                                                                                                                                                                                                                                                                                           [Chevron, Phillips 66, Royal Dutch Shell, BNP Paribas, Engie, Microsoft, Pfizer, Toyota Motor, Home Depot, Wells Fargo, Carrefour, Costco Wholesale, McKesson, Siemens, Intel, Glencore, Procter & Gamble, Banco Santander, Pemex, Samsung Electronics, Sony, Morgan Stanley, Bank of America Corp., Tesco, Aviva, Mondelez International, Abbott Laboratories, Fannie Mae, Aetna, Oracle, Nissan Motor, Tyson Foods, Verizon Communications, Itochu, Daimler, Walgreens, Boeing, Valero Energy, Nestle, Philip Morris International, Trafigura Group, Walmart, Cisco Systems, Prudential Financial, Amazon, Gazprom, FedEx, Honda Motor, CVS Health, General Motors, State Farm Insurance Cos., Comcast, AmerisourceBergen, Johnson & Johnson, HonHai Precision Industry, American Express, J.P. Morgan Chase & Co., Kroger, Volkswagen, Merck, AT&T, Allstate, BMW, Humana, Sprint Nextel, Allianz, United Parcel Service, Target, Airbus, Cigna, Goldman Sachs Group, Lowes, Ford Motor, Apple, China National Petroleum, ConocoPhillips, Bosch, HSBC Holdings, Enel, Sysco, Marathon Petroleum, UnitedHealth Group, Mitsubishi, Exxon Mobil, Anthem, Petrobras, Lukoil, Coca-Cola, PepsiCo, General Electric, Berkshire Hathaway, Walt Disney, Alphabet, Huawei, News Corp., Caterpillar, Citigroup, Panasonic, Safeway]  \n",
       "9                                                                                                                                                                                                                                                                                                                                                                                                                                                                                                                                                                                                                                                                                                                                                                                                                                                                                                                                                                                                                                                                                                                                                                                                                                     [1017, 1056, 1031, 1065, 1062, 1066, 1074, 1087, 1047, 1099, 1048, 1025, 1063, 1043, 1051, 1083, 1077, 1101, 1058, 1015, 1028, 1068, 1011, 1059, 1006, 1067, 1001, 1035, 1002, 1072, 1098, 1088, 1094, 1032, 1052, 1095, 1014, 1093, 1089, 1075, 1100, 1096, 1019, 1078, 1004, 1027, 1036, 1045, 1026, 1041, 1082, 1022, 1007, 1055, 1033, 1005, 1054, 1057, 1046, 1064, 1010, 1003, 1039, 1049, 1081, 1080, 1090, 1085, 1030, 1038, 1042, 1060, 1009, 1008, 1023, 1024, 1076, 1070, 1013, 1084, 1061, 1092, 1050, 1034, 1029, 1018, 1044, 1021, 1073, 1040, 1012, 1097, 1053, 1086, 1071, 1016, 1020, 1091, 1079]  \n",
       "10                                                                                                                                                                                                                                                                                                                                                                                                                                                                                                                                                                                                                                                                                                                                                                                                                                                                                                                                                                                                                                                                                                                                                                                                                                                                                                                                                                                                                                                                                                                                                                                                                                                                                                                                   [Energy, Finance, Tech, Healthcare, Manufacturing, Retail, Consumer Products, Misc, Transportation, Communications]  \n",
       "11                                                                                                                                                                                                                                                                                                                                                                                                                                                                                                                                                                                                                                                                                                                                                                                                                                                                                                                                                                                                                                                                                                                                                                                                                                                                                                                                                                                                                                                                                                                                                                                                                                                                                                                                                                                                                          [SMB, Strategic, Enterprise]  \n",
       "12                                                                                                                                                                                                                                                                                                                                                                                                                                                                                                                                                                                                                                                                                                                                                                                                                                                                                                                                                                                                                                                                                                                                                                                                                                                                                                                                                                                                                                                                                                                                                                                                                             [Marketing Suite, FinanceHub, ContactMatcher, Marketing Suite - Gold, SaaS Connector Pack, ChatBot Plugin, Site Analytics, OneView, Support, Data Smasher, SaaS Connector Pack - Gold, Storage, Big Ol Database, Alchemy]  \n",
       "13                                                                                                                                                                                                                                                                                                                                                                                                                                                                                                                                                                                                 [16GRM07R1K, QLIW57KZUV, JI6BVL70HQ, DE9GJKGD44, OIF7NY23WD, 8RM88WFOAE, 4SYTVM0746, 07842ES7DY, XPBOBXWXA3, 71J8P9Z1P0, 43NZ37VE2D, JG14MOU94R, FE5QJBIUN1, COK66F8IC1, D8FGC56NNX, NRKT5R1A1G, K5XHYWZ1OV, LWWKLPY4AU, ZYL9KDTY68, I54O29EW1T, E3TF1V9DE8, B83G92QX65, VWDIYAB44Z, AJOASBK55N, P1I8X35CUZ, NRCR8EBL62, PV9U9D3A6O, F8G07TWQ17, BGL4P1U2CZ, B5H6S070N8, D9635UBJOG, 6SQI2HAZ4C, GPQ0TDTGIM, 4YZZHFC212, 77YXBOVGDH, GCT4GPUBVT, TKN9K1JO1D, 2F0NIUM5X9, FBXEM82WEZ, TS9MS0FQVU, HDJMRDRWK6, QINRKET2EK, DFHNNSTX0P, 616XTGD7Y3, F4GWWGL9KR, JFCUNTQD5P, S2GUIRDRRI, 2L5WUVH1UW, O0QZ4DQ2DW, 4A8Q6U643K, N3660I16OB, DU3DC8HDNW, SCMV1FUA1Z, 5JTHBK78DZ, JPNWB3X2PG, RI8MDZ0Y3A, TA8D5XDFPN, 9QD1V31VWF, NKEOT3DP5L, I8M069JA80, 3N1DY2AIMD, MBZM7LCSK4, LMJYGCZAFV, MVEQDJNPR2, OLS0NNZ15B, 84GUTTZTC0, 6QHQUNX985, 91D0JN8T6U, 6NQZXRTE33, JH2K4261IC, 5MAZAYKQ5U, K4O1D2NXHZ, NPQNQFYUUU, D0Z9FZR0JL, X15ND79M8Q, A4VC3VGTLE, IR30G9I4WJ, PGTVTGM7XI, JQHP8C8VXP, 1I3JIURUQR, 0UHOHNAAAD, 920M0N09EE, 9SVF10L0F3, CFUHIDO1WY, CUL2MB77E0, RBNGNEEYS9, W731G6G61K, A3HQUY156G, 45JXXNYX5W, AX50KL6AG9, S4CEY2GSVW, V86OBN8J1U, XJEFE2O3YF, 5XEHT10HDW, U40N63E6AK, VK1TWXDWUR, UFEXZDF5TK, GJFN2RJA9U, PFLFDN3SOU, 2CWM52X1X9, ...]  \n",
       "14                                                                                                                                                                                                                                                                                                                                                                                                                                                                                                                                                                                                                                                                                                                                                                                                                                                                                                                                                                                                                                                          [261.96, 731.94, 14.62, 957.5775, 22.368, 48.86, 7.28, 907.152, 18.504, 114.9, 1706.184, 911.424, 15.552, 407.976, 68.81, 2.544, 665.88, 55.5, 8.56, 213.48, 22.72, 19.46, 60.34, 71.372, 1044.63, 11.648, 90.57, 3083.43, 9.618, 124.2, 3.264, 86.304, 6.858, 15.76, 29.472, 1097.544, 190.92, 113.328, 532.3992, 212.058, 371.168, 147.168, 77.88, 95.616, 45.98, 17.46, 211.96, 45.0, 21.8, 38.22, 75.18, 6.16, 89.99, 15.26, 1029.95, 208.56, 32.4, 319.41, 14.56, 30.0, 48.48, 1.68, 13.98, 25.824, 146.73, 79.76, 213.115, 1113.024, 167.968, 75.88, 4.616, 19.05, 831.936, 97.04, 72.784, 1.248, 9.708, 27.24, 19.3, 208.16, 16.74, 14.9, 21.39, 200.984, 230.376, 301.96, 19.99, 158.368, 20.1, 73.584, 6.48, 12.96, 53.34, 32.96, 5.682, 96.53, 51.312, 64.624, 95.976, 1.788, ...]  \n",
       "15                                                                                                                                                                                                                                                                                                                                                                                                                                                                                                                                                                                                                                                                                                                                                                                                                                                                                                                                                                                                                                                                                                                                                                                                                                                                                                                                                                                                                                                                                                                                                                                                                                                                                                                                                                                                       [2, 3, 5, 7, 4, 6, 9, 1, 8, 14, 11, 13, 10, 12]  \n",
       "16                                                                                                                                                                                                                                                                                                                                                                                                                                                                                                                                                                                                                                                                                                                                                                                                                                                                                                                                                                                                                                                                                                                                                                                                                                                                                                                                                                                                                                                                                                                                                                                                                                                                                                                                                                                       [0.0, 0.45, 0.2, 0.8, 0.3, 0.5, 0.7, 0.6, 0.32, 0.1, 0.4, 0.15]  \n",
       "17                                                                                                                                                                                                                                                                                                                                                                                                                                                                                                                                                                                                                                                                                                                                                                                                                                                                                                                                                                     [41.9136, 219.582, 6.8714, -383.031, 2.5164, 14.1694, 1.9656, 90.7152, 5.7825, 34.47, 85.3092, 68.3568, 5.4432, 132.5922, -123.858, -3.816, 13.3176, 9.99, 2.4824, 16.011, 7.384, 5.0596, 15.6884, -1.0196, 240.2649, 4.2224, 11.7741, -1665.0522, -7.0532, 15.525, 1.1016, 9.7092, -5.715, 3.546, 9.9468, 123.4737, -147.963, 35.415, -46.9764, -15.147, 41.7564, 16.5564, 3.894, 9.5616, 19.7714, 8.2062, 8.4784, 4.95, 6.104, 17.9634, 35.3346, 2.9568, 17.0981, 6.2566, 298.6855, 52.14, 15.552, 7.098, 6.9888, 3.3, 16.362, 0.84, 6.1512, 9.3612, 68.9631, 22.3328, -15.2225, 111.3024, 62.988, 35.6636, 1.731, 8.763, -114.3912, 1.213, -18.196, -1.9344, -5.8248, 2.724, -14.475, 56.2032, 8.0352, 4.172, 6.2031, 62.8075, -48.9549, 33.2156, 6.7966, 13.8572, 6.633, 8.2782, 3.1104, 6.2208, 16.5354, 16.1504, -3.788, 40.5426, 17.9592, 22.5852, 22.6184, -10.7973, ...]  "
      ]
     },
     "execution_count": 143,
     "metadata": {},
     "output_type": "execute_result"
    }
   ],
   "source": [
    "pd.set_option('display.max_colwidth', None)\n",
    "list_unique = []\n",
    "for x in source.columns:\n",
    "    if(x == 'Order Date'):\n",
    "        list_unique.append([x, source[x].nunique(), source[x].apply(lambda x : x.date()).unique()])\n",
    "    else:\n",
    "        list_unique.append([x, source[x].nunique(), source[x].unique()])\n",
    "unique_value = pd.DataFrame(data=list_unique,\n",
    "                            columns=['Column Name', 'Number of Unique', 'Unique Value'])\n",
    "unique_value"
   ]
  },
  {
   "cell_type": "markdown",
   "metadata": {},
   "source": [
    "#### Check Invalid Category Members"
   ]
  },
  {
   "cell_type": "markdown",
   "metadata": {},
   "source": [
    "##### Location Category"
   ]
  },
  {
   "cell_type": "code",
   "execution_count": 144,
   "metadata": {},
   "outputs": [
    {
     "data": {
      "text/html": [
       "<div>\n",
       "<style scoped>\n",
       "    .dataframe tbody tr th:only-of-type {\n",
       "        vertical-align: middle;\n",
       "    }\n",
       "\n",
       "    .dataframe tbody tr th {\n",
       "        vertical-align: top;\n",
       "    }\n",
       "\n",
       "    .dataframe thead th {\n",
       "        text-align: right;\n",
       "    }\n",
       "</style>\n",
       "<table border=\"1\" class=\"dataframe\">\n",
       "  <thead>\n",
       "    <tr style=\"text-align: right;\">\n",
       "      <th></th>\n",
       "      <th>Region</th>\n",
       "      <th>Number of Subregion</th>\n",
       "      <th>Subregion</th>\n",
       "    </tr>\n",
       "  </thead>\n",
       "  <tbody>\n",
       "    <tr>\n",
       "      <th>0</th>\n",
       "      <td>EMEA</td>\n",
       "      <td>6</td>\n",
       "      <td>[UKIR, EU-WEST, NOR, EU, MEA, EU-EAST]</td>\n",
       "    </tr>\n",
       "    <tr>\n",
       "      <th>1</th>\n",
       "      <td>AMER</td>\n",
       "      <td>2</td>\n",
       "      <td>[NAMER, LATAM]</td>\n",
       "    </tr>\n",
       "    <tr>\n",
       "      <th>2</th>\n",
       "      <td>APJ</td>\n",
       "      <td>4</td>\n",
       "      <td>[JAPN, ANZ, APAC, IND]</td>\n",
       "    </tr>\n",
       "  </tbody>\n",
       "</table>\n",
       "</div>"
      ],
      "text/plain": [
       "  Region  Number of Subregion                               Subregion\n",
       "0   EMEA                    6  [UKIR, EU-WEST, NOR, EU, MEA, EU-EAST]\n",
       "1   AMER                    2                          [NAMER, LATAM]\n",
       "2    APJ                    4                  [JAPN, ANZ, APAC, IND]"
      ]
     },
     "execution_count": 144,
     "metadata": {},
     "output_type": "execute_result"
    }
   ],
   "source": [
    "#Region\n",
    "pd.set_option('display.max_colwidth', None)\n",
    "list_subregion = []\n",
    "for x in source['Region'].unique():\n",
    "    list_subregion.append([x, source[source['Region'] == x]['Subregion'].nunique(), source[source['Region'] == x]['Subregion'].unique()])\n",
    "unique_subregion = pd.DataFrame(data=list_subregion,\n",
    "                            columns=['Region', 'Number of Subregion', 'Subregion'])\n",
    "unique_subregion"
   ]
  },
  {
   "cell_type": "code",
   "execution_count": 145,
   "metadata": {},
   "outputs": [
    {
     "data": {
      "text/html": [
       "<div>\n",
       "<style scoped>\n",
       "    .dataframe tbody tr th:only-of-type {\n",
       "        vertical-align: middle;\n",
       "    }\n",
       "\n",
       "    .dataframe tbody tr th {\n",
       "        vertical-align: top;\n",
       "    }\n",
       "\n",
       "    .dataframe thead th {\n",
       "        text-align: right;\n",
       "    }\n",
       "</style>\n",
       "<table border=\"1\" class=\"dataframe\">\n",
       "  <thead>\n",
       "    <tr style=\"text-align: right;\">\n",
       "      <th></th>\n",
       "      <th>Subregion</th>\n",
       "      <th>Number of Country</th>\n",
       "      <th>Country</th>\n",
       "    </tr>\n",
       "  </thead>\n",
       "  <tbody>\n",
       "    <tr>\n",
       "      <th>0</th>\n",
       "      <td>UKIR</td>\n",
       "      <td>2</td>\n",
       "      <td>[Ireland, United Kingdom]</td>\n",
       "    </tr>\n",
       "    <tr>\n",
       "      <th>1</th>\n",
       "      <td>EU-WEST</td>\n",
       "      <td>13</td>\n",
       "      <td>[Germany, France, Luxembourg, Spain, Portugal, Belgium, Netherlands, Poland, Austria, Denmark, Croatia, Slovenia, Iceland]</td>\n",
       "    </tr>\n",
       "    <tr>\n",
       "      <th>2</th>\n",
       "      <td>NOR</td>\n",
       "      <td>3</td>\n",
       "      <td>[Sweden, Finland, Norway]</td>\n",
       "    </tr>\n",
       "    <tr>\n",
       "      <th>3</th>\n",
       "      <td>EU</td>\n",
       "      <td>1</td>\n",
       "      <td>[Italy]</td>\n",
       "    </tr>\n",
       "    <tr>\n",
       "      <th>4</th>\n",
       "      <td>MEA</td>\n",
       "      <td>6</td>\n",
       "      <td>[Turkey, South Africa, Saudi Arabia, United Arab Emirates, Egypt, Qatar]</td>\n",
       "    </tr>\n",
       "    <tr>\n",
       "      <th>5</th>\n",
       "      <td>EU-EAST</td>\n",
       "      <td>5</td>\n",
       "      <td>[Russia, Czech Republic, Israel, Ukraine, Greece]</td>\n",
       "    </tr>\n",
       "  </tbody>\n",
       "</table>\n",
       "</div>"
      ],
      "text/plain": [
       "  Subregion  Number of Country  \\\n",
       "0      UKIR                  2   \n",
       "1   EU-WEST                 13   \n",
       "2       NOR                  3   \n",
       "3        EU                  1   \n",
       "4       MEA                  6   \n",
       "5   EU-EAST                  5   \n",
       "\n",
       "                                                                                                                      Country  \n",
       "0                                                                                                   [Ireland, United Kingdom]  \n",
       "1  [Germany, France, Luxembourg, Spain, Portugal, Belgium, Netherlands, Poland, Austria, Denmark, Croatia, Slovenia, Iceland]  \n",
       "2                                                                                                   [Sweden, Finland, Norway]  \n",
       "3                                                                                                                     [Italy]  \n",
       "4                                                    [Turkey, South Africa, Saudi Arabia, United Arab Emirates, Egypt, Qatar]  \n",
       "5                                                                           [Russia, Czech Republic, Israel, Ukraine, Greece]  "
      ]
     },
     "execution_count": 145,
     "metadata": {},
     "output_type": "execute_result"
    }
   ],
   "source": [
    "#Subregion from EMEA Region\n",
    "list_country_emea = []\n",
    "for x in source[source['Region'] == 'EMEA']['Subregion'].unique():\n",
    "    list_country_emea.append([x, source[source['Subregion'] == x]['Country'].nunique(), source[source['Subregion'] == x]['Country'].unique()])\n",
    "unique_country_emea = pd.DataFrame(data=list_country_emea,\n",
    "                            columns=['Subregion', 'Number of Country', 'Country'])\n",
    "unique_country_emea"
   ]
  },
  {
   "cell_type": "code",
   "execution_count": 146,
   "metadata": {},
   "outputs": [
    {
     "data": {
      "text/html": [
       "<div>\n",
       "<style scoped>\n",
       "    .dataframe tbody tr th:only-of-type {\n",
       "        vertical-align: middle;\n",
       "    }\n",
       "\n",
       "    .dataframe tbody tr th {\n",
       "        vertical-align: top;\n",
       "    }\n",
       "\n",
       "    .dataframe thead th {\n",
       "        text-align: right;\n",
       "    }\n",
       "</style>\n",
       "<table border=\"1\" class=\"dataframe\">\n",
       "  <thead>\n",
       "    <tr style=\"text-align: right;\">\n",
       "      <th></th>\n",
       "      <th>Subregion</th>\n",
       "      <th>Number of Country</th>\n",
       "      <th>Country</th>\n",
       "    </tr>\n",
       "  </thead>\n",
       "  <tbody>\n",
       "    <tr>\n",
       "      <th>0</th>\n",
       "      <td>JAPN</td>\n",
       "      <td>1</td>\n",
       "      <td>[Japan]</td>\n",
       "    </tr>\n",
       "    <tr>\n",
       "      <th>1</th>\n",
       "      <td>ANZ</td>\n",
       "      <td>2</td>\n",
       "      <td>[Australia, New Zealand]</td>\n",
       "    </tr>\n",
       "    <tr>\n",
       "      <th>2</th>\n",
       "      <td>APAC</td>\n",
       "      <td>6</td>\n",
       "      <td>[Philippines, Singapore, South Korea, China, Indonesia, Taiwan]</td>\n",
       "    </tr>\n",
       "    <tr>\n",
       "      <th>3</th>\n",
       "      <td>IND</td>\n",
       "      <td>1</td>\n",
       "      <td>[India]</td>\n",
       "    </tr>\n",
       "  </tbody>\n",
       "</table>\n",
       "</div>"
      ],
      "text/plain": [
       "  Subregion  Number of Country  \\\n",
       "0      JAPN                  1   \n",
       "1       ANZ                  2   \n",
       "2      APAC                  6   \n",
       "3       IND                  1   \n",
       "\n",
       "                                                           Country  \n",
       "0                                                          [Japan]  \n",
       "1                                         [Australia, New Zealand]  \n",
       "2  [Philippines, Singapore, South Korea, China, Indonesia, Taiwan]  \n",
       "3                                                          [India]  "
      ]
     },
     "execution_count": 146,
     "metadata": {},
     "output_type": "execute_result"
    }
   ],
   "source": [
    "#Subregion from APJ Region\n",
    "list_country_apj = []\n",
    "for x in source[source['Region'] == 'APJ']['Subregion'].unique():\n",
    "    list_country_apj.append([x, source[source['Subregion'] == x]['Country'].nunique(), source[source['Subregion'] == x]['Country'].unique()])\n",
    "unique_country_apj = pd.DataFrame(data=list_country_apj,\n",
    "                            columns=['Subregion', 'Number of Country', 'Country'])\n",
    "unique_country_apj"
   ]
  },
  {
   "cell_type": "code",
   "execution_count": 147,
   "metadata": {},
   "outputs": [
    {
     "data": {
      "text/html": [
       "<div>\n",
       "<style scoped>\n",
       "    .dataframe tbody tr th:only-of-type {\n",
       "        vertical-align: middle;\n",
       "    }\n",
       "\n",
       "    .dataframe tbody tr th {\n",
       "        vertical-align: top;\n",
       "    }\n",
       "\n",
       "    .dataframe thead th {\n",
       "        text-align: right;\n",
       "    }\n",
       "</style>\n",
       "<table border=\"1\" class=\"dataframe\">\n",
       "  <thead>\n",
       "    <tr style=\"text-align: right;\">\n",
       "      <th></th>\n",
       "      <th>Subregion</th>\n",
       "      <th>Number of Country</th>\n",
       "      <th>Country</th>\n",
       "    </tr>\n",
       "  </thead>\n",
       "  <tbody>\n",
       "    <tr>\n",
       "      <th>0</th>\n",
       "      <td>NAMER</td>\n",
       "      <td>2</td>\n",
       "      <td>[United States, Canada]</td>\n",
       "    </tr>\n",
       "    <tr>\n",
       "      <th>1</th>\n",
       "      <td>LATAM</td>\n",
       "      <td>6</td>\n",
       "      <td>[Costa Rica, Brazil, Chile, Colombia, Mexico, Argentina]</td>\n",
       "    </tr>\n",
       "  </tbody>\n",
       "</table>\n",
       "</div>"
      ],
      "text/plain": [
       "  Subregion  Number of Country  \\\n",
       "0     NAMER                  2   \n",
       "1     LATAM                  6   \n",
       "\n",
       "                                                    Country  \n",
       "0                                   [United States, Canada]  \n",
       "1  [Costa Rica, Brazil, Chile, Colombia, Mexico, Argentina]  "
      ]
     },
     "execution_count": 147,
     "metadata": {},
     "output_type": "execute_result"
    }
   ],
   "source": [
    "#Subregion from AMER Region\n",
    "list_country_amer = []\n",
    "for x in source[source['Region'] == 'AMER']['Subregion'].unique():\n",
    "    list_country_amer.append([x, source[source['Subregion'] == x]['Country'].nunique(), source[source['Subregion'] == x]['Country'].unique()])\n",
    "unique_country_amer = pd.DataFrame(data=list_country_amer,\n",
    "                            columns=['Subregion', 'Number of Country', 'Country'])\n",
    "unique_country_amer"
   ]
  },
  {
   "cell_type": "code",
   "execution_count": 148,
   "metadata": {},
   "outputs": [],
   "source": [
    "#Let's make some subregion adjustment based on country location\n",
    "mapping_subregion = {\n",
    "    'Denmark' : 'NOR',\n",
    "    'Iceland' : 'NOR',\n",
    "    'Croatia' : 'EU-EAST',\n",
    "    'Slovenia' : 'EU-EAST',\n",
    "    'Turkey' : 'EU-EAST',\n",
    "    'Italy' : 'EU-WEST',\n",
    "    'Qatar' : 'WA',\n",
    "    'Saudi Arabia' : 'WA',\n",
    "    'United Arab Emirates' : 'WA',\n",
    "    'Japan' : 'EA',\n",
    "    'China' : 'EA',\n",
    "    'Taiwan' : 'EA',\n",
    "    'South Korea' : 'EA',\n",
    "    'Indonesia' : 'SEA',\n",
    "    'Philippines' : 'SEA',\n",
    "    'Singapore' : 'SEA',\n",
    "    'India' : 'SA',\n",
    "    'Costa Rica' : 'NAMER',\n",
    "    'Mexico' : 'NAMER',\n",
    "    'Egypt' : 'NAf',\n",
    "    'South Africa' : 'SSA'\n",
    "}\n",
    "source['Subregion'] = np.where(source['Country'].isin(mapping_subregion.keys()), source['Country'].map(mapping_subregion), source['Subregion'])"
   ]
  },
  {
   "cell_type": "code",
   "execution_count": 149,
   "metadata": {},
   "outputs": [],
   "source": [
    "#Let's make some region adjustment based on Subregion\n",
    "mapping_region = {\n",
    "    'NAf' : 'AFR',\n",
    "    'SSA' : 'AFR',\n",
    "    'WA' : 'APJ'\n",
    "}\n",
    "source['Region'] = np.where(source['Subregion'].isin(mapping_region.keys()), source['Subregion'].map(mapping_region), source['Region'])"
   ]
  },
  {
   "cell_type": "code",
   "execution_count": 150,
   "metadata": {},
   "outputs": [
    {
     "data": {
      "text/html": [
       "<div>\n",
       "<style scoped>\n",
       "    .dataframe tbody tr th:only-of-type {\n",
       "        vertical-align: middle;\n",
       "    }\n",
       "\n",
       "    .dataframe tbody tr th {\n",
       "        vertical-align: top;\n",
       "    }\n",
       "\n",
       "    .dataframe thead th {\n",
       "        text-align: right;\n",
       "    }\n",
       "</style>\n",
       "<table border=\"1\" class=\"dataframe\">\n",
       "  <thead>\n",
       "    <tr style=\"text-align: right;\">\n",
       "      <th></th>\n",
       "      <th>Subregion</th>\n",
       "      <th>Number of Country</th>\n",
       "      <th>Country</th>\n",
       "    </tr>\n",
       "  </thead>\n",
       "  <tbody>\n",
       "    <tr>\n",
       "      <th>0</th>\n",
       "      <td>SSA</td>\n",
       "      <td>1</td>\n",
       "      <td>[South Africa]</td>\n",
       "    </tr>\n",
       "    <tr>\n",
       "      <th>1</th>\n",
       "      <td>NAf</td>\n",
       "      <td>1</td>\n",
       "      <td>[Egypt]</td>\n",
       "    </tr>\n",
       "  </tbody>\n",
       "</table>\n",
       "</div>"
      ],
      "text/plain": [
       "  Subregion  Number of Country         Country\n",
       "0       SSA                  1  [South Africa]\n",
       "1       NAf                  1         [Egypt]"
      ]
     },
     "execution_count": 150,
     "metadata": {},
     "output_type": "execute_result"
    }
   ],
   "source": [
    "#Subregion for Africa (AFR) Region\n",
    "list_country_afr = []\n",
    "for x in source[source['Region'] == 'AFR']['Subregion'].unique():\n",
    "    list_country_afr.append([x, source[source['Subregion'] == x]['Country'].nunique(), source[source['Subregion'] == x]['Country'].unique()])\n",
    "unique_afr = pd.DataFrame(data = list_country_afr,\n",
    "                          columns = ['Subregion', 'Number of Country', 'Country'])\n",
    "unique_afr"
   ]
  },
  {
   "cell_type": "code",
   "execution_count": 151,
   "metadata": {},
   "outputs": [],
   "source": [
    "#Let's rename our region\n",
    "source['Region'].replace({'EMEA' : 'EU', 'APJ' : 'APAC'}, inplace=True)"
   ]
  },
  {
   "cell_type": "code",
   "execution_count": 152,
   "metadata": {},
   "outputs": [
    {
     "data": {
      "text/html": [
       "<div>\n",
       "<style scoped>\n",
       "    .dataframe tbody tr th:only-of-type {\n",
       "        vertical-align: middle;\n",
       "    }\n",
       "\n",
       "    .dataframe tbody tr th {\n",
       "        vertical-align: top;\n",
       "    }\n",
       "\n",
       "    .dataframe thead th {\n",
       "        text-align: right;\n",
       "    }\n",
       "</style>\n",
       "<table border=\"1\" class=\"dataframe\">\n",
       "  <thead>\n",
       "    <tr style=\"text-align: right;\">\n",
       "      <th></th>\n",
       "      <th>Country</th>\n",
       "      <th>Number of City</th>\n",
       "      <th>City</th>\n",
       "    </tr>\n",
       "  </thead>\n",
       "  <tbody>\n",
       "    <tr>\n",
       "      <th>0</th>\n",
       "      <td>Ireland</td>\n",
       "      <td>3</td>\n",
       "      <td>[Dublin, Cork, Limerick]</td>\n",
       "    </tr>\n",
       "    <tr>\n",
       "      <th>1</th>\n",
       "      <td>Germany</td>\n",
       "      <td>11</td>\n",
       "      <td>[Stuttgart, Hanover, Cologne, Munich, Leipzig, Dresden, Hamburg, Berlin, Frankfurt, Nuremberg, Mannheim]</td>\n",
       "    </tr>\n",
       "    <tr>\n",
       "      <th>2</th>\n",
       "      <td>Sweden</td>\n",
       "      <td>4</td>\n",
       "      <td>[Stockholm, Uppsala, Malmö, Gothenburg]</td>\n",
       "    </tr>\n",
       "    <tr>\n",
       "      <th>3</th>\n",
       "      <td>Italy</td>\n",
       "      <td>12</td>\n",
       "      <td>[Naples, Rome, Genoa, Milan, Venice, Turin, Bologna, Florence, Brescia, Bari, Palermo, Catania]</td>\n",
       "    </tr>\n",
       "    <tr>\n",
       "      <th>4</th>\n",
       "      <td>Turkey</td>\n",
       "      <td>4</td>\n",
       "      <td>[Ankara, Istanbul, Izmir, Bursa]</td>\n",
       "    </tr>\n",
       "    <tr>\n",
       "      <th>5</th>\n",
       "      <td>France</td>\n",
       "      <td>5</td>\n",
       "      <td>[Paris, Lyon, Nice, Nantes, Marseille]</td>\n",
       "    </tr>\n",
       "    <tr>\n",
       "      <th>6</th>\n",
       "      <td>Luxembourg</td>\n",
       "      <td>1</td>\n",
       "      <td>[Luxembourg]</td>\n",
       "    </tr>\n",
       "    <tr>\n",
       "      <th>7</th>\n",
       "      <td>United Kingdom</td>\n",
       "      <td>14</td>\n",
       "      <td>[London, Brighton, Leicester, Cardiff, Birmingham, Liverpool, Edinburgh, Leeds, Woking, Manchester, Belfast, Bristol, Glasgow, Newcastle]</td>\n",
       "    </tr>\n",
       "    <tr>\n",
       "      <th>8</th>\n",
       "      <td>Spain</td>\n",
       "      <td>8</td>\n",
       "      <td>[Madrid, Murcia, Alicante, Seville, Zaragoza, Barcelona, Valencia, Granada]</td>\n",
       "    </tr>\n",
       "    <tr>\n",
       "      <th>9</th>\n",
       "      <td>Portugal</td>\n",
       "      <td>2</td>\n",
       "      <td>[Lisboa, Porto]</td>\n",
       "    </tr>\n",
       "    <tr>\n",
       "      <th>10</th>\n",
       "      <td>Belgium</td>\n",
       "      <td>3</td>\n",
       "      <td>[Brussels, Antwerp, Ghent]</td>\n",
       "    </tr>\n",
       "    <tr>\n",
       "      <th>11</th>\n",
       "      <td>Russia</td>\n",
       "      <td>5</td>\n",
       "      <td>[Moscow, St Petersburg, Yekaterinburg, Novosibirsk, Nizhny Novogorod]</td>\n",
       "    </tr>\n",
       "    <tr>\n",
       "      <th>12</th>\n",
       "      <td>Netherlands</td>\n",
       "      <td>3</td>\n",
       "      <td>[The Hague, Amsterdam, Rotterdam]</td>\n",
       "    </tr>\n",
       "    <tr>\n",
       "      <th>13</th>\n",
       "      <td>Poland</td>\n",
       "      <td>2</td>\n",
       "      <td>[Warsaw, Krakow]</td>\n",
       "    </tr>\n",
       "    <tr>\n",
       "      <th>14</th>\n",
       "      <td>Czech Republic</td>\n",
       "      <td>3</td>\n",
       "      <td>[Prague, Ostrava, Brno]</td>\n",
       "    </tr>\n",
       "    <tr>\n",
       "      <th>15</th>\n",
       "      <td>Finland</td>\n",
       "      <td>4</td>\n",
       "      <td>[Helsinki, Tampere, Vantaa, Espoo]</td>\n",
       "    </tr>\n",
       "    <tr>\n",
       "      <th>16</th>\n",
       "      <td>Israel</td>\n",
       "      <td>2</td>\n",
       "      <td>[Tel Aviv, Jerusalem]</td>\n",
       "    </tr>\n",
       "    <tr>\n",
       "      <th>17</th>\n",
       "      <td>Norway</td>\n",
       "      <td>2</td>\n",
       "      <td>[Hordaland, Oslo]</td>\n",
       "    </tr>\n",
       "    <tr>\n",
       "      <th>18</th>\n",
       "      <td>Ukraine</td>\n",
       "      <td>4</td>\n",
       "      <td>[Kyiv, Kharkiv, Odessa, Donetsk]</td>\n",
       "    </tr>\n",
       "    <tr>\n",
       "      <th>19</th>\n",
       "      <td>Greece</td>\n",
       "      <td>2</td>\n",
       "      <td>[Athens, Thessaloniki]</td>\n",
       "    </tr>\n",
       "    <tr>\n",
       "      <th>20</th>\n",
       "      <td>Austria</td>\n",
       "      <td>1</td>\n",
       "      <td>[Vienna]</td>\n",
       "    </tr>\n",
       "    <tr>\n",
       "      <th>21</th>\n",
       "      <td>Denmark</td>\n",
       "      <td>1</td>\n",
       "      <td>[Copenhagen]</td>\n",
       "    </tr>\n",
       "    <tr>\n",
       "      <th>22</th>\n",
       "      <td>Croatia</td>\n",
       "      <td>1</td>\n",
       "      <td>[Zagreb]</td>\n",
       "    </tr>\n",
       "    <tr>\n",
       "      <th>23</th>\n",
       "      <td>Slovenia</td>\n",
       "      <td>1</td>\n",
       "      <td>[Ljubljana]</td>\n",
       "    </tr>\n",
       "    <tr>\n",
       "      <th>24</th>\n",
       "      <td>Iceland</td>\n",
       "      <td>1</td>\n",
       "      <td>[Reykjavík]</td>\n",
       "    </tr>\n",
       "  </tbody>\n",
       "</table>\n",
       "</div>"
      ],
      "text/plain": [
       "           Country  Number of City  \\\n",
       "0          Ireland               3   \n",
       "1          Germany              11   \n",
       "2           Sweden               4   \n",
       "3            Italy              12   \n",
       "4           Turkey               4   \n",
       "5           France               5   \n",
       "6       Luxembourg               1   \n",
       "7   United Kingdom              14   \n",
       "8            Spain               8   \n",
       "9         Portugal               2   \n",
       "10         Belgium               3   \n",
       "11          Russia               5   \n",
       "12     Netherlands               3   \n",
       "13          Poland               2   \n",
       "14  Czech Republic               3   \n",
       "15         Finland               4   \n",
       "16          Israel               2   \n",
       "17          Norway               2   \n",
       "18         Ukraine               4   \n",
       "19          Greece               2   \n",
       "20         Austria               1   \n",
       "21         Denmark               1   \n",
       "22         Croatia               1   \n",
       "23        Slovenia               1   \n",
       "24         Iceland               1   \n",
       "\n",
       "                                                                                                                                         City  \n",
       "0                                                                                                                    [Dublin, Cork, Limerick]  \n",
       "1                                    [Stuttgart, Hanover, Cologne, Munich, Leipzig, Dresden, Hamburg, Berlin, Frankfurt, Nuremberg, Mannheim]  \n",
       "2                                                                                                     [Stockholm, Uppsala, Malmö, Gothenburg]  \n",
       "3                                             [Naples, Rome, Genoa, Milan, Venice, Turin, Bologna, Florence, Brescia, Bari, Palermo, Catania]  \n",
       "4                                                                                                            [Ankara, Istanbul, Izmir, Bursa]  \n",
       "5                                                                                                      [Paris, Lyon, Nice, Nantes, Marseille]  \n",
       "6                                                                                                                                [Luxembourg]  \n",
       "7   [London, Brighton, Leicester, Cardiff, Birmingham, Liverpool, Edinburgh, Leeds, Woking, Manchester, Belfast, Bristol, Glasgow, Newcastle]  \n",
       "8                                                                 [Madrid, Murcia, Alicante, Seville, Zaragoza, Barcelona, Valencia, Granada]  \n",
       "9                                                                                                                             [Lisboa, Porto]  \n",
       "10                                                                                                                 [Brussels, Antwerp, Ghent]  \n",
       "11                                                                      [Moscow, St Petersburg, Yekaterinburg, Novosibirsk, Nizhny Novogorod]  \n",
       "12                                                                                                          [The Hague, Amsterdam, Rotterdam]  \n",
       "13                                                                                                                           [Warsaw, Krakow]  \n",
       "14                                                                                                                    [Prague, Ostrava, Brno]  \n",
       "15                                                                                                         [Helsinki, Tampere, Vantaa, Espoo]  \n",
       "16                                                                                                                      [Tel Aviv, Jerusalem]  \n",
       "17                                                                                                                          [Hordaland, Oslo]  \n",
       "18                                                                                                           [Kyiv, Kharkiv, Odessa, Donetsk]  \n",
       "19                                                                                                                     [Athens, Thessaloniki]  \n",
       "20                                                                                                                                   [Vienna]  \n",
       "21                                                                                                                               [Copenhagen]  \n",
       "22                                                                                                                                   [Zagreb]  \n",
       "23                                                                                                                                [Ljubljana]  \n",
       "24                                                                                                                                [Reykjavík]  "
      ]
     },
     "execution_count": 152,
     "metadata": {},
     "output_type": "execute_result"
    }
   ],
   "source": [
    "#Country from Europe (EU) Region\n",
    "list_city_eu = []\n",
    "for x in source[source['Region'] == 'EU']['Country'].unique():\n",
    "    list_city_eu.append([x, source[source['Country'] == x]['City'].nunique(), source[source['Country'] == x]['City'].unique()])\n",
    "unique_city_eu = pd.DataFrame(data=list_city_eu,\n",
    "                            columns=['Country', 'Number of City', 'City'])\n",
    "unique_city_eu"
   ]
  },
  {
   "cell_type": "code",
   "execution_count": 153,
   "metadata": {},
   "outputs": [
    {
     "data": {
      "text/html": [
       "<div>\n",
       "<style scoped>\n",
       "    .dataframe tbody tr th:only-of-type {\n",
       "        vertical-align: middle;\n",
       "    }\n",
       "\n",
       "    .dataframe tbody tr th {\n",
       "        vertical-align: top;\n",
       "    }\n",
       "\n",
       "    .dataframe thead th {\n",
       "        text-align: right;\n",
       "    }\n",
       "</style>\n",
       "<table border=\"1\" class=\"dataframe\">\n",
       "  <thead>\n",
       "    <tr style=\"text-align: right;\">\n",
       "      <th></th>\n",
       "      <th>Country</th>\n",
       "      <th>Number of City</th>\n",
       "      <th>City</th>\n",
       "    </tr>\n",
       "  </thead>\n",
       "  <tbody>\n",
       "    <tr>\n",
       "      <th>0</th>\n",
       "      <td>Japan</td>\n",
       "      <td>13</td>\n",
       "      <td>[Saitama, Tokyo, Aichi, Osaka, Chiba, Fukuoka, Kanagawa, Hyogo, Sapporo, Shizuoka, Kyoto, Ibaraki, Hiroshima]</td>\n",
       "    </tr>\n",
       "    <tr>\n",
       "      <th>1</th>\n",
       "      <td>Australia</td>\n",
       "      <td>10</td>\n",
       "      <td>[Wollongong, Sydney, Canberra, Geelong, Melbourne, Adelaide, Brisbane, Hobart, Gold Coast, Perth]</td>\n",
       "    </tr>\n",
       "    <tr>\n",
       "      <th>2</th>\n",
       "      <td>Philippines</td>\n",
       "      <td>3</td>\n",
       "      <td>[Davao City, Manila, Quezon City]</td>\n",
       "    </tr>\n",
       "    <tr>\n",
       "      <th>3</th>\n",
       "      <td>India</td>\n",
       "      <td>6</td>\n",
       "      <td>[Kolkata, Mumbai, Delhi, Bangalore, Chennai, Hyderabad]</td>\n",
       "    </tr>\n",
       "    <tr>\n",
       "      <th>4</th>\n",
       "      <td>Singapore</td>\n",
       "      <td>1</td>\n",
       "      <td>[Singapore]</td>\n",
       "    </tr>\n",
       "    <tr>\n",
       "      <th>5</th>\n",
       "      <td>New Zealand</td>\n",
       "      <td>2</td>\n",
       "      <td>[Wellington, Auckland]</td>\n",
       "    </tr>\n",
       "    <tr>\n",
       "      <th>6</th>\n",
       "      <td>Saudi Arabia</td>\n",
       "      <td>3</td>\n",
       "      <td>[Riyadh, Dhahran, Jeddah]</td>\n",
       "    </tr>\n",
       "    <tr>\n",
       "      <th>7</th>\n",
       "      <td>South Korea</td>\n",
       "      <td>5</td>\n",
       "      <td>[Incheon, Seoul, Daegu, Gwangju, Busan]</td>\n",
       "    </tr>\n",
       "    <tr>\n",
       "      <th>8</th>\n",
       "      <td>United Arab Emirates</td>\n",
       "      <td>2</td>\n",
       "      <td>[Abu Dhabi, Dubai]</td>\n",
       "    </tr>\n",
       "    <tr>\n",
       "      <th>9</th>\n",
       "      <td>China</td>\n",
       "      <td>7</td>\n",
       "      <td>[Shanghai, Shenzhen, Guangzhou, Beijing, Tianjin, Suzhou, Chengdu]</td>\n",
       "    </tr>\n",
       "    <tr>\n",
       "      <th>10</th>\n",
       "      <td>Indonesia</td>\n",
       "      <td>3</td>\n",
       "      <td>[Jakarta, Surabaya, Bandung]</td>\n",
       "    </tr>\n",
       "    <tr>\n",
       "      <th>11</th>\n",
       "      <td>Taiwan</td>\n",
       "      <td>1</td>\n",
       "      <td>[Taipei]</td>\n",
       "    </tr>\n",
       "    <tr>\n",
       "      <th>12</th>\n",
       "      <td>Qatar</td>\n",
       "      <td>1</td>\n",
       "      <td>[Doha]</td>\n",
       "    </tr>\n",
       "  </tbody>\n",
       "</table>\n",
       "</div>"
      ],
      "text/plain": [
       "                 Country  Number of City  \\\n",
       "0                  Japan              13   \n",
       "1              Australia              10   \n",
       "2            Philippines               3   \n",
       "3                  India               6   \n",
       "4              Singapore               1   \n",
       "5            New Zealand               2   \n",
       "6           Saudi Arabia               3   \n",
       "7            South Korea               5   \n",
       "8   United Arab Emirates               2   \n",
       "9                  China               7   \n",
       "10             Indonesia               3   \n",
       "11                Taiwan               1   \n",
       "12                 Qatar               1   \n",
       "\n",
       "                                                                                                             City  \n",
       "0   [Saitama, Tokyo, Aichi, Osaka, Chiba, Fukuoka, Kanagawa, Hyogo, Sapporo, Shizuoka, Kyoto, Ibaraki, Hiroshima]  \n",
       "1               [Wollongong, Sydney, Canberra, Geelong, Melbourne, Adelaide, Brisbane, Hobart, Gold Coast, Perth]  \n",
       "2                                                                               [Davao City, Manila, Quezon City]  \n",
       "3                                                         [Kolkata, Mumbai, Delhi, Bangalore, Chennai, Hyderabad]  \n",
       "4                                                                                                     [Singapore]  \n",
       "5                                                                                          [Wellington, Auckland]  \n",
       "6                                                                                       [Riyadh, Dhahran, Jeddah]  \n",
       "7                                                                         [Incheon, Seoul, Daegu, Gwangju, Busan]  \n",
       "8                                                                                              [Abu Dhabi, Dubai]  \n",
       "9                                              [Shanghai, Shenzhen, Guangzhou, Beijing, Tianjin, Suzhou, Chengdu]  \n",
       "10                                                                                   [Jakarta, Surabaya, Bandung]  \n",
       "11                                                                                                       [Taipei]  \n",
       "12                                                                                                         [Doha]  "
      ]
     },
     "execution_count": 153,
     "metadata": {},
     "output_type": "execute_result"
    }
   ],
   "source": [
    "#Country from Asia-Pacific (APAC) Region\n",
    "list_city_apac = []\n",
    "for x in source[source['Region'] == 'APAC']['Country'].unique():\n",
    "    list_city_apac.append([x, source[source['Country'] == x]['City'].nunique(), source[source['Country'] == x]['City'].unique()])\n",
    "unique_city_apac = pd.DataFrame(data=list_city_apac,\n",
    "                            columns=['Country', 'Number of City', 'City'])\n",
    "unique_city_apac"
   ]
  },
  {
   "cell_type": "code",
   "execution_count": 154,
   "metadata": {},
   "outputs": [
    {
     "data": {
      "text/html": [
       "<div>\n",
       "<style scoped>\n",
       "    .dataframe tbody tr th:only-of-type {\n",
       "        vertical-align: middle;\n",
       "    }\n",
       "\n",
       "    .dataframe tbody tr th {\n",
       "        vertical-align: top;\n",
       "    }\n",
       "\n",
       "    .dataframe thead th {\n",
       "        text-align: right;\n",
       "    }\n",
       "</style>\n",
       "<table border=\"1\" class=\"dataframe\">\n",
       "  <thead>\n",
       "    <tr style=\"text-align: right;\">\n",
       "      <th></th>\n",
       "      <th>Country</th>\n",
       "      <th>Number of City</th>\n",
       "      <th>City</th>\n",
       "    </tr>\n",
       "  </thead>\n",
       "  <tbody>\n",
       "    <tr>\n",
       "      <th>0</th>\n",
       "      <td>United States</td>\n",
       "      <td>68</td>\n",
       "      <td>[New York City, Los Angeles, Aurora, Newark, Chicago, Raleigh, Providence, Oklahoma City, Rochester, Seattle, Detroit, Lafayette, Jacksonville, Long Beach, Henderson, Columbus, Milwaukee, San Francisco, Miami, Yonkers, Roswell, Baltimore, Atlanta, Jackson, Springfield, Richmond, Huntsville, San Diego, Louisville, Tampa, Virginia Beach, Philadelphia, Columbia, Oakland, Dallas, Phoenix, Anaheim, Lawrence, Austin, Burlington, Sacramento, Fort Worth, Houston, Nashville, Wilmington, Indianapolis, Lakewood, Arlington, San Jose, Fresno, Lakeland, Lancaster, Buffalo, San Antonio, Cleveland, Charlotte, Tucson, Tulsa, Denver, Alexandria, Las Vegas, Minneapolis, Omaha, Franklin, Tallahassee, Everett, Clinton, Memphis]</td>\n",
       "    </tr>\n",
       "    <tr>\n",
       "      <th>1</th>\n",
       "      <td>Canada</td>\n",
       "      <td>10</td>\n",
       "      <td>[Toronto, Vancouver, Hamilton, Ottawa, Montreal, Calgary, Quebec, Regina, Winnipeg, Victoria]</td>\n",
       "    </tr>\n",
       "    <tr>\n",
       "      <th>2</th>\n",
       "      <td>Costa Rica</td>\n",
       "      <td>1</td>\n",
       "      <td>[San José]</td>\n",
       "    </tr>\n",
       "    <tr>\n",
       "      <th>3</th>\n",
       "      <td>Brazil</td>\n",
       "      <td>6</td>\n",
       "      <td>[Salvador, Rio de Janeiro, São Paulo, Manaus, Belo Horizonte, Brasília]</td>\n",
       "    </tr>\n",
       "    <tr>\n",
       "      <th>4</th>\n",
       "      <td>Chile</td>\n",
       "      <td>3</td>\n",
       "      <td>[Puente Alto, Santiago, Antofagasta]</td>\n",
       "    </tr>\n",
       "    <tr>\n",
       "      <th>5</th>\n",
       "      <td>Colombia</td>\n",
       "      <td>3</td>\n",
       "      <td>[Bogotá, Medellín, Cali]</td>\n",
       "    </tr>\n",
       "    <tr>\n",
       "      <th>6</th>\n",
       "      <td>Mexico</td>\n",
       "      <td>8</td>\n",
       "      <td>[Mexico City, Monterrey, Guadalajara, Puerto Vallarta, Toluca, Tijuana, Cancun, Cabo San Lucas]</td>\n",
       "    </tr>\n",
       "    <tr>\n",
       "      <th>7</th>\n",
       "      <td>Argentina</td>\n",
       "      <td>4</td>\n",
       "      <td>[Córdoba, Buenos Aires, Mendoza, Rosario]</td>\n",
       "    </tr>\n",
       "  </tbody>\n",
       "</table>\n",
       "</div>"
      ],
      "text/plain": [
       "         Country  Number of City  \\\n",
       "0  United States              68   \n",
       "1         Canada              10   \n",
       "2     Costa Rica               1   \n",
       "3         Brazil               6   \n",
       "4          Chile               3   \n",
       "5       Colombia               3   \n",
       "6         Mexico               8   \n",
       "7      Argentina               4   \n",
       "\n",
       "                                                                                                                                                                                                                                                                                                                                                                                                                                                                                                                                                                                                                                                                                                                                           City  \n",
       "0  [New York City, Los Angeles, Aurora, Newark, Chicago, Raleigh, Providence, Oklahoma City, Rochester, Seattle, Detroit, Lafayette, Jacksonville, Long Beach, Henderson, Columbus, Milwaukee, San Francisco, Miami, Yonkers, Roswell, Baltimore, Atlanta, Jackson, Springfield, Richmond, Huntsville, San Diego, Louisville, Tampa, Virginia Beach, Philadelphia, Columbia, Oakland, Dallas, Phoenix, Anaheim, Lawrence, Austin, Burlington, Sacramento, Fort Worth, Houston, Nashville, Wilmington, Indianapolis, Lakewood, Arlington, San Jose, Fresno, Lakeland, Lancaster, Buffalo, San Antonio, Cleveland, Charlotte, Tucson, Tulsa, Denver, Alexandria, Las Vegas, Minneapolis, Omaha, Franklin, Tallahassee, Everett, Clinton, Memphis]  \n",
       "1                                                                                                                                                                                                                                                                                                                                                                                                                                                                                                                                                                                                                                                 [Toronto, Vancouver, Hamilton, Ottawa, Montreal, Calgary, Quebec, Regina, Winnipeg, Victoria]  \n",
       "2                                                                                                                                                                                                                                                                                                                                                                                                                                                                                                                                                                                                                                                                                                                                    [San José]  \n",
       "3                                                                                                                                                                                                                                                                                                                                                                                                                                                                                                                                                                                                                                                                       [Salvador, Rio de Janeiro, São Paulo, Manaus, Belo Horizonte, Brasília]  \n",
       "4                                                                                                                                                                                                                                                                                                                                                                                                                                                                                                                                                                                                                                                                                                          [Puente Alto, Santiago, Antofagasta]  \n",
       "5                                                                                                                                                                                                                                                                                                                                                                                                                                                                                                                                                                                                                                                                                                                      [Bogotá, Medellín, Cali]  \n",
       "6                                                                                                                                                                                                                                                                                                                                                                                                                                                                                                                                                                                                                                               [Mexico City, Monterrey, Guadalajara, Puerto Vallarta, Toluca, Tijuana, Cancun, Cabo San Lucas]  \n",
       "7                                                                                                                                                                                                                                                                                                                                                                                                                                                                                                                                                                                                                                                                                                     [Córdoba, Buenos Aires, Mendoza, Rosario]  "
      ]
     },
     "execution_count": 154,
     "metadata": {},
     "output_type": "execute_result"
    }
   ],
   "source": [
    "#Country from America (AMER) Region\n",
    "list_city_amer = []\n",
    "for x in source[source['Region'] == 'AMER']['Country'].unique():\n",
    "    list_city_amer.append([x, source[source['Country'] == x]['City'].nunique(), source[source['Country'] == x]['City'].unique()])\n",
    "unique_city_amer = pd.DataFrame(data=list_city_amer,\n",
    "                            columns=['Country', 'Number of City', 'City'])\n",
    "unique_city_amer"
   ]
  },
  {
   "cell_type": "code",
   "execution_count": 155,
   "metadata": {},
   "outputs": [
    {
     "data": {
      "text/html": [
       "<div>\n",
       "<style scoped>\n",
       "    .dataframe tbody tr th:only-of-type {\n",
       "        vertical-align: middle;\n",
       "    }\n",
       "\n",
       "    .dataframe tbody tr th {\n",
       "        vertical-align: top;\n",
       "    }\n",
       "\n",
       "    .dataframe thead th {\n",
       "        text-align: right;\n",
       "    }\n",
       "</style>\n",
       "<table border=\"1\" class=\"dataframe\">\n",
       "  <thead>\n",
       "    <tr style=\"text-align: right;\">\n",
       "      <th></th>\n",
       "      <th>Country</th>\n",
       "      <th>Number of City</th>\n",
       "      <th>City</th>\n",
       "    </tr>\n",
       "  </thead>\n",
       "  <tbody>\n",
       "    <tr>\n",
       "      <th>0</th>\n",
       "      <td>South Africa</td>\n",
       "      <td>2</td>\n",
       "      <td>[Cape Town, Johannesburg]</td>\n",
       "    </tr>\n",
       "    <tr>\n",
       "      <th>1</th>\n",
       "      <td>Egypt</td>\n",
       "      <td>1</td>\n",
       "      <td>[Cairo]</td>\n",
       "    </tr>\n",
       "  </tbody>\n",
       "</table>\n",
       "</div>"
      ],
      "text/plain": [
       "        Country  Number of City                       City\n",
       "0  South Africa               2  [Cape Town, Johannesburg]\n",
       "1         Egypt               1                    [Cairo]"
      ]
     },
     "execution_count": 155,
     "metadata": {},
     "output_type": "execute_result"
    }
   ],
   "source": [
    "#Country from Africa (AFR) Region\n",
    "list_city_afr = []\n",
    "for x in source[source['Region'] == 'AFR']['Country'].unique():\n",
    "    list_city_afr.append([x, source[source['Country'] == x]['City'].nunique(), source[source['Country'] == x]['City'].unique()])\n",
    "unique_city_afr = pd.DataFrame(data = list_city_afr,\n",
    "                               columns = ['Country', 'Number of City', 'City'])\n",
    "unique_city_afr"
   ]
  },
  {
   "cell_type": "markdown",
   "metadata": {},
   "source": [
    "#### Customer Category"
   ]
  },
  {
   "cell_type": "code",
   "execution_count": 156,
   "metadata": {},
   "outputs": [
    {
     "data": {
      "text/html": [
       "<div>\n",
       "<style scoped>\n",
       "    .dataframe tbody tr th:only-of-type {\n",
       "        vertical-align: middle;\n",
       "    }\n",
       "\n",
       "    .dataframe tbody tr th {\n",
       "        vertical-align: top;\n",
       "    }\n",
       "\n",
       "    .dataframe thead th {\n",
       "        text-align: right;\n",
       "    }\n",
       "</style>\n",
       "<table border=\"1\" class=\"dataframe\">\n",
       "  <thead>\n",
       "    <tr style=\"text-align: right;\">\n",
       "      <th></th>\n",
       "      <th>Customer ID</th>\n",
       "      <th>Name of Customer</th>\n",
       "      <th>Name of Representative</th>\n",
       "      <th>Industry</th>\n",
       "      <th>Country of Operations</th>\n",
       "      <th>Segment</th>\n",
       "    </tr>\n",
       "  </thead>\n",
       "  <tbody>\n",
       "    <tr>\n",
       "      <th>0</th>\n",
       "      <td>1001</td>\n",
       "      <td>[Abbott Laboratories]</td>\n",
       "      <td>[Eric McLean, Colin Hamilton, Joseph White, Ryan Turner, Ryan Jackson]</td>\n",
       "      <td>[Healthcare]</td>\n",
       "      <td>[Australia, United Kingdom, Chile, Sweden, France, United States, Brazil, Ukraine, Ireland, Singapore, China, Canada]</td>\n",
       "      <td>[Enterprise, SMB, Strategic]</td>\n",
       "    </tr>\n",
       "    <tr>\n",
       "      <th>1</th>\n",
       "      <td>1002</td>\n",
       "      <td>[Aetna]</td>\n",
       "      <td>[Sophie Vance, Natalie Sanderson, Jasmine MacLeod, Gordon Parr, Carol Edmunds, Warren Abraham, Ella King, Phil Tucker, Keith Morrison, Karen Howard, Victor Avery]</td>\n",
       "      <td>[Healthcare]</td>\n",
       "      <td>[United Kingdom, Philippines, Japan, United States, Canada, France, Brazil, Portugal, Belgium, South Africa, Sweden, Spain, Netherlands, Australia, Czech Republic, Chile, Singapore, Argentina, Mexico, Germany, Finland]</td>\n",
       "      <td>[SMB, Strategic]</td>\n",
       "    </tr>\n",
       "    <tr>\n",
       "      <th>2</th>\n",
       "      <td>1003</td>\n",
       "      <td>[Allstate]</td>\n",
       "      <td>[Jonathan Clark, Joan Dickens, Christopher James, Diana Black, Faith Campbell, Adrian Clarkson, Harry McLean, Lucas Newman, Ryan Johnston]</td>\n",
       "      <td>[Finance]</td>\n",
       "      <td>[United States, Ukraine, United Kingdom, Ireland, Sweden, Canada, Finland, Israel, Luxembourg, France, Japan, Australia, India, Argentina, Czech Republic, Germany, Norway, Chile, Saudi Arabia, Mexico, Singapore, Netherlands]</td>\n",
       "      <td>[Strategic, SMB, Enterprise]</td>\n",
       "    </tr>\n",
       "    <tr>\n",
       "      <th>3</th>\n",
       "      <td>1004</td>\n",
       "      <td>[Amazon]</td>\n",
       "      <td>[Rebecca Dickens, Thomas Peters, Julian Nash, Kimberly Newman, Alan White, Victoria Roberts, Adam Manning, Nicholas May, Adam Davidson, Hannah Hughes, Adrian Walker, Peter Nolan]</td>\n",
       "      <td>[Tech]</td>\n",
       "      <td>[Mexico, Saudi Arabia, United States, South Korea, Germany, Spain, Chile, Japan, France, Canada, New Zealand, Belgium, Czech Republic, Russia, Australia, United Kingdom, China, South Africa, Ireland, Italy, Finland, Brazil]</td>\n",
       "      <td>[SMB, Strategic]</td>\n",
       "    </tr>\n",
       "    <tr>\n",
       "      <th>4</th>\n",
       "      <td>1005</td>\n",
       "      <td>[American Express]</td>\n",
       "      <td>[Anthony Sanderson, Edward Wilkins, Lily North, Chloe Underwood, Liam Murray, Molly Scott, Emily Ross, Steven Coleman, Carol Berry, Bernadette Scott]</td>\n",
       "      <td>[Finance]</td>\n",
       "      <td>[Canada, Norway, United States, South Korea, Japan, Australia, France, Argentina, United Kingdom, Mexico, Italy, India, Saudi Arabia, Germany, Chile, Russia, Greece, Finland, Sweden, South Africa, Ireland, Brazil, China, Poland]</td>\n",
       "      <td>[SMB, Strategic]</td>\n",
       "    </tr>\n",
       "    <tr>\n",
       "      <th>...</th>\n",
       "      <td>...</td>\n",
       "      <td>...</td>\n",
       "      <td>...</td>\n",
       "      <td>...</td>\n",
       "      <td>...</td>\n",
       "      <td>...</td>\n",
       "    </tr>\n",
       "    <tr>\n",
       "      <th>94</th>\n",
       "      <td>1097</td>\n",
       "      <td>[Walt Disney]</td>\n",
       "      <td>[Virginia Carr, Megan Smith, Zoe Bond, Sue Parsons, Brian Hunter, Irene Johnston, Brandon Vaughan, Liam Robertson, Nicholas Paterson]</td>\n",
       "      <td>[Communications]</td>\n",
       "      <td>[United Kingdom, Spain, Japan, France, Canada, Colombia, Argentina, United States, Finland, Australia, Mexico, Brazil, Netherlands, Germany, Sweden, Singapore, Chile, Norway, United Arab Emirates]</td>\n",
       "      <td>[Enterprise, Strategic, SMB]</td>\n",
       "    </tr>\n",
       "    <tr>\n",
       "      <th>95</th>\n",
       "      <td>1098</td>\n",
       "      <td>[Nissan Motor]</td>\n",
       "      <td>[Maria Dyer, Joe Wallace, Melanie Davidson, Owen Ferguson, Melanie Dowd, Michael Lewis, Nathan Hughes, Trevor Metcalfe]</td>\n",
       "      <td>[Transportation]</td>\n",
       "      <td>[Japan, Australia, Brazil, India, United Kingdom, Saudi Arabia, Russia, Italy, Germany, United States, Norway, South Africa, Mexico, Argentina, Sweden, Canada, Portugal, Belgium]</td>\n",
       "      <td>[Strategic, Enterprise, SMB]</td>\n",
       "    </tr>\n",
       "    <tr>\n",
       "      <th>96</th>\n",
       "      <td>1099</td>\n",
       "      <td>[Wells Fargo]</td>\n",
       "      <td>[Blake Hughes, Justin Randall, Joe Ross, Irene Walsh, Sue Ince, Melanie Chapman, Warren Reid, Peter Johnston]</td>\n",
       "      <td>[Finance]</td>\n",
       "      <td>[United States, Japan, Brazil, Philippines, United Kingdom, Czech Republic, France, Mexico, South Africa, New Zealand, Spain, Germany, Saudi Arabia, India, Argentina, Russia, Sweden, Chile, Finland]</td>\n",
       "      <td>[SMB, Strategic, Enterprise]</td>\n",
       "    </tr>\n",
       "    <tr>\n",
       "      <th>97</th>\n",
       "      <td>1100</td>\n",
       "      <td>[Trafigura Group]</td>\n",
       "      <td>[Penelope Peake, Audrey Hardacre, Joseph Forsyth, Anne Rutherford, Alexandra Slater, Audrey Alsop, Edward Hardacre, Leonard Poole, Jennifer Payne, Phil Turner]</td>\n",
       "      <td>[Finance]</td>\n",
       "      <td>[Luxembourg, Canada, United Kingdom, Argentina, United States, Spain, Netherlands, Japan, Indonesia, Finland, Portugal, India, Mexico, Turkey, Germany, Costa Rica, Brazil, Chile, China, Norway, Poland, South Korea, New Zealand, Australia, South Africa, Russia, France]</td>\n",
       "      <td>[SMB, Strategic, Enterprise]</td>\n",
       "    </tr>\n",
       "    <tr>\n",
       "      <th>98</th>\n",
       "      <td>1101</td>\n",
       "      <td>[Banco Santander]</td>\n",
       "      <td>[Jasmine Metcalfe, Austin Newman, Evan Ince, Andrew Sanderson, Irene Lambert]</td>\n",
       "      <td>[Finance]</td>\n",
       "      <td>[Japan, Mexico, France, Australia, Ukraine, United States, Argentina, Chile, United Kingdom, South Korea, Canada, Sweden, Germany, Russia, Belgium]</td>\n",
       "      <td>[Enterprise, Strategic, SMB]</td>\n",
       "    </tr>\n",
       "  </tbody>\n",
       "</table>\n",
       "<p>99 rows × 6 columns</p>\n",
       "</div>"
      ],
      "text/plain": [
       "    Customer ID       Name of Customer  \\\n",
       "0          1001  [Abbott Laboratories]   \n",
       "1          1002                [Aetna]   \n",
       "2          1003             [Allstate]   \n",
       "3          1004               [Amazon]   \n",
       "4          1005     [American Express]   \n",
       "..          ...                    ...   \n",
       "94         1097          [Walt Disney]   \n",
       "95         1098         [Nissan Motor]   \n",
       "96         1099          [Wells Fargo]   \n",
       "97         1100      [Trafigura Group]   \n",
       "98         1101      [Banco Santander]   \n",
       "\n",
       "                                                                                                                                                                Name of Representative  \\\n",
       "0                                                                                                               [Eric McLean, Colin Hamilton, Joseph White, Ryan Turner, Ryan Jackson]   \n",
       "1                   [Sophie Vance, Natalie Sanderson, Jasmine MacLeod, Gordon Parr, Carol Edmunds, Warren Abraham, Ella King, Phil Tucker, Keith Morrison, Karen Howard, Victor Avery]   \n",
       "2                                           [Jonathan Clark, Joan Dickens, Christopher James, Diana Black, Faith Campbell, Adrian Clarkson, Harry McLean, Lucas Newman, Ryan Johnston]   \n",
       "3   [Rebecca Dickens, Thomas Peters, Julian Nash, Kimberly Newman, Alan White, Victoria Roberts, Adam Manning, Nicholas May, Adam Davidson, Hannah Hughes, Adrian Walker, Peter Nolan]   \n",
       "4                                [Anthony Sanderson, Edward Wilkins, Lily North, Chloe Underwood, Liam Murray, Molly Scott, Emily Ross, Steven Coleman, Carol Berry, Bernadette Scott]   \n",
       "..                                                                                                                                                                                 ...   \n",
       "94                                               [Virginia Carr, Megan Smith, Zoe Bond, Sue Parsons, Brian Hunter, Irene Johnston, Brandon Vaughan, Liam Robertson, Nicholas Paterson]   \n",
       "95                                                             [Maria Dyer, Joe Wallace, Melanie Davidson, Owen Ferguson, Melanie Dowd, Michael Lewis, Nathan Hughes, Trevor Metcalfe]   \n",
       "96                                                                       [Blake Hughes, Justin Randall, Joe Ross, Irene Walsh, Sue Ince, Melanie Chapman, Warren Reid, Peter Johnston]   \n",
       "97                     [Penelope Peake, Audrey Hardacre, Joseph Forsyth, Anne Rutherford, Alexandra Slater, Audrey Alsop, Edward Hardacre, Leonard Poole, Jennifer Payne, Phil Turner]   \n",
       "98                                                                                                       [Jasmine Metcalfe, Austin Newman, Evan Ince, Andrew Sanderson, Irene Lambert]   \n",
       "\n",
       "            Industry  \\\n",
       "0       [Healthcare]   \n",
       "1       [Healthcare]   \n",
       "2          [Finance]   \n",
       "3             [Tech]   \n",
       "4          [Finance]   \n",
       "..               ...   \n",
       "94  [Communications]   \n",
       "95  [Transportation]   \n",
       "96         [Finance]   \n",
       "97         [Finance]   \n",
       "98         [Finance]   \n",
       "\n",
       "                                                                                                                                                                                                                                                           Country of Operations  \\\n",
       "0                                                                                                                                                          [Australia, United Kingdom, Chile, Sweden, France, United States, Brazil, Ukraine, Ireland, Singapore, China, Canada]   \n",
       "1                                                     [United Kingdom, Philippines, Japan, United States, Canada, France, Brazil, Portugal, Belgium, South Africa, Sweden, Spain, Netherlands, Australia, Czech Republic, Chile, Singapore, Argentina, Mexico, Germany, Finland]   \n",
       "2                                               [United States, Ukraine, United Kingdom, Ireland, Sweden, Canada, Finland, Israel, Luxembourg, France, Japan, Australia, India, Argentina, Czech Republic, Germany, Norway, Chile, Saudi Arabia, Mexico, Singapore, Netherlands]   \n",
       "3                                                [Mexico, Saudi Arabia, United States, South Korea, Germany, Spain, Chile, Japan, France, Canada, New Zealand, Belgium, Czech Republic, Russia, Australia, United Kingdom, China, South Africa, Ireland, Italy, Finland, Brazil]   \n",
       "4                                           [Canada, Norway, United States, South Korea, Japan, Australia, France, Argentina, United Kingdom, Mexico, Italy, India, Saudi Arabia, Germany, Chile, Russia, Greece, Finland, Sweden, South Africa, Ireland, Brazil, China, Poland]   \n",
       "..                                                                                                                                                                                                                                                                           ...   \n",
       "94                                                                          [United Kingdom, Spain, Japan, France, Canada, Colombia, Argentina, United States, Finland, Australia, Mexico, Brazil, Netherlands, Germany, Sweden, Singapore, Chile, Norway, United Arab Emirates]   \n",
       "95                                                                                            [Japan, Australia, Brazil, India, United Kingdom, Saudi Arabia, Russia, Italy, Germany, United States, Norway, South Africa, Mexico, Argentina, Sweden, Canada, Portugal, Belgium]   \n",
       "96                                                                        [United States, Japan, Brazil, Philippines, United Kingdom, Czech Republic, France, Mexico, South Africa, New Zealand, Spain, Germany, Saudi Arabia, India, Argentina, Russia, Sweden, Chile, Finland]   \n",
       "97  [Luxembourg, Canada, United Kingdom, Argentina, United States, Spain, Netherlands, Japan, Indonesia, Finland, Portugal, India, Mexico, Turkey, Germany, Costa Rica, Brazil, Chile, China, Norway, Poland, South Korea, New Zealand, Australia, South Africa, Russia, France]   \n",
       "98                                                                                                                           [Japan, Mexico, France, Australia, Ukraine, United States, Argentina, Chile, United Kingdom, South Korea, Canada, Sweden, Germany, Russia, Belgium]   \n",
       "\n",
       "                         Segment  \n",
       "0   [Enterprise, SMB, Strategic]  \n",
       "1               [SMB, Strategic]  \n",
       "2   [Strategic, SMB, Enterprise]  \n",
       "3               [SMB, Strategic]  \n",
       "4               [SMB, Strategic]  \n",
       "..                           ...  \n",
       "94  [Enterprise, Strategic, SMB]  \n",
       "95  [Strategic, Enterprise, SMB]  \n",
       "96  [SMB, Strategic, Enterprise]  \n",
       "97  [SMB, Strategic, Enterprise]  \n",
       "98  [Enterprise, Strategic, SMB]  \n",
       "\n",
       "[99 rows x 6 columns]"
      ]
     },
     "execution_count": 156,
     "metadata": {},
     "output_type": "execute_result"
    }
   ],
   "source": [
    "#Let's Check out Customer Information\n",
    "# pd.set_option('display.max_row', None)\n",
    "list_customer = []\n",
    "for x in source['Customer ID'].unique():\n",
    "    list_customer.append([x, source[source['Customer ID'] == x]['Customer'].unique(), source[source['Customer ID'] == x]['Contact Name'].unique(), source[source['Customer ID'] == x]['Industry'].unique(), source[source['Customer ID'] == x]['Country'].unique(), source[source['Customer ID'] == x]['Segment'].unique()])\n",
    "unique_customer = pd.DataFrame(data = list_customer,\n",
    "                               columns = ['Customer ID', 'Name of Customer', 'Name of Representative', 'Industry', 'Country of Operations', 'Segment'])\n",
    "unique_customer.sort_values(by='Customer ID', inplace=True)\n",
    "unique_customer.reset_index(inplace=True)\n",
    "unique_customer.drop('index', axis=1, inplace=True)\n",
    "unique_customer"
   ]
  },
  {
   "cell_type": "markdown",
   "metadata": {},
   "source": []
  },
  {
   "cell_type": "markdown",
   "metadata": {},
   "source": [
    "#### Check Invalid Values"
   ]
  },
  {
   "cell_type": "code",
   "execution_count": 157,
   "metadata": {},
   "outputs": [
    {
     "data": {
      "text/plain": [
       "Sales          0.444\n",
       "Quantity       1.000\n",
       "Discount       0.000\n",
       "Profit     -6599.978\n",
       "dtype: float64"
      ]
     },
     "metadata": {},
     "output_type": "display_data"
    },
    {
     "data": {
      "text/plain": [
       "Sales       22638.480\n",
       "Quantity       14.000\n",
       "Discount        0.800\n",
       "Profit       8399.976\n",
       "dtype: float64"
      ]
     },
     "metadata": {},
     "output_type": "display_data"
    }
   ],
   "source": [
    "#Check invalid value for Sales, Quantity, Discount, and Profit.\n",
    "\n",
    "#Sales can't have negative value.\n",
    "\n",
    "#Quantity can't have negative and decilmal value.\n",
    "\n",
    "#Discount is decimal value from 0.0 to 1.0.\n",
    "\n",
    "revenue_cycle = source[['Sales', 'Quantity', 'Discount', 'Profit']]\n",
    "display(revenue_cycle.min(), revenue_cycle.max())"
   ]
  },
  {
   "cell_type": "markdown",
   "metadata": {},
   "source": [
    "### Adjustment Coloumn to Support our Analysis"
   ]
  },
  {
   "cell_type": "markdown",
   "metadata": {},
   "source": [
    "### Create Applied Discount Column based on Discount"
   ]
  },
  {
   "cell_type": "code",
   "execution_count": 158,
   "metadata": {},
   "outputs": [
    {
     "data": {
      "text/html": [
       "<div>\n",
       "<style scoped>\n",
       "    .dataframe tbody tr th:only-of-type {\n",
       "        vertical-align: middle;\n",
       "    }\n",
       "\n",
       "    .dataframe tbody tr th {\n",
       "        vertical-align: top;\n",
       "    }\n",
       "\n",
       "    .dataframe thead th {\n",
       "        text-align: right;\n",
       "    }\n",
       "</style>\n",
       "<table border=\"1\" class=\"dataframe\">\n",
       "  <thead>\n",
       "    <tr style=\"text-align: right;\">\n",
       "      <th></th>\n",
       "      <th>Order ID</th>\n",
       "      <th>Order Date</th>\n",
       "      <th>Year</th>\n",
       "      <th>Contact Name</th>\n",
       "      <th>Country</th>\n",
       "      <th>City</th>\n",
       "      <th>Region</th>\n",
       "      <th>Subregion</th>\n",
       "      <th>Customer</th>\n",
       "      <th>Customer ID</th>\n",
       "      <th>Industry</th>\n",
       "      <th>Segment</th>\n",
       "      <th>Product</th>\n",
       "      <th>License</th>\n",
       "      <th>Sales</th>\n",
       "      <th>Quantity</th>\n",
       "      <th>Discount</th>\n",
       "      <th>Profit</th>\n",
       "      <th>Applied Discount</th>\n",
       "    </tr>\n",
       "    <tr>\n",
       "      <th>Row ID</th>\n",
       "      <th></th>\n",
       "      <th></th>\n",
       "      <th></th>\n",
       "      <th></th>\n",
       "      <th></th>\n",
       "      <th></th>\n",
       "      <th></th>\n",
       "      <th></th>\n",
       "      <th></th>\n",
       "      <th></th>\n",
       "      <th></th>\n",
       "      <th></th>\n",
       "      <th></th>\n",
       "      <th></th>\n",
       "      <th></th>\n",
       "      <th></th>\n",
       "      <th></th>\n",
       "      <th></th>\n",
       "      <th></th>\n",
       "    </tr>\n",
       "  </thead>\n",
       "  <tbody>\n",
       "    <tr>\n",
       "      <th>1</th>\n",
       "      <td>EMEA-2022-152156</td>\n",
       "      <td>2022-11-09</td>\n",
       "      <td>2022</td>\n",
       "      <td>Nathan Bell</td>\n",
       "      <td>Ireland</td>\n",
       "      <td>Dublin</td>\n",
       "      <td>EU</td>\n",
       "      <td>UKIR</td>\n",
       "      <td>Chevron</td>\n",
       "      <td>1017</td>\n",
       "      <td>Energy</td>\n",
       "      <td>SMB</td>\n",
       "      <td>Marketing Suite</td>\n",
       "      <td>16GRM07R1K</td>\n",
       "      <td>261.9600</td>\n",
       "      <td>2</td>\n",
       "      <td>0.00</td>\n",
       "      <td>41.9136</td>\n",
       "      <td>False</td>\n",
       "    </tr>\n",
       "    <tr>\n",
       "      <th>2</th>\n",
       "      <td>EMEA-2022-152156</td>\n",
       "      <td>2022-11-09</td>\n",
       "      <td>2022</td>\n",
       "      <td>Nathan Bell</td>\n",
       "      <td>Ireland</td>\n",
       "      <td>Dublin</td>\n",
       "      <td>EU</td>\n",
       "      <td>UKIR</td>\n",
       "      <td>Chevron</td>\n",
       "      <td>1017</td>\n",
       "      <td>Energy</td>\n",
       "      <td>SMB</td>\n",
       "      <td>FinanceHub</td>\n",
       "      <td>QLIW57KZUV</td>\n",
       "      <td>731.9400</td>\n",
       "      <td>3</td>\n",
       "      <td>0.00</td>\n",
       "      <td>219.5820</td>\n",
       "      <td>False</td>\n",
       "    </tr>\n",
       "    <tr>\n",
       "      <th>3</th>\n",
       "      <td>AMER-2022-138688</td>\n",
       "      <td>2022-06-13</td>\n",
       "      <td>2022</td>\n",
       "      <td>Deirdre Bailey</td>\n",
       "      <td>United States</td>\n",
       "      <td>New York City</td>\n",
       "      <td>AMER</td>\n",
       "      <td>NAMER</td>\n",
       "      <td>Phillips 66</td>\n",
       "      <td>1056</td>\n",
       "      <td>Energy</td>\n",
       "      <td>Strategic</td>\n",
       "      <td>FinanceHub</td>\n",
       "      <td>JI6BVL70HQ</td>\n",
       "      <td>14.6200</td>\n",
       "      <td>2</td>\n",
       "      <td>0.00</td>\n",
       "      <td>6.8714</td>\n",
       "      <td>False</td>\n",
       "    </tr>\n",
       "    <tr>\n",
       "      <th>4</th>\n",
       "      <td>EMEA-2021-108966</td>\n",
       "      <td>2021-10-11</td>\n",
       "      <td>2021</td>\n",
       "      <td>Zoe Hodges</td>\n",
       "      <td>Germany</td>\n",
       "      <td>Stuttgart</td>\n",
       "      <td>EU</td>\n",
       "      <td>EU-WEST</td>\n",
       "      <td>Royal Dutch Shell</td>\n",
       "      <td>1031</td>\n",
       "      <td>Energy</td>\n",
       "      <td>SMB</td>\n",
       "      <td>ContactMatcher</td>\n",
       "      <td>DE9GJKGD44</td>\n",
       "      <td>957.5775</td>\n",
       "      <td>5</td>\n",
       "      <td>0.45</td>\n",
       "      <td>-383.0310</td>\n",
       "      <td>True</td>\n",
       "    </tr>\n",
       "    <tr>\n",
       "      <th>5</th>\n",
       "      <td>EMEA-2021-108966</td>\n",
       "      <td>2021-10-11</td>\n",
       "      <td>2021</td>\n",
       "      <td>Zoe Hodges</td>\n",
       "      <td>Germany</td>\n",
       "      <td>Stuttgart</td>\n",
       "      <td>EU</td>\n",
       "      <td>EU-WEST</td>\n",
       "      <td>Royal Dutch Shell</td>\n",
       "      <td>1031</td>\n",
       "      <td>Energy</td>\n",
       "      <td>SMB</td>\n",
       "      <td>Marketing Suite - Gold</td>\n",
       "      <td>OIF7NY23WD</td>\n",
       "      <td>22.3680</td>\n",
       "      <td>2</td>\n",
       "      <td>0.20</td>\n",
       "      <td>2.5164</td>\n",
       "      <td>True</td>\n",
       "    </tr>\n",
       "    <tr>\n",
       "      <th>...</th>\n",
       "      <td>...</td>\n",
       "      <td>...</td>\n",
       "      <td>...</td>\n",
       "      <td>...</td>\n",
       "      <td>...</td>\n",
       "      <td>...</td>\n",
       "      <td>...</td>\n",
       "      <td>...</td>\n",
       "      <td>...</td>\n",
       "      <td>...</td>\n",
       "      <td>...</td>\n",
       "      <td>...</td>\n",
       "      <td>...</td>\n",
       "      <td>...</td>\n",
       "      <td>...</td>\n",
       "      <td>...</td>\n",
       "      <td>...</td>\n",
       "      <td>...</td>\n",
       "      <td>...</td>\n",
       "    </tr>\n",
       "    <tr>\n",
       "      <th>9990</th>\n",
       "      <td>EMEA-2020-110422</td>\n",
       "      <td>2020-01-22</td>\n",
       "      <td>2020</td>\n",
       "      <td>Dan Allan</td>\n",
       "      <td>Germany</td>\n",
       "      <td>Hamburg</td>\n",
       "      <td>EU</td>\n",
       "      <td>EU-WEST</td>\n",
       "      <td>Johnson &amp; Johnson</td>\n",
       "      <td>1055</td>\n",
       "      <td>Healthcare</td>\n",
       "      <td>SMB</td>\n",
       "      <td>SaaS Connector Pack</td>\n",
       "      <td>ETHXMB5TMD</td>\n",
       "      <td>25.2480</td>\n",
       "      <td>3</td>\n",
       "      <td>0.20</td>\n",
       "      <td>4.1028</td>\n",
       "      <td>True</td>\n",
       "    </tr>\n",
       "    <tr>\n",
       "      <th>9991</th>\n",
       "      <td>AMER-2023-121258</td>\n",
       "      <td>2023-02-27</td>\n",
       "      <td>2023</td>\n",
       "      <td>Anthony Sanderson</td>\n",
       "      <td>United States</td>\n",
       "      <td>Milwaukee</td>\n",
       "      <td>AMER</td>\n",
       "      <td>NAMER</td>\n",
       "      <td>American Express</td>\n",
       "      <td>1005</td>\n",
       "      <td>Finance</td>\n",
       "      <td>SMB</td>\n",
       "      <td>SaaS Connector Pack</td>\n",
       "      <td>LYHOKTRY7L</td>\n",
       "      <td>91.9600</td>\n",
       "      <td>2</td>\n",
       "      <td>0.00</td>\n",
       "      <td>15.6332</td>\n",
       "      <td>False</td>\n",
       "    </tr>\n",
       "    <tr>\n",
       "      <th>9992</th>\n",
       "      <td>AMER-2023-121258</td>\n",
       "      <td>2023-02-27</td>\n",
       "      <td>2023</td>\n",
       "      <td>Anthony Sanderson</td>\n",
       "      <td>United States</td>\n",
       "      <td>Milwaukee</td>\n",
       "      <td>AMER</td>\n",
       "      <td>NAMER</td>\n",
       "      <td>American Express</td>\n",
       "      <td>1005</td>\n",
       "      <td>Finance</td>\n",
       "      <td>SMB</td>\n",
       "      <td>Site Analytics</td>\n",
       "      <td>I5SVMI6M88</td>\n",
       "      <td>258.5760</td>\n",
       "      <td>2</td>\n",
       "      <td>0.20</td>\n",
       "      <td>19.3932</td>\n",
       "      <td>True</td>\n",
       "    </tr>\n",
       "    <tr>\n",
       "      <th>9993</th>\n",
       "      <td>AMER-2023-121258</td>\n",
       "      <td>2023-02-27</td>\n",
       "      <td>2023</td>\n",
       "      <td>Anthony Sanderson</td>\n",
       "      <td>United States</td>\n",
       "      <td>Milwaukee</td>\n",
       "      <td>AMER</td>\n",
       "      <td>NAMER</td>\n",
       "      <td>American Express</td>\n",
       "      <td>1005</td>\n",
       "      <td>Finance</td>\n",
       "      <td>SMB</td>\n",
       "      <td>Support</td>\n",
       "      <td>JHLW4P6LQ2</td>\n",
       "      <td>29.6000</td>\n",
       "      <td>4</td>\n",
       "      <td>0.00</td>\n",
       "      <td>13.3200</td>\n",
       "      <td>False</td>\n",
       "    </tr>\n",
       "    <tr>\n",
       "      <th>9994</th>\n",
       "      <td>AMER-2023-119914</td>\n",
       "      <td>2023-05-05</td>\n",
       "      <td>2023</td>\n",
       "      <td>Jasmine Springer</td>\n",
       "      <td>United States</td>\n",
       "      <td>Dallas</td>\n",
       "      <td>AMER</td>\n",
       "      <td>NAMER</td>\n",
       "      <td>Comcast</td>\n",
       "      <td>1022</td>\n",
       "      <td>Communications</td>\n",
       "      <td>SMB</td>\n",
       "      <td>OneView</td>\n",
       "      <td>3NTBV9B3PS</td>\n",
       "      <td>243.1600</td>\n",
       "      <td>2</td>\n",
       "      <td>0.00</td>\n",
       "      <td>72.9480</td>\n",
       "      <td>False</td>\n",
       "    </tr>\n",
       "  </tbody>\n",
       "</table>\n",
       "<p>9994 rows × 19 columns</p>\n",
       "</div>"
      ],
      "text/plain": [
       "                Order ID Order Date  Year       Contact Name        Country  \\\n",
       "Row ID                                                                        \n",
       "1       EMEA-2022-152156 2022-11-09  2022        Nathan Bell        Ireland   \n",
       "2       EMEA-2022-152156 2022-11-09  2022        Nathan Bell        Ireland   \n",
       "3       AMER-2022-138688 2022-06-13  2022     Deirdre Bailey  United States   \n",
       "4       EMEA-2021-108966 2021-10-11  2021         Zoe Hodges        Germany   \n",
       "5       EMEA-2021-108966 2021-10-11  2021         Zoe Hodges        Germany   \n",
       "...                  ...        ...   ...                ...            ...   \n",
       "9990    EMEA-2020-110422 2020-01-22  2020          Dan Allan        Germany   \n",
       "9991    AMER-2023-121258 2023-02-27  2023  Anthony Sanderson  United States   \n",
       "9992    AMER-2023-121258 2023-02-27  2023  Anthony Sanderson  United States   \n",
       "9993    AMER-2023-121258 2023-02-27  2023  Anthony Sanderson  United States   \n",
       "9994    AMER-2023-119914 2023-05-05  2023   Jasmine Springer  United States   \n",
       "\n",
       "                 City Region Subregion           Customer Customer ID  \\\n",
       "Row ID                                                                  \n",
       "1              Dublin     EU      UKIR            Chevron        1017   \n",
       "2              Dublin     EU      UKIR            Chevron        1017   \n",
       "3       New York City   AMER     NAMER        Phillips 66        1056   \n",
       "4           Stuttgart     EU   EU-WEST  Royal Dutch Shell        1031   \n",
       "5           Stuttgart     EU   EU-WEST  Royal Dutch Shell        1031   \n",
       "...               ...    ...       ...                ...         ...   \n",
       "9990          Hamburg     EU   EU-WEST  Johnson & Johnson        1055   \n",
       "9991        Milwaukee   AMER     NAMER   American Express        1005   \n",
       "9992        Milwaukee   AMER     NAMER   American Express        1005   \n",
       "9993        Milwaukee   AMER     NAMER   American Express        1005   \n",
       "9994           Dallas   AMER     NAMER            Comcast        1022   \n",
       "\n",
       "              Industry    Segment                 Product     License  \\\n",
       "Row ID                                                                  \n",
       "1               Energy        SMB         Marketing Suite  16GRM07R1K   \n",
       "2               Energy        SMB              FinanceHub  QLIW57KZUV   \n",
       "3               Energy  Strategic              FinanceHub  JI6BVL70HQ   \n",
       "4               Energy        SMB          ContactMatcher  DE9GJKGD44   \n",
       "5               Energy        SMB  Marketing Suite - Gold  OIF7NY23WD   \n",
       "...                ...        ...                     ...         ...   \n",
       "9990        Healthcare        SMB     SaaS Connector Pack  ETHXMB5TMD   \n",
       "9991           Finance        SMB     SaaS Connector Pack  LYHOKTRY7L   \n",
       "9992           Finance        SMB          Site Analytics  I5SVMI6M88   \n",
       "9993           Finance        SMB                 Support  JHLW4P6LQ2   \n",
       "9994    Communications        SMB                 OneView  3NTBV9B3PS   \n",
       "\n",
       "           Sales  Quantity  Discount    Profit  Applied Discount  \n",
       "Row ID                                                            \n",
       "1       261.9600         2      0.00   41.9136             False  \n",
       "2       731.9400         3      0.00  219.5820             False  \n",
       "3        14.6200         2      0.00    6.8714             False  \n",
       "4       957.5775         5      0.45 -383.0310              True  \n",
       "5        22.3680         2      0.20    2.5164              True  \n",
       "...          ...       ...       ...       ...               ...  \n",
       "9990     25.2480         3      0.20    4.1028              True  \n",
       "9991     91.9600         2      0.00   15.6332             False  \n",
       "9992    258.5760         2      0.20   19.3932              True  \n",
       "9993     29.6000         4      0.00   13.3200             False  \n",
       "9994    243.1600         2      0.00   72.9480             False  \n",
       "\n",
       "[9994 rows x 19 columns]"
      ]
     },
     "execution_count": 158,
     "metadata": {},
     "output_type": "execute_result"
    }
   ],
   "source": [
    "#Create New Coloumn for Applied Discount Category\n",
    "source['Applied Discount'] = np.where(source['Discount']>0, 1, 0).astype(bool)\n",
    "source"
   ]
  },
  {
   "cell_type": "markdown",
   "metadata": {},
   "source": [
    "## Data Analysis"
   ]
  },
  {
   "cell_type": "markdown",
   "metadata": {},
   "source": [
    "We have done do data cleaning and wrengling process. Now, we can start analyze the data to provide valuable insight to the board for making informed decisions about **the locations of Gamma Branch Offices**."
   ]
  },
  {
   "cell_type": "markdown",
   "metadata": {},
   "source": [
    "The analysis will consider the following data points from our dataset:\n",
    "\n",
    "1. **Demand and Spending** : We will analyze demand from total transactions and spending from sales median value of every subregion compare to sales median value from belonging region. The criteria are the demand have more than (>=) **Average Demand of Region** or if the demand are below (<) the **Average Demand of Region**, the spending at subregion have to more than (>=) **Average Spending of belonging Region**. We need to satisfy one of these criteria before we can do further analysis on the subregion. This will help in identifying potential locations with high demand for the product.\n",
    "\n",
    "2. **Customer and Customer ID** : Evaluate the concentration of existing customers. This can help in identifying areas with a high customer base, which may be suitable for opening branch offices.\n",
    "\n",
    "\n",
    "3. **Profit and Sales** : Analyze the profitability and sales performance in different country on that subregion to identify self financing."
   ]
  },
  {
   "cell_type": "markdown",
   "metadata": {},
   "source": [
    "### Parameter"
   ]
  },
  {
   "cell_type": "markdown",
   "metadata": {},
   "source": [
    "**Based on Region**\n",
    "\n",
    "First, let's look at the distribution of customers and the transaction value based on the **Region** to determine **Parameters**. We will analyze the number of **Customer IDs** on each **Region**, average of **Order ID** as representive of the demand on each **Region**, and the median value of **Sales** as representative of the **Customer Spending** as on each **Region** to obtain the following information:\n",
    "\n",
    "1. The proportion of **Customer** spread on each **Region**.\n",
    "\n",
    "2. **Demand** on each  **Region**.\n",
    "\n",
    "2. **Customer Spending** on each **Region**."
   ]
  },
  {
   "cell_type": "code",
   "execution_count": 159,
   "metadata": {},
   "outputs": [
    {
     "data": {
      "application/vnd.plotly.v1+json": {
       "config": {
        "plotlyServerURL": "https://plot.ly"
       },
       "data": [
        {
         "domain": {
          "x": [
           0,
           0.45
          ],
          "y": [
           0.625,
           1
          ]
         },
         "labels": [
          "AFR",
          "AMER",
          "APAC",
          "EU"
         ],
         "name": "2020",
         "type": "pie",
         "values": [
          13,
          92,
          90,
          94
         ]
        },
        {
         "domain": {
          "x": [
           0.55,
           1
          ],
          "y": [
           0.625,
           1
          ]
         },
         "labels": [
          "AFR",
          "AMER",
          "APAC",
          "EU"
         ],
         "name": "2021",
         "type": "pie",
         "values": [
          19,
          93,
          87,
          98
         ]
        },
        {
         "domain": {
          "x": [
           0,
           0.45
          ],
          "y": [
           0,
           0.375
          ]
         },
         "labels": [
          "AFR",
          "AMER",
          "APAC",
          "EU"
         ],
         "name": "2022",
         "type": "pie",
         "values": [
          24,
          98,
          89,
          97
         ]
        },
        {
         "domain": {
          "x": [
           0.55,
           1
          ],
          "y": [
           0,
           0.375
          ]
         },
         "labels": [
          "AFR",
          "AMER",
          "APAC",
          "EU"
         ],
         "name": "2023",
         "type": "pie",
         "values": [
          30,
          99,
          95,
          96
         ]
        }
       ],
       "layout": {
        "annotations": [
         {
          "font": {
           "size": 16
          },
          "showarrow": false,
          "text": "2020",
          "x": 0.225,
          "xanchor": "center",
          "xref": "paper",
          "y": 1,
          "yanchor": "bottom",
          "yref": "paper"
         },
         {
          "font": {
           "size": 16
          },
          "showarrow": false,
          "text": "2021",
          "x": 0.775,
          "xanchor": "center",
          "xref": "paper",
          "y": 1,
          "yanchor": "bottom",
          "yref": "paper"
         },
         {
          "font": {
           "size": 16
          },
          "showarrow": false,
          "text": "2022",
          "x": 0.225,
          "xanchor": "center",
          "xref": "paper",
          "y": 0.375,
          "yanchor": "bottom",
          "yref": "paper"
         },
         {
          "font": {
           "size": 16
          },
          "showarrow": false,
          "text": "2023",
          "x": 0.775,
          "xanchor": "center",
          "xref": "paper",
          "y": 0.375,
          "yanchor": "bottom",
          "yref": "paper"
         }
        ],
        "height": 600,
        "template": {
         "data": {
          "bar": [
           {
            "error_x": {
             "color": "#2a3f5f"
            },
            "error_y": {
             "color": "#2a3f5f"
            },
            "marker": {
             "line": {
              "color": "#E5ECF6",
              "width": 0.5
             },
             "pattern": {
              "fillmode": "overlay",
              "size": 10,
              "solidity": 0.2
             }
            },
            "type": "bar"
           }
          ],
          "barpolar": [
           {
            "marker": {
             "line": {
              "color": "#E5ECF6",
              "width": 0.5
             },
             "pattern": {
              "fillmode": "overlay",
              "size": 10,
              "solidity": 0.2
             }
            },
            "type": "barpolar"
           }
          ],
          "carpet": [
           {
            "aaxis": {
             "endlinecolor": "#2a3f5f",
             "gridcolor": "white",
             "linecolor": "white",
             "minorgridcolor": "white",
             "startlinecolor": "#2a3f5f"
            },
            "baxis": {
             "endlinecolor": "#2a3f5f",
             "gridcolor": "white",
             "linecolor": "white",
             "minorgridcolor": "white",
             "startlinecolor": "#2a3f5f"
            },
            "type": "carpet"
           }
          ],
          "choropleth": [
           {
            "colorbar": {
             "outlinewidth": 0,
             "ticks": ""
            },
            "type": "choropleth"
           }
          ],
          "contour": [
           {
            "colorbar": {
             "outlinewidth": 0,
             "ticks": ""
            },
            "colorscale": [
             [
              0,
              "#0d0887"
             ],
             [
              0.1111111111111111,
              "#46039f"
             ],
             [
              0.2222222222222222,
              "#7201a8"
             ],
             [
              0.3333333333333333,
              "#9c179e"
             ],
             [
              0.4444444444444444,
              "#bd3786"
             ],
             [
              0.5555555555555556,
              "#d8576b"
             ],
             [
              0.6666666666666666,
              "#ed7953"
             ],
             [
              0.7777777777777778,
              "#fb9f3a"
             ],
             [
              0.8888888888888888,
              "#fdca26"
             ],
             [
              1,
              "#f0f921"
             ]
            ],
            "type": "contour"
           }
          ],
          "contourcarpet": [
           {
            "colorbar": {
             "outlinewidth": 0,
             "ticks": ""
            },
            "type": "contourcarpet"
           }
          ],
          "heatmap": [
           {
            "colorbar": {
             "outlinewidth": 0,
             "ticks": ""
            },
            "colorscale": [
             [
              0,
              "#0d0887"
             ],
             [
              0.1111111111111111,
              "#46039f"
             ],
             [
              0.2222222222222222,
              "#7201a8"
             ],
             [
              0.3333333333333333,
              "#9c179e"
             ],
             [
              0.4444444444444444,
              "#bd3786"
             ],
             [
              0.5555555555555556,
              "#d8576b"
             ],
             [
              0.6666666666666666,
              "#ed7953"
             ],
             [
              0.7777777777777778,
              "#fb9f3a"
             ],
             [
              0.8888888888888888,
              "#fdca26"
             ],
             [
              1,
              "#f0f921"
             ]
            ],
            "type": "heatmap"
           }
          ],
          "heatmapgl": [
           {
            "colorbar": {
             "outlinewidth": 0,
             "ticks": ""
            },
            "colorscale": [
             [
              0,
              "#0d0887"
             ],
             [
              0.1111111111111111,
              "#46039f"
             ],
             [
              0.2222222222222222,
              "#7201a8"
             ],
             [
              0.3333333333333333,
              "#9c179e"
             ],
             [
              0.4444444444444444,
              "#bd3786"
             ],
             [
              0.5555555555555556,
              "#d8576b"
             ],
             [
              0.6666666666666666,
              "#ed7953"
             ],
             [
              0.7777777777777778,
              "#fb9f3a"
             ],
             [
              0.8888888888888888,
              "#fdca26"
             ],
             [
              1,
              "#f0f921"
             ]
            ],
            "type": "heatmapgl"
           }
          ],
          "histogram": [
           {
            "marker": {
             "pattern": {
              "fillmode": "overlay",
              "size": 10,
              "solidity": 0.2
             }
            },
            "type": "histogram"
           }
          ],
          "histogram2d": [
           {
            "colorbar": {
             "outlinewidth": 0,
             "ticks": ""
            },
            "colorscale": [
             [
              0,
              "#0d0887"
             ],
             [
              0.1111111111111111,
              "#46039f"
             ],
             [
              0.2222222222222222,
              "#7201a8"
             ],
             [
              0.3333333333333333,
              "#9c179e"
             ],
             [
              0.4444444444444444,
              "#bd3786"
             ],
             [
              0.5555555555555556,
              "#d8576b"
             ],
             [
              0.6666666666666666,
              "#ed7953"
             ],
             [
              0.7777777777777778,
              "#fb9f3a"
             ],
             [
              0.8888888888888888,
              "#fdca26"
             ],
             [
              1,
              "#f0f921"
             ]
            ],
            "type": "histogram2d"
           }
          ],
          "histogram2dcontour": [
           {
            "colorbar": {
             "outlinewidth": 0,
             "ticks": ""
            },
            "colorscale": [
             [
              0,
              "#0d0887"
             ],
             [
              0.1111111111111111,
              "#46039f"
             ],
             [
              0.2222222222222222,
              "#7201a8"
             ],
             [
              0.3333333333333333,
              "#9c179e"
             ],
             [
              0.4444444444444444,
              "#bd3786"
             ],
             [
              0.5555555555555556,
              "#d8576b"
             ],
             [
              0.6666666666666666,
              "#ed7953"
             ],
             [
              0.7777777777777778,
              "#fb9f3a"
             ],
             [
              0.8888888888888888,
              "#fdca26"
             ],
             [
              1,
              "#f0f921"
             ]
            ],
            "type": "histogram2dcontour"
           }
          ],
          "mesh3d": [
           {
            "colorbar": {
             "outlinewidth": 0,
             "ticks": ""
            },
            "type": "mesh3d"
           }
          ],
          "parcoords": [
           {
            "line": {
             "colorbar": {
              "outlinewidth": 0,
              "ticks": ""
             }
            },
            "type": "parcoords"
           }
          ],
          "pie": [
           {
            "automargin": true,
            "type": "pie"
           }
          ],
          "scatter": [
           {
            "fillpattern": {
             "fillmode": "overlay",
             "size": 10,
             "solidity": 0.2
            },
            "type": "scatter"
           }
          ],
          "scatter3d": [
           {
            "line": {
             "colorbar": {
              "outlinewidth": 0,
              "ticks": ""
             }
            },
            "marker": {
             "colorbar": {
              "outlinewidth": 0,
              "ticks": ""
             }
            },
            "type": "scatter3d"
           }
          ],
          "scattercarpet": [
           {
            "marker": {
             "colorbar": {
              "outlinewidth": 0,
              "ticks": ""
             }
            },
            "type": "scattercarpet"
           }
          ],
          "scattergeo": [
           {
            "marker": {
             "colorbar": {
              "outlinewidth": 0,
              "ticks": ""
             }
            },
            "type": "scattergeo"
           }
          ],
          "scattergl": [
           {
            "marker": {
             "colorbar": {
              "outlinewidth": 0,
              "ticks": ""
             }
            },
            "type": "scattergl"
           }
          ],
          "scattermapbox": [
           {
            "marker": {
             "colorbar": {
              "outlinewidth": 0,
              "ticks": ""
             }
            },
            "type": "scattermapbox"
           }
          ],
          "scatterpolar": [
           {
            "marker": {
             "colorbar": {
              "outlinewidth": 0,
              "ticks": ""
             }
            },
            "type": "scatterpolar"
           }
          ],
          "scatterpolargl": [
           {
            "marker": {
             "colorbar": {
              "outlinewidth": 0,
              "ticks": ""
             }
            },
            "type": "scatterpolargl"
           }
          ],
          "scatterternary": [
           {
            "marker": {
             "colorbar": {
              "outlinewidth": 0,
              "ticks": ""
             }
            },
            "type": "scatterternary"
           }
          ],
          "surface": [
           {
            "colorbar": {
             "outlinewidth": 0,
             "ticks": ""
            },
            "colorscale": [
             [
              0,
              "#0d0887"
             ],
             [
              0.1111111111111111,
              "#46039f"
             ],
             [
              0.2222222222222222,
              "#7201a8"
             ],
             [
              0.3333333333333333,
              "#9c179e"
             ],
             [
              0.4444444444444444,
              "#bd3786"
             ],
             [
              0.5555555555555556,
              "#d8576b"
             ],
             [
              0.6666666666666666,
              "#ed7953"
             ],
             [
              0.7777777777777778,
              "#fb9f3a"
             ],
             [
              0.8888888888888888,
              "#fdca26"
             ],
             [
              1,
              "#f0f921"
             ]
            ],
            "type": "surface"
           }
          ],
          "table": [
           {
            "cells": {
             "fill": {
              "color": "#EBF0F8"
             },
             "line": {
              "color": "white"
             }
            },
            "header": {
             "fill": {
              "color": "#C8D4E3"
             },
             "line": {
              "color": "white"
             }
            },
            "type": "table"
           }
          ]
         },
         "layout": {
          "annotationdefaults": {
           "arrowcolor": "#2a3f5f",
           "arrowhead": 0,
           "arrowwidth": 1
          },
          "autotypenumbers": "strict",
          "coloraxis": {
           "colorbar": {
            "outlinewidth": 0,
            "ticks": ""
           }
          },
          "colorscale": {
           "diverging": [
            [
             0,
             "#8e0152"
            ],
            [
             0.1,
             "#c51b7d"
            ],
            [
             0.2,
             "#de77ae"
            ],
            [
             0.3,
             "#f1b6da"
            ],
            [
             0.4,
             "#fde0ef"
            ],
            [
             0.5,
             "#f7f7f7"
            ],
            [
             0.6,
             "#e6f5d0"
            ],
            [
             0.7,
             "#b8e186"
            ],
            [
             0.8,
             "#7fbc41"
            ],
            [
             0.9,
             "#4d9221"
            ],
            [
             1,
             "#276419"
            ]
           ],
           "sequential": [
            [
             0,
             "#0d0887"
            ],
            [
             0.1111111111111111,
             "#46039f"
            ],
            [
             0.2222222222222222,
             "#7201a8"
            ],
            [
             0.3333333333333333,
             "#9c179e"
            ],
            [
             0.4444444444444444,
             "#bd3786"
            ],
            [
             0.5555555555555556,
             "#d8576b"
            ],
            [
             0.6666666666666666,
             "#ed7953"
            ],
            [
             0.7777777777777778,
             "#fb9f3a"
            ],
            [
             0.8888888888888888,
             "#fdca26"
            ],
            [
             1,
             "#f0f921"
            ]
           ],
           "sequentialminus": [
            [
             0,
             "#0d0887"
            ],
            [
             0.1111111111111111,
             "#46039f"
            ],
            [
             0.2222222222222222,
             "#7201a8"
            ],
            [
             0.3333333333333333,
             "#9c179e"
            ],
            [
             0.4444444444444444,
             "#bd3786"
            ],
            [
             0.5555555555555556,
             "#d8576b"
            ],
            [
             0.6666666666666666,
             "#ed7953"
            ],
            [
             0.7777777777777778,
             "#fb9f3a"
            ],
            [
             0.8888888888888888,
             "#fdca26"
            ],
            [
             1,
             "#f0f921"
            ]
           ]
          },
          "colorway": [
           "#636efa",
           "#EF553B",
           "#00cc96",
           "#ab63fa",
           "#FFA15A",
           "#19d3f3",
           "#FF6692",
           "#B6E880",
           "#FF97FF",
           "#FECB52"
          ],
          "font": {
           "color": "#2a3f5f"
          },
          "geo": {
           "bgcolor": "white",
           "lakecolor": "white",
           "landcolor": "#E5ECF6",
           "showlakes": true,
           "showland": true,
           "subunitcolor": "white"
          },
          "hoverlabel": {
           "align": "left"
          },
          "hovermode": "closest",
          "mapbox": {
           "style": "light"
          },
          "paper_bgcolor": "white",
          "plot_bgcolor": "#E5ECF6",
          "polar": {
           "angularaxis": {
            "gridcolor": "white",
            "linecolor": "white",
            "ticks": ""
           },
           "bgcolor": "#E5ECF6",
           "radialaxis": {
            "gridcolor": "white",
            "linecolor": "white",
            "ticks": ""
           }
          },
          "scene": {
           "xaxis": {
            "backgroundcolor": "#E5ECF6",
            "gridcolor": "white",
            "gridwidth": 2,
            "linecolor": "white",
            "showbackground": true,
            "ticks": "",
            "zerolinecolor": "white"
           },
           "yaxis": {
            "backgroundcolor": "#E5ECF6",
            "gridcolor": "white",
            "gridwidth": 2,
            "linecolor": "white",
            "showbackground": true,
            "ticks": "",
            "zerolinecolor": "white"
           },
           "zaxis": {
            "backgroundcolor": "#E5ECF6",
            "gridcolor": "white",
            "gridwidth": 2,
            "linecolor": "white",
            "showbackground": true,
            "ticks": "",
            "zerolinecolor": "white"
           }
          },
          "shapedefaults": {
           "line": {
            "color": "#2a3f5f"
           }
          },
          "ternary": {
           "aaxis": {
            "gridcolor": "white",
            "linecolor": "white",
            "ticks": ""
           },
           "baxis": {
            "gridcolor": "white",
            "linecolor": "white",
            "ticks": ""
           },
           "bgcolor": "#E5ECF6",
           "caxis": {
            "gridcolor": "white",
            "linecolor": "white",
            "ticks": ""
           }
          },
          "title": {
           "x": 0.05
          },
          "xaxis": {
           "automargin": true,
           "gridcolor": "white",
           "linecolor": "white",
           "ticks": "",
           "title": {
            "standoff": 15
           },
           "zerolinecolor": "white",
           "zerolinewidth": 2
          },
          "yaxis": {
           "automargin": true,
           "gridcolor": "white",
           "linecolor": "white",
           "ticks": "",
           "title": {
            "standoff": 15
           },
           "zerolinecolor": "white",
           "zerolinewidth": 2
          }
         }
        },
        "title": {
         "text": "Customer Spread by Year and Region"
        },
        "width": 800
       }
      }
     },
     "metadata": {},
     "output_type": "display_data"
    }
   ],
   "source": [
    "#Proportion Customer Distribution\n",
    "list_customer_spread = []\n",
    "for x in source['Year'].unique():\n",
    "    for z in source['Region'].unique():\n",
    "        list_customer_spread.append([x, z, source[(source['Year'] == x) & (source['Region'] == z)]['Customer ID'].nunique()])\n",
    "customer_spread = pd.DataFrame(data = list_customer_spread,\n",
    "                               columns = ['Year', 'Region', 'Total Customer'])\n",
    "customer_spread.sort_values(by=['Year', 'Region'], inplace=True)\n",
    "customer_spread.reset_index(inplace=True)\n",
    "customer_spread.drop('index', axis=1, inplace=True)\n",
    "#Filter by year\n",
    "customer_spread_2020 = customer_spread[customer_spread['Year'] == 2020]\n",
    "customer_spread_2021 = customer_spread[customer_spread['Year'] == 2021]\n",
    "customer_spread_2022 = customer_spread[customer_spread['Year'] == 2022]\n",
    "customer_spread_2023 = customer_spread[customer_spread['Year'] == 2023]\n",
    "\n",
    "#Create subplots with 2 rows and 2 columns\n",
    "fig_customer_spread_region = make_subplots(rows=2, cols=2, subplot_titles=['2020', '2021', '2022', '2023'], specs=[[{'type':'pie'}, {'type':'pie'}], [{'type':'pie'}, {'type':'pie'}]])\n",
    "\n",
    "#Create a pie chart for each year\n",
    "for i, df in enumerate([customer_spread_2020, customer_spread_2021, customer_spread_2022, customer_spread_2023]):\n",
    "    fig_customer_spread_region.add_trace(go.Pie(labels=df['Region'], values=df['Total Customer'], name=str(i+2020)), row=(i // 2) + 1, col=(i % 2) + 1)\n",
    "\n",
    "#Update layout\n",
    "fig_customer_spread_region.update_layout(height=600, width=800, title_text=\"Customer Spread by Year and Region\")\n",
    "\n",
    "# Show the figure\n",
    "fig_customer_spread_region.show()"
   ]
  },
  {
   "cell_type": "markdown",
   "metadata": {},
   "source": [
    "Based on the chart above, the proportion of customers in **Africa** is **less than 10%**. When compared to other regions, which are around **30%**, the difference in the number of customers in Africa is **quite significant**. Therefore, it is not recommended at this time to open branch offices in Africa. If the company still wants to have account managers for customers in Africa, the company can place the account managers in the branch office geographically closest to Africa.\n",
    "\n",
    "Now, let's see **Demand** based on **Transaction**."
   ]
  },
  {
   "cell_type": "code",
   "execution_count": 160,
   "metadata": {},
   "outputs": [
    {
     "data": {
      "application/vnd.plotly.v1+json": {
       "config": {
        "plotlyServerURL": "https://plot.ly"
       },
       "data": [
        {
         "alignmentgroup": "True",
         "hovertemplate": "Year=2020<br>Region=%{x}<br>Demand=%{y}<extra></extra>",
         "legendgroup": "2020",
         "marker": {
          "color": "#636efa",
          "pattern": {
           "shape": ""
          }
         },
         "name": "2020",
         "offsetgroup": "2020",
         "orientation": "v",
         "showlegend": true,
         "textposition": "auto",
         "type": "bar",
         "x": [
          "AMER",
          "APAC",
          "EU"
         ],
         "xaxis": "x",
         "y": [
          180,
          18,
          80
         ],
         "yaxis": "y"
        },
        {
         "alignmentgroup": "True",
         "hovertemplate": "Year=2021<br>Region=%{x}<br>Demand=%{y}<extra></extra>",
         "legendgroup": "2021",
         "marker": {
          "color": "#EF553B",
          "pattern": {
           "shape": ""
          }
         },
         "name": "2021",
         "offsetgroup": "2021",
         "orientation": "v",
         "showlegend": true,
         "textposition": "auto",
         "type": "bar",
         "x": [
          "AMER",
          "APAC",
          "EU"
         ],
         "xaxis": "x",
         "y": [
          180,
          18,
          96
         ],
         "yaxis": "y"
        },
        {
         "alignmentgroup": "True",
         "hovertemplate": "Year=2022<br>Region=%{x}<br>Demand=%{y}<extra></extra>",
         "legendgroup": "2022",
         "marker": {
          "color": "#00cc96",
          "pattern": {
           "shape": ""
          }
         },
         "name": "2022",
         "offsetgroup": "2022",
         "orientation": "v",
         "showlegend": true,
         "textposition": "auto",
         "type": "bar",
         "x": [
          "AMER",
          "APAC",
          "EU"
         ],
         "xaxis": "x",
         "y": [
          245,
          32,
          118
         ],
         "yaxis": "y"
        },
        {
         "alignmentgroup": "True",
         "hovertemplate": "Year=2023<br>Region=%{x}<br>Demand=%{y}<extra></extra>",
         "legendgroup": "2023",
         "marker": {
          "color": "#ab63fa",
          "pattern": {
           "shape": ""
          }
         },
         "name": "2023",
         "offsetgroup": "2023",
         "orientation": "v",
         "showlegend": true,
         "textposition": "auto",
         "type": "bar",
         "x": [
          "AMER",
          "APAC",
          "EU"
         ],
         "xaxis": "x",
         "y": [
          316,
          29,
          146
         ],
         "yaxis": "y"
        }
       ],
       "layout": {
        "barmode": "group",
        "legend": {
         "title": {
          "text": "Year"
         },
         "tracegroupgap": 0
        },
        "template": {
         "data": {
          "bar": [
           {
            "error_x": {
             "color": "#2a3f5f"
            },
            "error_y": {
             "color": "#2a3f5f"
            },
            "marker": {
             "line": {
              "color": "#E5ECF6",
              "width": 0.5
             },
             "pattern": {
              "fillmode": "overlay",
              "size": 10,
              "solidity": 0.2
             }
            },
            "type": "bar"
           }
          ],
          "barpolar": [
           {
            "marker": {
             "line": {
              "color": "#E5ECF6",
              "width": 0.5
             },
             "pattern": {
              "fillmode": "overlay",
              "size": 10,
              "solidity": 0.2
             }
            },
            "type": "barpolar"
           }
          ],
          "carpet": [
           {
            "aaxis": {
             "endlinecolor": "#2a3f5f",
             "gridcolor": "white",
             "linecolor": "white",
             "minorgridcolor": "white",
             "startlinecolor": "#2a3f5f"
            },
            "baxis": {
             "endlinecolor": "#2a3f5f",
             "gridcolor": "white",
             "linecolor": "white",
             "minorgridcolor": "white",
             "startlinecolor": "#2a3f5f"
            },
            "type": "carpet"
           }
          ],
          "choropleth": [
           {
            "colorbar": {
             "outlinewidth": 0,
             "ticks": ""
            },
            "type": "choropleth"
           }
          ],
          "contour": [
           {
            "colorbar": {
             "outlinewidth": 0,
             "ticks": ""
            },
            "colorscale": [
             [
              0,
              "#0d0887"
             ],
             [
              0.1111111111111111,
              "#46039f"
             ],
             [
              0.2222222222222222,
              "#7201a8"
             ],
             [
              0.3333333333333333,
              "#9c179e"
             ],
             [
              0.4444444444444444,
              "#bd3786"
             ],
             [
              0.5555555555555556,
              "#d8576b"
             ],
             [
              0.6666666666666666,
              "#ed7953"
             ],
             [
              0.7777777777777778,
              "#fb9f3a"
             ],
             [
              0.8888888888888888,
              "#fdca26"
             ],
             [
              1,
              "#f0f921"
             ]
            ],
            "type": "contour"
           }
          ],
          "contourcarpet": [
           {
            "colorbar": {
             "outlinewidth": 0,
             "ticks": ""
            },
            "type": "contourcarpet"
           }
          ],
          "heatmap": [
           {
            "colorbar": {
             "outlinewidth": 0,
             "ticks": ""
            },
            "colorscale": [
             [
              0,
              "#0d0887"
             ],
             [
              0.1111111111111111,
              "#46039f"
             ],
             [
              0.2222222222222222,
              "#7201a8"
             ],
             [
              0.3333333333333333,
              "#9c179e"
             ],
             [
              0.4444444444444444,
              "#bd3786"
             ],
             [
              0.5555555555555556,
              "#d8576b"
             ],
             [
              0.6666666666666666,
              "#ed7953"
             ],
             [
              0.7777777777777778,
              "#fb9f3a"
             ],
             [
              0.8888888888888888,
              "#fdca26"
             ],
             [
              1,
              "#f0f921"
             ]
            ],
            "type": "heatmap"
           }
          ],
          "heatmapgl": [
           {
            "colorbar": {
             "outlinewidth": 0,
             "ticks": ""
            },
            "colorscale": [
             [
              0,
              "#0d0887"
             ],
             [
              0.1111111111111111,
              "#46039f"
             ],
             [
              0.2222222222222222,
              "#7201a8"
             ],
             [
              0.3333333333333333,
              "#9c179e"
             ],
             [
              0.4444444444444444,
              "#bd3786"
             ],
             [
              0.5555555555555556,
              "#d8576b"
             ],
             [
              0.6666666666666666,
              "#ed7953"
             ],
             [
              0.7777777777777778,
              "#fb9f3a"
             ],
             [
              0.8888888888888888,
              "#fdca26"
             ],
             [
              1,
              "#f0f921"
             ]
            ],
            "type": "heatmapgl"
           }
          ],
          "histogram": [
           {
            "marker": {
             "pattern": {
              "fillmode": "overlay",
              "size": 10,
              "solidity": 0.2
             }
            },
            "type": "histogram"
           }
          ],
          "histogram2d": [
           {
            "colorbar": {
             "outlinewidth": 0,
             "ticks": ""
            },
            "colorscale": [
             [
              0,
              "#0d0887"
             ],
             [
              0.1111111111111111,
              "#46039f"
             ],
             [
              0.2222222222222222,
              "#7201a8"
             ],
             [
              0.3333333333333333,
              "#9c179e"
             ],
             [
              0.4444444444444444,
              "#bd3786"
             ],
             [
              0.5555555555555556,
              "#d8576b"
             ],
             [
              0.6666666666666666,
              "#ed7953"
             ],
             [
              0.7777777777777778,
              "#fb9f3a"
             ],
             [
              0.8888888888888888,
              "#fdca26"
             ],
             [
              1,
              "#f0f921"
             ]
            ],
            "type": "histogram2d"
           }
          ],
          "histogram2dcontour": [
           {
            "colorbar": {
             "outlinewidth": 0,
             "ticks": ""
            },
            "colorscale": [
             [
              0,
              "#0d0887"
             ],
             [
              0.1111111111111111,
              "#46039f"
             ],
             [
              0.2222222222222222,
              "#7201a8"
             ],
             [
              0.3333333333333333,
              "#9c179e"
             ],
             [
              0.4444444444444444,
              "#bd3786"
             ],
             [
              0.5555555555555556,
              "#d8576b"
             ],
             [
              0.6666666666666666,
              "#ed7953"
             ],
             [
              0.7777777777777778,
              "#fb9f3a"
             ],
             [
              0.8888888888888888,
              "#fdca26"
             ],
             [
              1,
              "#f0f921"
             ]
            ],
            "type": "histogram2dcontour"
           }
          ],
          "mesh3d": [
           {
            "colorbar": {
             "outlinewidth": 0,
             "ticks": ""
            },
            "type": "mesh3d"
           }
          ],
          "parcoords": [
           {
            "line": {
             "colorbar": {
              "outlinewidth": 0,
              "ticks": ""
             }
            },
            "type": "parcoords"
           }
          ],
          "pie": [
           {
            "automargin": true,
            "type": "pie"
           }
          ],
          "scatter": [
           {
            "fillpattern": {
             "fillmode": "overlay",
             "size": 10,
             "solidity": 0.2
            },
            "type": "scatter"
           }
          ],
          "scatter3d": [
           {
            "line": {
             "colorbar": {
              "outlinewidth": 0,
              "ticks": ""
             }
            },
            "marker": {
             "colorbar": {
              "outlinewidth": 0,
              "ticks": ""
             }
            },
            "type": "scatter3d"
           }
          ],
          "scattercarpet": [
           {
            "marker": {
             "colorbar": {
              "outlinewidth": 0,
              "ticks": ""
             }
            },
            "type": "scattercarpet"
           }
          ],
          "scattergeo": [
           {
            "marker": {
             "colorbar": {
              "outlinewidth": 0,
              "ticks": ""
             }
            },
            "type": "scattergeo"
           }
          ],
          "scattergl": [
           {
            "marker": {
             "colorbar": {
              "outlinewidth": 0,
              "ticks": ""
             }
            },
            "type": "scattergl"
           }
          ],
          "scattermapbox": [
           {
            "marker": {
             "colorbar": {
              "outlinewidth": 0,
              "ticks": ""
             }
            },
            "type": "scattermapbox"
           }
          ],
          "scatterpolar": [
           {
            "marker": {
             "colorbar": {
              "outlinewidth": 0,
              "ticks": ""
             }
            },
            "type": "scatterpolar"
           }
          ],
          "scatterpolargl": [
           {
            "marker": {
             "colorbar": {
              "outlinewidth": 0,
              "ticks": ""
             }
            },
            "type": "scatterpolargl"
           }
          ],
          "scatterternary": [
           {
            "marker": {
             "colorbar": {
              "outlinewidth": 0,
              "ticks": ""
             }
            },
            "type": "scatterternary"
           }
          ],
          "surface": [
           {
            "colorbar": {
             "outlinewidth": 0,
             "ticks": ""
            },
            "colorscale": [
             [
              0,
              "#0d0887"
             ],
             [
              0.1111111111111111,
              "#46039f"
             ],
             [
              0.2222222222222222,
              "#7201a8"
             ],
             [
              0.3333333333333333,
              "#9c179e"
             ],
             [
              0.4444444444444444,
              "#bd3786"
             ],
             [
              0.5555555555555556,
              "#d8576b"
             ],
             [
              0.6666666666666666,
              "#ed7953"
             ],
             [
              0.7777777777777778,
              "#fb9f3a"
             ],
             [
              0.8888888888888888,
              "#fdca26"
             ],
             [
              1,
              "#f0f921"
             ]
            ],
            "type": "surface"
           }
          ],
          "table": [
           {
            "cells": {
             "fill": {
              "color": "#EBF0F8"
             },
             "line": {
              "color": "white"
             }
            },
            "header": {
             "fill": {
              "color": "#C8D4E3"
             },
             "line": {
              "color": "white"
             }
            },
            "type": "table"
           }
          ]
         },
         "layout": {
          "annotationdefaults": {
           "arrowcolor": "#2a3f5f",
           "arrowhead": 0,
           "arrowwidth": 1
          },
          "autotypenumbers": "strict",
          "coloraxis": {
           "colorbar": {
            "outlinewidth": 0,
            "ticks": ""
           }
          },
          "colorscale": {
           "diverging": [
            [
             0,
             "#8e0152"
            ],
            [
             0.1,
             "#c51b7d"
            ],
            [
             0.2,
             "#de77ae"
            ],
            [
             0.3,
             "#f1b6da"
            ],
            [
             0.4,
             "#fde0ef"
            ],
            [
             0.5,
             "#f7f7f7"
            ],
            [
             0.6,
             "#e6f5d0"
            ],
            [
             0.7,
             "#b8e186"
            ],
            [
             0.8,
             "#7fbc41"
            ],
            [
             0.9,
             "#4d9221"
            ],
            [
             1,
             "#276419"
            ]
           ],
           "sequential": [
            [
             0,
             "#0d0887"
            ],
            [
             0.1111111111111111,
             "#46039f"
            ],
            [
             0.2222222222222222,
             "#7201a8"
            ],
            [
             0.3333333333333333,
             "#9c179e"
            ],
            [
             0.4444444444444444,
             "#bd3786"
            ],
            [
             0.5555555555555556,
             "#d8576b"
            ],
            [
             0.6666666666666666,
             "#ed7953"
            ],
            [
             0.7777777777777778,
             "#fb9f3a"
            ],
            [
             0.8888888888888888,
             "#fdca26"
            ],
            [
             1,
             "#f0f921"
            ]
           ],
           "sequentialminus": [
            [
             0,
             "#0d0887"
            ],
            [
             0.1111111111111111,
             "#46039f"
            ],
            [
             0.2222222222222222,
             "#7201a8"
            ],
            [
             0.3333333333333333,
             "#9c179e"
            ],
            [
             0.4444444444444444,
             "#bd3786"
            ],
            [
             0.5555555555555556,
             "#d8576b"
            ],
            [
             0.6666666666666666,
             "#ed7953"
            ],
            [
             0.7777777777777778,
             "#fb9f3a"
            ],
            [
             0.8888888888888888,
             "#fdca26"
            ],
            [
             1,
             "#f0f921"
            ]
           ]
          },
          "colorway": [
           "#636efa",
           "#EF553B",
           "#00cc96",
           "#ab63fa",
           "#FFA15A",
           "#19d3f3",
           "#FF6692",
           "#B6E880",
           "#FF97FF",
           "#FECB52"
          ],
          "font": {
           "color": "#2a3f5f"
          },
          "geo": {
           "bgcolor": "white",
           "lakecolor": "white",
           "landcolor": "#E5ECF6",
           "showlakes": true,
           "showland": true,
           "subunitcolor": "white"
          },
          "hoverlabel": {
           "align": "left"
          },
          "hovermode": "closest",
          "mapbox": {
           "style": "light"
          },
          "paper_bgcolor": "white",
          "plot_bgcolor": "#E5ECF6",
          "polar": {
           "angularaxis": {
            "gridcolor": "white",
            "linecolor": "white",
            "ticks": ""
           },
           "bgcolor": "#E5ECF6",
           "radialaxis": {
            "gridcolor": "white",
            "linecolor": "white",
            "ticks": ""
           }
          },
          "scene": {
           "xaxis": {
            "backgroundcolor": "#E5ECF6",
            "gridcolor": "white",
            "gridwidth": 2,
            "linecolor": "white",
            "showbackground": true,
            "ticks": "",
            "zerolinecolor": "white"
           },
           "yaxis": {
            "backgroundcolor": "#E5ECF6",
            "gridcolor": "white",
            "gridwidth": 2,
            "linecolor": "white",
            "showbackground": true,
            "ticks": "",
            "zerolinecolor": "white"
           },
           "zaxis": {
            "backgroundcolor": "#E5ECF6",
            "gridcolor": "white",
            "gridwidth": 2,
            "linecolor": "white",
            "showbackground": true,
            "ticks": "",
            "zerolinecolor": "white"
           }
          },
          "shapedefaults": {
           "line": {
            "color": "#2a3f5f"
           }
          },
          "ternary": {
           "aaxis": {
            "gridcolor": "white",
            "linecolor": "white",
            "ticks": ""
           },
           "baxis": {
            "gridcolor": "white",
            "linecolor": "white",
            "ticks": ""
           },
           "bgcolor": "#E5ECF6",
           "caxis": {
            "gridcolor": "white",
            "linecolor": "white",
            "ticks": ""
           }
          },
          "title": {
           "x": 0.05
          },
          "xaxis": {
           "automargin": true,
           "gridcolor": "white",
           "linecolor": "white",
           "ticks": "",
           "title": {
            "standoff": 15
           },
           "zerolinecolor": "white",
           "zerolinewidth": 2
          },
          "yaxis": {
           "automargin": true,
           "gridcolor": "white",
           "linecolor": "white",
           "ticks": "",
           "title": {
            "standoff": 15
           },
           "zerolinecolor": "white",
           "zerolinewidth": 2
          }
         }
        },
        "title": {
         "text": "Average Demand per Year and Region"
        },
        "xaxis": {
         "anchor": "y",
         "domain": [
          0,
          1
         ],
         "title": {
          "text": "Region"
         }
        },
        "yaxis": {
         "anchor": "x",
         "domain": [
          0,
          1
         ],
         "title": {
          "text": "Demand"
         }
        }
       }
      }
     },
     "metadata": {},
     "output_type": "display_data"
    },
    {
     "data": {
      "text/plain": [
       "None"
      ]
     },
     "metadata": {},
     "output_type": "display_data"
    },
    {
     "data": {
      "text/html": [
       "<div>\n",
       "<style scoped>\n",
       "    .dataframe tbody tr th:only-of-type {\n",
       "        vertical-align: middle;\n",
       "    }\n",
       "\n",
       "    .dataframe tbody tr th {\n",
       "        vertical-align: top;\n",
       "    }\n",
       "\n",
       "    .dataframe thead th {\n",
       "        text-align: right;\n",
       "    }\n",
       "</style>\n",
       "<table border=\"1\" class=\"dataframe\">\n",
       "  <thead>\n",
       "    <tr style=\"text-align: right;\">\n",
       "      <th>Year</th>\n",
       "      <th>Region</th>\n",
       "      <th>2020</th>\n",
       "      <th>2021</th>\n",
       "      <th>2022</th>\n",
       "      <th>2023</th>\n",
       "    </tr>\n",
       "  </thead>\n",
       "  <tbody>\n",
       "    <tr>\n",
       "      <th>0</th>\n",
       "      <td>AMER</td>\n",
       "      <td>180.0</td>\n",
       "      <td>180.0</td>\n",
       "      <td>245.0</td>\n",
       "      <td>316.0</td>\n",
       "    </tr>\n",
       "    <tr>\n",
       "      <th>1</th>\n",
       "      <td>APAC</td>\n",
       "      <td>18.0</td>\n",
       "      <td>18.0</td>\n",
       "      <td>32.0</td>\n",
       "      <td>29.0</td>\n",
       "    </tr>\n",
       "    <tr>\n",
       "      <th>2</th>\n",
       "      <td>EU</td>\n",
       "      <td>80.0</td>\n",
       "      <td>96.0</td>\n",
       "      <td>118.0</td>\n",
       "      <td>146.0</td>\n",
       "    </tr>\n",
       "  </tbody>\n",
       "</table>\n",
       "</div>"
      ],
      "text/plain": [
       "Year Region   2020   2021   2022   2023\n",
       "0      AMER  180.0  180.0  245.0  316.0\n",
       "1      APAC   18.0   18.0   32.0   29.0\n",
       "2        EU   80.0   96.0  118.0  146.0"
      ]
     },
     "metadata": {},
     "output_type": "display_data"
    }
   ],
   "source": [
    "#Create demand table\n",
    "list_demand = []\n",
    "for x in source['Year'].unique():\n",
    "    for z in source[source['Region'] != 'AFR']['Region'].unique():\n",
    "            for y in source['Subregion'].unique():\n",
    "                list_demand.append([x, z, y, source[(source['Year'] == x) & (source['Region'] == z) & (source['Subregion'] == y)]['Order ID'].nunique()])\n",
    "demand = pd.DataFrame(data = list_demand,\n",
    "                               columns = ['Year', 'Region', 'Subregion', 'Demand'])\n",
    "demand = demand[demand['Demand'] != 0]\n",
    "demand.sort_values(by=['Year', 'Region'], inplace=True)\n",
    "demand.reset_index(inplace=True)\n",
    "demand.drop('index', axis=1, inplace=True)\n",
    "\n",
    "#Create pivot table for examine Average Demand on Every Region\n",
    "average_demand = demand.pivot_table(values='Demand', index='Region', columns='Year', aggfunc='median')\n",
    "average_demand = average_demand.round(0)\n",
    "average_demand.reset_index(inplace=True)\n",
    "\n",
    "#Create Bar Chart\n",
    "fig_demand = px.bar(average_demand, x='Region', y=[c for c in average_demand.columns if c != 'Region'],\n",
    "             title='Average Demand per Year and Region',\n",
    "             labels={'value': 'Demand', 'variable': 'Year'},\n",
    "             barmode='group')\n",
    "display(fig_demand.show(), average_demand)"
   ]
  },
  {
   "cell_type": "markdown",
   "metadata": {},
   "source": [
    "We have determined the **Average Demand** from the regions of the Americas, Asia-Pacific, and Europe each year. We will use the **Average Demand** as a Parameter to further identify the **Demand** from each **Subregion** of every region."
   ]
  },
  {
   "cell_type": "code",
   "execution_count": 161,
   "metadata": {},
   "outputs": [
    {
     "data": {
      "image/png": "[encoded data removed]",
      "text/plain": [
       "<Figure size 1366x960 with 4 Axes>"
      ]
     },
     "metadata": {},
     "output_type": "display_data"
    }
   ],
   "source": [
    "#Let's see distribution of the data\n",
    "number = ['Sales', 'Profit', 'Quantity', 'Discount']\n",
    "canvas = 0\n",
    "n_width = 2\n",
    "n_rows = 2\n",
    "plt.figure(figsize=(13.66, 9.6))\n",
    "for d in range(n_rows):\n",
    "    for f in range(n_width):\n",
    "        if canvas == 5:\n",
    "            break\n",
    "        else:\n",
    "            plt.subplot(n_rows, n_width, canvas+1)\n",
    "            sns.histplot(data=source, x=number[canvas])\n",
    "            plt.title(f'Distribution of {number[canvas]}')\n",
    "            canvas+=1\n",
    "plt.suptitle('Distribution Data of Sales Gamma Ltd.', size=28, y=1.00)\n",
    "plt.show()"
   ]
  },
  {
   "cell_type": "markdown",
   "metadata": {},
   "source": [
    "We can see from chart above, our dataset doesn't distribute normally. So, we gonna should use median value as average parameter for our analysis."
   ]
  },
  {
   "cell_type": "code",
   "execution_count": 162,
   "metadata": {},
   "outputs": [
    {
     "data": {
      "application/vnd.plotly.v1+json": {
       "config": {
        "plotlyServerURL": "https://plot.ly"
       },
       "data": [
        {
         "alignmentgroup": "True",
         "hovertemplate": "Year=2020<br>Region=%{x}<br>Customer Spending=%{y}<extra></extra>",
         "legendgroup": "2020",
         "marker": {
          "color": "#636efa",
          "pattern": {
           "shape": ""
          }
         },
         "name": "2020",
         "offsetgroup": "2020",
         "orientation": "v",
         "showlegend": true,
         "textposition": "auto",
         "type": "bar",
         "x": [
          "AMER",
          "APAC",
          "EU"
         ],
         "xaxis": "x",
         "y": [
          57.8,
          38.27,
          52.6
         ],
         "yaxis": "y"
        },
        {
         "alignmentgroup": "True",
         "hovertemplate": "Year=2021<br>Region=%{x}<br>Customer Spending=%{y}<extra></extra>",
         "legendgroup": "2021",
         "marker": {
          "color": "#EF553B",
          "pattern": {
           "shape": ""
          }
         },
         "name": "2021",
         "offsetgroup": "2021",
         "orientation": "v",
         "showlegend": true,
         "textposition": "auto",
         "type": "bar",
         "x": [
          "AMER",
          "APAC",
          "EU"
         ],
         "xaxis": "x",
         "y": [
          63.96,
          53.5,
          55.96
         ],
         "yaxis": "y"
        },
        {
         "alignmentgroup": "True",
         "hovertemplate": "Year=2022<br>Region=%{x}<br>Customer Spending=%{y}<extra></extra>",
         "legendgroup": "2022",
         "marker": {
          "color": "#00cc96",
          "pattern": {
           "shape": ""
          }
         },
         "name": "2022",
         "offsetgroup": "2022",
         "orientation": "v",
         "showlegend": true,
         "textposition": "auto",
         "type": "bar",
         "x": [
          "AMER",
          "APAC",
          "EU"
         ],
         "xaxis": "x",
         "y": [
          53.98,
          44.92,
          60.12
         ],
         "yaxis": "y"
        },
        {
         "alignmentgroup": "True",
         "hovertemplate": "Year=2023<br>Region=%{x}<br>Customer Spending=%{y}<extra></extra>",
         "legendgroup": "2023",
         "marker": {
          "color": "#ab63fa",
          "pattern": {
           "shape": ""
          }
         },
         "name": "2023",
         "offsetgroup": "2023",
         "orientation": "v",
         "showlegend": true,
         "textposition": "auto",
         "type": "bar",
         "x": [
          "AMER",
          "APAC",
          "EU"
         ],
         "xaxis": "x",
         "y": [
          65.26,
          42.99,
          49.62
         ],
         "yaxis": "y"
        }
       ],
       "layout": {
        "barmode": "group",
        "legend": {
         "title": {
          "text": "Year"
         },
         "tracegroupgap": 0
        },
        "template": {
         "data": {
          "bar": [
           {
            "error_x": {
             "color": "#2a3f5f"
            },
            "error_y": {
             "color": "#2a3f5f"
            },
            "marker": {
             "line": {
              "color": "#E5ECF6",
              "width": 0.5
             },
             "pattern": {
              "fillmode": "overlay",
              "size": 10,
              "solidity": 0.2
             }
            },
            "type": "bar"
           }
          ],
          "barpolar": [
           {
            "marker": {
             "line": {
              "color": "#E5ECF6",
              "width": 0.5
             },
             "pattern": {
              "fillmode": "overlay",
              "size": 10,
              "solidity": 0.2
             }
            },
            "type": "barpolar"
           }
          ],
          "carpet": [
           {
            "aaxis": {
             "endlinecolor": "#2a3f5f",
             "gridcolor": "white",
             "linecolor": "white",
             "minorgridcolor": "white",
             "startlinecolor": "#2a3f5f"
            },
            "baxis": {
             "endlinecolor": "#2a3f5f",
             "gridcolor": "white",
             "linecolor": "white",
             "minorgridcolor": "white",
             "startlinecolor": "#2a3f5f"
            },
            "type": "carpet"
           }
          ],
          "choropleth": [
           {
            "colorbar": {
             "outlinewidth": 0,
             "ticks": ""
            },
            "type": "choropleth"
           }
          ],
          "contour": [
           {
            "colorbar": {
             "outlinewidth": 0,
             "ticks": ""
            },
            "colorscale": [
             [
              0,
              "#0d0887"
             ],
             [
              0.1111111111111111,
              "#46039f"
             ],
             [
              0.2222222222222222,
              "#7201a8"
             ],
             [
              0.3333333333333333,
              "#9c179e"
             ],
             [
              0.4444444444444444,
              "#bd3786"
             ],
             [
              0.5555555555555556,
              "#d8576b"
             ],
             [
              0.6666666666666666,
              "#ed7953"
             ],
             [
              0.7777777777777778,
              "#fb9f3a"
             ],
             [
              0.8888888888888888,
              "#fdca26"
             ],
             [
              1,
              "#f0f921"
             ]
            ],
            "type": "contour"
           }
          ],
          "contourcarpet": [
           {
            "colorbar": {
             "outlinewidth": 0,
             "ticks": ""
            },
            "type": "contourcarpet"
           }
          ],
          "heatmap": [
           {
            "colorbar": {
             "outlinewidth": 0,
             "ticks": ""
            },
            "colorscale": [
             [
              0,
              "#0d0887"
             ],
             [
              0.1111111111111111,
              "#46039f"
             ],
             [
              0.2222222222222222,
              "#7201a8"
             ],
             [
              0.3333333333333333,
              "#9c179e"
             ],
             [
              0.4444444444444444,
              "#bd3786"
             ],
             [
              0.5555555555555556,
              "#d8576b"
             ],
             [
              0.6666666666666666,
              "#ed7953"
             ],
             [
              0.7777777777777778,
              "#fb9f3a"
             ],
             [
              0.8888888888888888,
              "#fdca26"
             ],
             [
              1,
              "#f0f921"
             ]
            ],
            "type": "heatmap"
           }
          ],
          "heatmapgl": [
           {
            "colorbar": {
             "outlinewidth": 0,
             "ticks": ""
            },
            "colorscale": [
             [
              0,
              "#0d0887"
             ],
             [
              0.1111111111111111,
              "#46039f"
             ],
             [
              0.2222222222222222,
              "#7201a8"
             ],
             [
              0.3333333333333333,
              "#9c179e"
             ],
             [
              0.4444444444444444,
              "#bd3786"
             ],
             [
              0.5555555555555556,
              "#d8576b"
             ],
             [
              0.6666666666666666,
              "#ed7953"
             ],
             [
              0.7777777777777778,
              "#fb9f3a"
             ],
             [
              0.8888888888888888,
              "#fdca26"
             ],
             [
              1,
              "#f0f921"
             ]
            ],
            "type": "heatmapgl"
           }
          ],
          "histogram": [
           {
            "marker": {
             "pattern": {
              "fillmode": "overlay",
              "size": 10,
              "solidity": 0.2
             }
            },
            "type": "histogram"
           }
          ],
          "histogram2d": [
           {
            "colorbar": {
             "outlinewidth": 0,
             "ticks": ""
            },
            "colorscale": [
             [
              0,
              "#0d0887"
             ],
             [
              0.1111111111111111,
              "#46039f"
             ],
             [
              0.2222222222222222,
              "#7201a8"
             ],
             [
              0.3333333333333333,
              "#9c179e"
             ],
             [
              0.4444444444444444,
              "#bd3786"
             ],
             [
              0.5555555555555556,
              "#d8576b"
             ],
             [
              0.6666666666666666,
              "#ed7953"
             ],
             [
              0.7777777777777778,
              "#fb9f3a"
             ],
             [
              0.8888888888888888,
              "#fdca26"
             ],
             [
              1,
              "#f0f921"
             ]
            ],
            "type": "histogram2d"
           }
          ],
          "histogram2dcontour": [
           {
            "colorbar": {
             "outlinewidth": 0,
             "ticks": ""
            },
            "colorscale": [
             [
              0,
              "#0d0887"
             ],
             [
              0.1111111111111111,
              "#46039f"
             ],
             [
              0.2222222222222222,
              "#7201a8"
             ],
             [
              0.3333333333333333,
              "#9c179e"
             ],
             [
              0.4444444444444444,
              "#bd3786"
             ],
             [
              0.5555555555555556,
              "#d8576b"
             ],
             [
              0.6666666666666666,
              "#ed7953"
             ],
             [
              0.7777777777777778,
              "#fb9f3a"
             ],
             [
              0.8888888888888888,
              "#fdca26"
             ],
             [
              1,
              "#f0f921"
             ]
            ],
            "type": "histogram2dcontour"
           }
          ],
          "mesh3d": [
           {
            "colorbar": {
             "outlinewidth": 0,
             "ticks": ""
            },
            "type": "mesh3d"
           }
          ],
          "parcoords": [
           {
            "line": {
             "colorbar": {
              "outlinewidth": 0,
              "ticks": ""
             }
            },
            "type": "parcoords"
           }
          ],
          "pie": [
           {
            "automargin": true,
            "type": "pie"
           }
          ],
          "scatter": [
           {
            "fillpattern": {
             "fillmode": "overlay",
             "size": 10,
             "solidity": 0.2
            },
            "type": "scatter"
           }
          ],
          "scatter3d": [
           {
            "line": {
             "colorbar": {
              "outlinewidth": 0,
              "ticks": ""
             }
            },
            "marker": {
             "colorbar": {
              "outlinewidth": 0,
              "ticks": ""
             }
            },
            "type": "scatter3d"
           }
          ],
          "scattercarpet": [
           {
            "marker": {
             "colorbar": {
              "outlinewidth": 0,
              "ticks": ""
             }
            },
            "type": "scattercarpet"
           }
          ],
          "scattergeo": [
           {
            "marker": {
             "colorbar": {
              "outlinewidth": 0,
              "ticks": ""
             }
            },
            "type": "scattergeo"
           }
          ],
          "scattergl": [
           {
            "marker": {
             "colorbar": {
              "outlinewidth": 0,
              "ticks": ""
             }
            },
            "type": "scattergl"
           }
          ],
          "scattermapbox": [
           {
            "marker": {
             "colorbar": {
              "outlinewidth": 0,
              "ticks": ""
             }
            },
            "type": "scattermapbox"
           }
          ],
          "scatterpolar": [
           {
            "marker": {
             "colorbar": {
              "outlinewidth": 0,
              "ticks": ""
             }
            },
            "type": "scatterpolar"
           }
          ],
          "scatterpolargl": [
           {
            "marker": {
             "colorbar": {
              "outlinewidth": 0,
              "ticks": ""
             }
            },
            "type": "scatterpolargl"
           }
          ],
          "scatterternary": [
           {
            "marker": {
             "colorbar": {
              "outlinewidth": 0,
              "ticks": ""
             }
            },
            "type": "scatterternary"
           }
          ],
          "surface": [
           {
            "colorbar": {
             "outlinewidth": 0,
             "ticks": ""
            },
            "colorscale": [
             [
              0,
              "#0d0887"
             ],
             [
              0.1111111111111111,
              "#46039f"
             ],
             [
              0.2222222222222222,
              "#7201a8"
             ],
             [
              0.3333333333333333,
              "#9c179e"
             ],
             [
              0.4444444444444444,
              "#bd3786"
             ],
             [
              0.5555555555555556,
              "#d8576b"
             ],
             [
              0.6666666666666666,
              "#ed7953"
             ],
             [
              0.7777777777777778,
              "#fb9f3a"
             ],
             [
              0.8888888888888888,
              "#fdca26"
             ],
             [
              1,
              "#f0f921"
             ]
            ],
            "type": "surface"
           }
          ],
          "table": [
           {
            "cells": {
             "fill": {
              "color": "#EBF0F8"
             },
             "line": {
              "color": "white"
             }
            },
            "header": {
             "fill": {
              "color": "#C8D4E3"
             },
             "line": {
              "color": "white"
             }
            },
            "type": "table"
           }
          ]
         },
         "layout": {
          "annotationdefaults": {
           "arrowcolor": "#2a3f5f",
           "arrowhead": 0,
           "arrowwidth": 1
          },
          "autotypenumbers": "strict",
          "coloraxis": {
           "colorbar": {
            "outlinewidth": 0,
            "ticks": ""
           }
          },
          "colorscale": {
           "diverging": [
            [
             0,
             "#8e0152"
            ],
            [
             0.1,
             "#c51b7d"
            ],
            [
             0.2,
             "#de77ae"
            ],
            [
             0.3,
             "#f1b6da"
            ],
            [
             0.4,
             "#fde0ef"
            ],
            [
             0.5,
             "#f7f7f7"
            ],
            [
             0.6,
             "#e6f5d0"
            ],
            [
             0.7,
             "#b8e186"
            ],
            [
             0.8,
             "#7fbc41"
            ],
            [
             0.9,
             "#4d9221"
            ],
            [
             1,
             "#276419"
            ]
           ],
           "sequential": [
            [
             0,
             "#0d0887"
            ],
            [
             0.1111111111111111,
             "#46039f"
            ],
            [
             0.2222222222222222,
             "#7201a8"
            ],
            [
             0.3333333333333333,
             "#9c179e"
            ],
            [
             0.4444444444444444,
             "#bd3786"
            ],
            [
             0.5555555555555556,
             "#d8576b"
            ],
            [
             0.6666666666666666,
             "#ed7953"
            ],
            [
             0.7777777777777778,
             "#fb9f3a"
            ],
            [
             0.8888888888888888,
             "#fdca26"
            ],
            [
             1,
             "#f0f921"
            ]
           ],
           "sequentialminus": [
            [
             0,
             "#0d0887"
            ],
            [
             0.1111111111111111,
             "#46039f"
            ],
            [
             0.2222222222222222,
             "#7201a8"
            ],
            [
             0.3333333333333333,
             "#9c179e"
            ],
            [
             0.4444444444444444,
             "#bd3786"
            ],
            [
             0.5555555555555556,
             "#d8576b"
            ],
            [
             0.6666666666666666,
             "#ed7953"
            ],
            [
             0.7777777777777778,
             "#fb9f3a"
            ],
            [
             0.8888888888888888,
             "#fdca26"
            ],
            [
             1,
             "#f0f921"
            ]
           ]
          },
          "colorway": [
           "#636efa",
           "#EF553B",
           "#00cc96",
           "#ab63fa",
           "#FFA15A",
           "#19d3f3",
           "#FF6692",
           "#B6E880",
           "#FF97FF",
           "#FECB52"
          ],
          "font": {
           "color": "#2a3f5f"
          },
          "geo": {
           "bgcolor": "white",
           "lakecolor": "white",
           "landcolor": "#E5ECF6",
           "showlakes": true,
           "showland": true,
           "subunitcolor": "white"
          },
          "hoverlabel": {
           "align": "left"
          },
          "hovermode": "closest",
          "mapbox": {
           "style": "light"
          },
          "paper_bgcolor": "white",
          "plot_bgcolor": "#E5ECF6",
          "polar": {
           "angularaxis": {
            "gridcolor": "white",
            "linecolor": "white",
            "ticks": ""
           },
           "bgcolor": "#E5ECF6",
           "radialaxis": {
            "gridcolor": "white",
            "linecolor": "white",
            "ticks": ""
           }
          },
          "scene": {
           "xaxis": {
            "backgroundcolor": "#E5ECF6",
            "gridcolor": "white",
            "gridwidth": 2,
            "linecolor": "white",
            "showbackground": true,
            "ticks": "",
            "zerolinecolor": "white"
           },
           "yaxis": {
            "backgroundcolor": "#E5ECF6",
            "gridcolor": "white",
            "gridwidth": 2,
            "linecolor": "white",
            "showbackground": true,
            "ticks": "",
            "zerolinecolor": "white"
           },
           "zaxis": {
            "backgroundcolor": "#E5ECF6",
            "gridcolor": "white",
            "gridwidth": 2,
            "linecolor": "white",
            "showbackground": true,
            "ticks": "",
            "zerolinecolor": "white"
           }
          },
          "shapedefaults": {
           "line": {
            "color": "#2a3f5f"
           }
          },
          "ternary": {
           "aaxis": {
            "gridcolor": "white",
            "linecolor": "white",
            "ticks": ""
           },
           "baxis": {
            "gridcolor": "white",
            "linecolor": "white",
            "ticks": ""
           },
           "bgcolor": "#E5ECF6",
           "caxis": {
            "gridcolor": "white",
            "linecolor": "white",
            "ticks": ""
           }
          },
          "title": {
           "x": 0.05
          },
          "xaxis": {
           "automargin": true,
           "gridcolor": "white",
           "linecolor": "white",
           "ticks": "",
           "title": {
            "standoff": 15
           },
           "zerolinecolor": "white",
           "zerolinewidth": 2
          },
          "yaxis": {
           "automargin": true,
           "gridcolor": "white",
           "linecolor": "white",
           "ticks": "",
           "title": {
            "standoff": 15
           },
           "zerolinecolor": "white",
           "zerolinewidth": 2
          }
         }
        },
        "title": {
         "text": "Spending Customer per Year and Region in thousand USD"
        },
        "xaxis": {
         "anchor": "y",
         "domain": [
          0,
          1
         ],
         "title": {
          "text": "Region"
         }
        },
        "yaxis": {
         "anchor": "x",
         "domain": [
          0,
          1
         ],
         "title": {
          "text": "Customer Spending"
         }
        }
       }
      }
     },
     "metadata": {},
     "output_type": "display_data"
    },
    {
     "data": {
      "text/plain": [
       "None"
      ]
     },
     "metadata": {},
     "output_type": "display_data"
    },
    {
     "data": {
      "text/html": [
       "<div>\n",
       "<style scoped>\n",
       "    .dataframe tbody tr th:only-of-type {\n",
       "        vertical-align: middle;\n",
       "    }\n",
       "\n",
       "    .dataframe tbody tr th {\n",
       "        vertical-align: top;\n",
       "    }\n",
       "\n",
       "    .dataframe thead th {\n",
       "        text-align: right;\n",
       "    }\n",
       "</style>\n",
       "<table border=\"1\" class=\"dataframe\">\n",
       "  <thead>\n",
       "    <tr style=\"text-align: right;\">\n",
       "      <th>Year</th>\n",
       "      <th>Region</th>\n",
       "      <th>2020</th>\n",
       "      <th>2021</th>\n",
       "      <th>2022</th>\n",
       "      <th>2023</th>\n",
       "    </tr>\n",
       "  </thead>\n",
       "  <tbody>\n",
       "    <tr>\n",
       "      <th>1</th>\n",
       "      <td>AMER</td>\n",
       "      <td>57.80</td>\n",
       "      <td>63.96</td>\n",
       "      <td>53.98</td>\n",
       "      <td>65.26</td>\n",
       "    </tr>\n",
       "    <tr>\n",
       "      <th>2</th>\n",
       "      <td>APAC</td>\n",
       "      <td>38.27</td>\n",
       "      <td>53.50</td>\n",
       "      <td>44.92</td>\n",
       "      <td>42.99</td>\n",
       "    </tr>\n",
       "    <tr>\n",
       "      <th>3</th>\n",
       "      <td>EU</td>\n",
       "      <td>52.60</td>\n",
       "      <td>55.96</td>\n",
       "      <td>60.12</td>\n",
       "      <td>49.62</td>\n",
       "    </tr>\n",
       "  </tbody>\n",
       "</table>\n",
       "</div>"
      ],
      "text/plain": [
       "Year Region   2020   2021   2022   2023\n",
       "1      AMER  57.80  63.96  53.98  65.26\n",
       "2      APAC  38.27  53.50  44.92  42.99\n",
       "3        EU  52.60  55.96  60.12  49.62"
      ]
     },
     "metadata": {},
     "output_type": "display_data"
    }
   ],
   "source": [
    "#Compute Customer Spending Every Region\n",
    "median_sales = source.pivot_table(index='Region', columns='Year', values='Sales', aggfunc='median')\n",
    "median_sales.reset_index(inplace=True)\n",
    "median_sales = median_sales[1:]\n",
    "median_sales = median_sales.round(2)\n",
    "\n",
    "#Create Bar Chart\n",
    "fig_spending = px.bar(median_sales, x='Region', y=[c for c in median_sales.columns if c != 'Region'],\n",
    "             title='Spending Customer per Year and Region in thousand USD',\n",
    "             labels={'value': 'Customer Spending', 'variable': 'Year'},\n",
    "             barmode='group')\n",
    "display(fig_spending.show(), median_sales)"
   ]
  },
  {
   "cell_type": "markdown",
   "metadata": {},
   "source": [
    "We have determined the **Customer Spending** from the regions of the Americas, Asia-Pacific, and Europe each year. We will use the **Customer Spending** as a Parameter to further identify the **Customer Spending** from each **Subregion** of every **Region**."
   ]
  },
  {
   "cell_type": "markdown",
   "metadata": {},
   "source": [
    "Now, we already have our **Parameters** as based to determine potential location for new **Gamma Branch Office** locations. Further analysis, shall we go to tableau via link below:\n",
    "\n",
    "https://public.tableau.com/views/Shidqi_JCDS0406011_CapstoneModul2/DistributionofCustomer?:language=en-US&:display_count=n&:origin=viz_share_link\n",
    "\n",
    "For see deeper our data "
   ]
  }
 ],
 "metadata": {
  "kernelspec": {
   "display_name": "base",
   "language": "python",
   "name": "python3"
  },
  "language_info": {
   "codemirror_mode": {
    "name": "ipython",
    "version": 3
   },
   "file_extension": ".py",
   "mimetype": "text/x-python",
   "name": "python",
   "nbconvert_exporter": "python",
   "pygments_lexer": "ipython3",
   "version": "3.11.4"
  }
 },
 "nbformat": 4,
 "nbformat_minor": 2
}
